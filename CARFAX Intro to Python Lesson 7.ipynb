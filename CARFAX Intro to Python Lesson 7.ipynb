{
 "cells": [
  {
   "cell_type": "code",
   "execution_count": 1,
   "id": "612d174a",
   "metadata": {},
   "outputs": [
    {
     "data": {
      "text/html": [
       "\n",
       "<style>\n",
       "    div#notebook-container    { width: 90%; }\n",
       "    div#menubar-container     { width: 65%; }\n",
       "    div#maintoolbar-container { width: 99%; }\n",
       "</style>\n"
      ],
      "text/plain": [
       "<IPython.core.display.HTML object>"
      ]
     },
     "metadata": {},
     "output_type": "display_data"
    },
    {
     "ename": "ModuleNotFoundError",
     "evalue": "No module named 'shap'",
     "output_type": "error",
     "traceback": [
      "\u001b[1;31m---------------------------------------------------------------------------\u001b[0m",
      "\u001b[1;31mModuleNotFoundError\u001b[0m                       Traceback (most recent call last)",
      "Cell \u001b[1;32mIn[1], line 34\u001b[0m\n\u001b[0;32m     32\u001b[0m \u001b[38;5;28;01mimport\u001b[39;00m \u001b[38;5;21;01mxgboost\u001b[39;00m \u001b[38;5;28;01mas\u001b[39;00m \u001b[38;5;21;01mxgb\u001b[39;00m\n\u001b[0;32m     33\u001b[0m \u001b[38;5;28;01mimport\u001b[39;00m \u001b[38;5;21;01mplotly\u001b[39;00m\u001b[38;5;21;01m.\u001b[39;00m\u001b[38;5;21;01mexpress\u001b[39;00m \u001b[38;5;28;01mas\u001b[39;00m \u001b[38;5;21;01mpx\u001b[39;00m\n\u001b[1;32m---> 34\u001b[0m \u001b[38;5;28;01mimport\u001b[39;00m \u001b[38;5;21;01mshap\u001b[39;00m\n",
      "\u001b[1;31mModuleNotFoundError\u001b[0m: No module named 'shap'"
     ]
    }
   ],
   "source": [
    "import pandas as pd\n",
    "import numpy as np\n",
    "\n",
    "pd.set_option(\"display.max_columns\",25)\n",
    "pd.set_option(\"display.max_rows\",250)\n",
    "pd.options.display.float_format = '{:,.2f}'.format\n",
    "\n",
    "from IPython.display import display, HTML\n",
    "\n",
    "display(HTML(data=\"\"\"\n",
    "<style>\n",
    "    div#notebook-container    { width: 90%; }\n",
    "    div#menubar-container     { width: 65%; }\n",
    "    div#maintoolbar-container { width: 99%; }\n",
    "</style>\n",
    "\"\"\"))\n",
    "\n",
    "import matplotlib.pyplot as plt\n",
    "\n",
    "from __future__ import print_function\n",
    "from ipywidgets import interact, interactive, fixed, interact_manual\n",
    "import ipywidgets as widgets\n",
    "\n",
    "from urllib.request import urlopen\n",
    "import json\n",
    "\n",
    "import random\n",
    "from patsy import dmatrices\n",
    "import statsmodels.api as sm\n",
    "\n",
    "# new\n",
    "import xgboost as xgb\n",
    "import plotly.express as px\n",
    "import shap"
   ]
  },
  {
   "cell_type": "code",
   "execution_count": null,
   "id": "f8883219",
   "metadata": {},
   "outputs": [],
   "source": [
    "pip install xgboost plotly shap"
   ]
  },
  {
   "cell_type": "code",
   "execution_count": 2,
   "id": "4ad49ef3",
   "metadata": {},
   "outputs": [],
   "source": [
    "### Import data\n",
    "path = 'C:/Users/marcusdeckert/Box/marcusdeckert/Presentation Work/CARFAX Academy/Lesson 7 stuff/'\n",
    "\n",
    "data1_train = pd.read_feather(path + 'data1_train')\n",
    "data1_test = pd.read_feather(path + 'data1_test')"
   ]
  },
  {
   "cell_type": "code",
   "execution_count": 3,
   "id": "18a2d9d7",
   "metadata": {},
   "outputs": [
    {
     "data": {
      "text/html": [
       "<div>\n",
       "<style scoped>\n",
       "    .dataframe tbody tr th:only-of-type {\n",
       "        vertical-align: middle;\n",
       "    }\n",
       "\n",
       "    .dataframe tbody tr th {\n",
       "        vertical-align: top;\n",
       "    }\n",
       "\n",
       "    .dataframe thead th {\n",
       "        text-align: right;\n",
       "    }\n",
       "</style>\n",
       "<table border=\"1\" class=\"dataframe\">\n",
       "  <thead>\n",
       "    <tr style=\"text-align: right;\">\n",
       "      <th></th>\n",
       "      <th>pol_eff_year</th>\n",
       "      <th>ee_col</th>\n",
       "      <th>incloss_col</th>\n",
       "      <th>credit</th>\n",
       "      <th>commute_flag</th>\n",
       "      <th>veh_count_box</th>\n",
       "      <th>driver_count_box</th>\n",
       "      <th>veh_age_box</th>\n",
       "      <th>coll_symb_ntile</th>\n",
       "      <th>limit_bi</th>\n",
       "      <th>ded_coll</th>\n",
       "      <th>DrvAge_box</th>\n",
       "      <th>...</th>\n",
       "      <th>wtd_avg_travel_time</th>\n",
       "      <th>diploma_ntile</th>\n",
       "      <th>pop_density_ntile</th>\n",
       "      <th>unemployment_ntile</th>\n",
       "      <th>Modeled_Annual_Mileage_null_flag</th>\n",
       "      <th>Estimated_Current_Mileage_null_flag</th>\n",
       "      <th>Annual_Mileage_Estimate_null_flag</th>\n",
       "      <th>Number_of_Titling_Transactions_null_flag</th>\n",
       "      <th>LOO_years_null_flag</th>\n",
       "      <th>curr_owner_odo_cnt_null_flag</th>\n",
       "      <th>all_owner_odo_cnt_null_flag</th>\n",
       "      <th>pp</th>\n",
       "    </tr>\n",
       "  </thead>\n",
       "  <tbody>\n",
       "    <tr>\n",
       "      <th>0</th>\n",
       "      <td>2015</td>\n",
       "      <td>1.00</td>\n",
       "      <td>0.00</td>\n",
       "      <td>3</td>\n",
       "      <td>0</td>\n",
       "      <td>1</td>\n",
       "      <td>1</td>\n",
       "      <td>5</td>\n",
       "      <td>36</td>\n",
       "      <td>50</td>\n",
       "      <td>500</td>\n",
       "      <td>80</td>\n",
       "      <td>...</td>\n",
       "      <td>26.00</td>\n",
       "      <td>52.00</td>\n",
       "      <td>58.00</td>\n",
       "      <td>51.00</td>\n",
       "      <td>0</td>\n",
       "      <td>0</td>\n",
       "      <td>1</td>\n",
       "      <td>0</td>\n",
       "      <td>0</td>\n",
       "      <td>0</td>\n",
       "      <td>0</td>\n",
       "      <td>0.00</td>\n",
       "    </tr>\n",
       "    <tr>\n",
       "      <th>1</th>\n",
       "      <td>2014</td>\n",
       "      <td>1.00</td>\n",
       "      <td>0.00</td>\n",
       "      <td>4</td>\n",
       "      <td>0</td>\n",
       "      <td>1</td>\n",
       "      <td>1</td>\n",
       "      <td>4</td>\n",
       "      <td>36</td>\n",
       "      <td>50</td>\n",
       "      <td>500</td>\n",
       "      <td>80</td>\n",
       "      <td>...</td>\n",
       "      <td>26.00</td>\n",
       "      <td>52.00</td>\n",
       "      <td>58.00</td>\n",
       "      <td>51.00</td>\n",
       "      <td>0</td>\n",
       "      <td>0</td>\n",
       "      <td>0</td>\n",
       "      <td>0</td>\n",
       "      <td>0</td>\n",
       "      <td>0</td>\n",
       "      <td>0</td>\n",
       "      <td>0.00</td>\n",
       "    </tr>\n",
       "    <tr>\n",
       "      <th>2</th>\n",
       "      <td>2016</td>\n",
       "      <td>1.00</td>\n",
       "      <td>0.00</td>\n",
       "      <td>3</td>\n",
       "      <td>0</td>\n",
       "      <td>1</td>\n",
       "      <td>1</td>\n",
       "      <td>6</td>\n",
       "      <td>36</td>\n",
       "      <td>50</td>\n",
       "      <td>500</td>\n",
       "      <td>80</td>\n",
       "      <td>...</td>\n",
       "      <td>26.00</td>\n",
       "      <td>52.00</td>\n",
       "      <td>58.00</td>\n",
       "      <td>51.00</td>\n",
       "      <td>0</td>\n",
       "      <td>0</td>\n",
       "      <td>0</td>\n",
       "      <td>0</td>\n",
       "      <td>0</td>\n",
       "      <td>0</td>\n",
       "      <td>0</td>\n",
       "      <td>0.00</td>\n",
       "    </tr>\n",
       "    <tr>\n",
       "      <th>3</th>\n",
       "      <td>2014</td>\n",
       "      <td>0.17</td>\n",
       "      <td>0.00</td>\n",
       "      <td>4</td>\n",
       "      <td>0</td>\n",
       "      <td>1</td>\n",
       "      <td>1</td>\n",
       "      <td>7</td>\n",
       "      <td>36</td>\n",
       "      <td>50</td>\n",
       "      <td>500</td>\n",
       "      <td>80</td>\n",
       "      <td>...</td>\n",
       "      <td>26.00</td>\n",
       "      <td>52.00</td>\n",
       "      <td>58.00</td>\n",
       "      <td>51.00</td>\n",
       "      <td>0</td>\n",
       "      <td>1</td>\n",
       "      <td>1</td>\n",
       "      <td>0</td>\n",
       "      <td>0</td>\n",
       "      <td>0</td>\n",
       "      <td>0</td>\n",
       "      <td>0.00</td>\n",
       "    </tr>\n",
       "    <tr>\n",
       "      <th>4</th>\n",
       "      <td>2014</td>\n",
       "      <td>0.16</td>\n",
       "      <td>0.00</td>\n",
       "      <td>7</td>\n",
       "      <td>1</td>\n",
       "      <td>1</td>\n",
       "      <td>1</td>\n",
       "      <td>1</td>\n",
       "      <td>78</td>\n",
       "      <td>50</td>\n",
       "      <td>500</td>\n",
       "      <td>23</td>\n",
       "      <td>...</td>\n",
       "      <td>26.00</td>\n",
       "      <td>52.00</td>\n",
       "      <td>58.00</td>\n",
       "      <td>51.00</td>\n",
       "      <td>0</td>\n",
       "      <td>0</td>\n",
       "      <td>0</td>\n",
       "      <td>0</td>\n",
       "      <td>0</td>\n",
       "      <td>0</td>\n",
       "      <td>0</td>\n",
       "      <td>0.00</td>\n",
       "    </tr>\n",
       "  </tbody>\n",
       "</table>\n",
       "<p>5 rows × 57 columns</p>\n",
       "</div>"
      ],
      "text/plain": [
       "   pol_eff_year  ee_col  incloss_col  credit  commute_flag  veh_count_box  \\\n",
       "0          2015    1.00         0.00       3             0              1   \n",
       "1          2014    1.00         0.00       4             0              1   \n",
       "2          2016    1.00         0.00       3             0              1   \n",
       "3          2014    0.17         0.00       4             0              1   \n",
       "4          2014    0.16         0.00       7             1              1   \n",
       "\n",
       "   driver_count_box  veh_age_box  coll_symb_ntile  limit_bi  ded_coll  \\\n",
       "0                 1            5               36        50       500   \n",
       "1                 1            4               36        50       500   \n",
       "2                 1            6               36        50       500   \n",
       "3                 1            7               36        50       500   \n",
       "4                 1            1               78        50       500   \n",
       "\n",
       "   DrvAge_box  ...  wtd_avg_travel_time  diploma_ntile  pop_density_ntile  \\\n",
       "0          80  ...                26.00          52.00              58.00   \n",
       "1          80  ...                26.00          52.00              58.00   \n",
       "2          80  ...                26.00          52.00              58.00   \n",
       "3          80  ...                26.00          52.00              58.00   \n",
       "4          23  ...                26.00          52.00              58.00   \n",
       "\n",
       "   unemployment_ntile  Modeled_Annual_Mileage_null_flag  \\\n",
       "0               51.00                                 0   \n",
       "1               51.00                                 0   \n",
       "2               51.00                                 0   \n",
       "3               51.00                                 0   \n",
       "4               51.00                                 0   \n",
       "\n",
       "   Estimated_Current_Mileage_null_flag  Annual_Mileage_Estimate_null_flag  \\\n",
       "0                                    0                                  1   \n",
       "1                                    0                                  0   \n",
       "2                                    0                                  0   \n",
       "3                                    1                                  1   \n",
       "4                                    0                                  0   \n",
       "\n",
       "   Number_of_Titling_Transactions_null_flag  LOO_years_null_flag  \\\n",
       "0                                         0                    0   \n",
       "1                                         0                    0   \n",
       "2                                         0                    0   \n",
       "3                                         0                    0   \n",
       "4                                         0                    0   \n",
       "\n",
       "   curr_owner_odo_cnt_null_flag  all_owner_odo_cnt_null_flag   pp  \n",
       "0                             0                            0 0.00  \n",
       "1                             0                            0 0.00  \n",
       "2                             0                            0 0.00  \n",
       "3                             0                            0 0.00  \n",
       "4                             0                            0 0.00  \n",
       "\n",
       "[5 rows x 57 columns]"
      ]
     },
     "execution_count": 3,
     "metadata": {},
     "output_type": "execute_result"
    }
   ],
   "source": [
    "data1_train.head()"
   ]
  },
  {
   "cell_type": "code",
   "execution_count": 4,
   "id": "aa264d77",
   "metadata": {},
   "outputs": [],
   "source": [
    "### Functions from lesson 6\n",
    "\n",
    "def resid_plot(data,feature,act,pred,weight):\n",
    "    x = data.groupby([feature]).agg({weight: 'sum', act: 'sum', pred: 'sum'}).reset_index()\n",
    "    x['act'] = x[act]/x[weight]\n",
    "    x['pred'] = x[pred]/x[weight]\n",
    "\n",
    "    fig, ax = plt.subplots(figsize=(12,6))\n",
    "    ax2  = ax.twinx()\n",
    "    \n",
    "    y_max = np.where(x['act'].max() > x['pred'].max(),x['act'].max(),x['pred'].max())*1.20\n",
    "    ax2.set_ylim(0,y_max)\n",
    "\n",
    "    x[weight].plot.bar(stacked=False, ax=ax, alpha=0.6)\n",
    "    x['act'].plot(kind='line', ax=ax2, marker='o',linewidth = 0, legend='act')\n",
    "    x['pred'].plot(kind='line', ax=ax2, marker='o', legend='pred')\n",
    "    \n",
    "    plt.xticks(ticks = x.index, labels = x[feature])\n",
    "\n",
    "    ax.set(ylabel=weight, title = feature)\n",
    "    plt.show()\n",
    "    \n",
    "def lift_chart(test_data, act, pred, weight, bins):\n",
    "    test_data['decile'] = (round(test_data.sort_values(by = 'pred')[weight].cumsum()/test_data[weight].sum(),2)*bins).apply(np.floor)\n",
    "    test_data['decile'] = np.where(test_data['decile'] + 1 > bins ,bins,test_data['decile'] + 1)\n",
    "    x = test_data.groupby(['decile'], dropna = False).agg({weight: 'sum', act: 'sum', pred: 'sum'}).reset_index()\n",
    "    \n",
    "    x['act'] = x[act]/x[weight]\n",
    "    x['pred'] = x[pred]/x[weight]\n",
    "    x.drop(columns = [act,pred], inplace = True)\n",
    "    \n",
    "    dfg = x\n",
    "    fig, ax = plt.subplots(figsize=(12,6))\n",
    "    ax2  = ax.twinx()\n",
    "    \n",
    "    y_min = np.where(dfg['act'].min() < dfg['pred'].min(),dfg['act'].min(),dfg['pred'].min())*.95\n",
    "    y_max = np.where(dfg['act'].max() > dfg['pred'].max(),dfg['act'].max(),dfg['pred'].max())*1.05\n",
    "    ax2.set_ylim(y_min,y_max)\n",
    "    \n",
    "    dfg[weight].plot.bar(stacked=False, ax=ax, alpha=0.6)\n",
    "    dfg['act'].plot(kind='line', ax=ax2, marker='o', linewidth = 0, legend='act')\n",
    "    dfg['pred'].plot(kind='line', ax=ax2, marker='o', legend='pred')\n",
    "    plt.show()\n",
    "    print(x)"
   ]
  },
  {
   "cell_type": "code",
   "execution_count": 5,
   "id": "2c65f972",
   "metadata": {},
   "outputs": [],
   "source": [
    "# First fit GBM manually with basic parameters\n",
    "\n",
    "tweedie_p = 1.5\n",
    "bmf = .10\n",
    "max_depth = 6\n",
    "base_score = data1_train['incloss_col'].sum()/data1_train['ee_col'].sum()\n",
    "num_round = 50 # not referenced in params but is given separately\n",
    "\n",
    "params = {\n",
    "    'objective': 'reg:tweedie',\n",
    "    'tweedie_variance_power': tweedie_p,\n",
    "    'learning_rate': bmf,\n",
    "    'verbosity': 1,\n",
    "    'max_depth': max_depth,\n",
    "    'base_score': base_score,\n",
    "#     'monotone_constraints': xgb_mono(monotone_constraint)\n",
    "}\n",
    "\n",
    "# def xgb_mono(x):\n",
    "#         return str(x).replace('[','(').replace(']',')')\n",
    "\n",
    "### commented out monotone constraints to save time - input is a list in the format of [0,1,-1,...,0,0,0] where the sign of the number in the list is the direction desired.  0 denotes no constraint.\n",
    "### Make sure you send the list in the same order as the data columns.\n",
    "\n",
    "weights = 'ee_col'\n",
    "drop_cols = ['ee_col','incloss_col','pp']\n",
    "\n",
    "weight_train = data1_train[weights]\n",
    "dtrain = xgb.DMatrix(data1_train.drop(drop_cols, axis=1), label=data1_train['pp'], weight=weight_train)\n",
    "\n",
    "model_xgb = xgb.train(params, dtrain, num_round)\n",
    "\n",
    "weight_test = data1_test[weights]\n",
    "dtest = xgb.DMatrix(data1_test.drop(drop_cols, axis=1), label=data1_test['pp'])\n",
    "\n",
    "ypred_test = model_xgb.predict(dtest)\n",
    "ypred_train = model_xgb.predict(dtrain)\n",
    "\n",
    "# make a copy so our original data stays the same\n",
    "out_train = data1_train.copy()\n",
    "out_train['pred'] = ypred_train\n",
    "out_train['pred_loss'] = out_train['pred'] * out_train['ee_col']\n",
    "\n",
    "out_test = data1_test.copy()\n",
    "out_test['pred'] = ypred_test\n",
    "out_test['pred_loss'] = out_test['pred'] * out_test['ee_col']"
   ]
  },
  {
   "cell_type": "code",
   "execution_count": 7,
   "id": "414a8654",
   "metadata": {
    "scrolled": true
   },
   "outputs": [
    {
     "data": {
      "text/plain": [
       "<AxesSubplot:title={'center':'Feature importance'}, xlabel='F score', ylabel='Features'>"
      ]
     },
     "execution_count": 7,
     "metadata": {},
     "output_type": "execute_result"
    },
    {
     "data": {
      "image/png": "[encoded data removed]",
      "text/plain": [
       "<Figure size 720x1800 with 1 Axes>"
      ]
     },
     "metadata": {
      "needs_background": "light"
     },
     "output_type": "display_data"
    }
   ],
   "source": [
    "# plot_importance (first very basic importance display)\n",
    "\n",
    "fig, ax = plt.subplots(figsize=(10, 25))\n",
    "xgb.plot_importance(model_xgb, importance_type = 'gain', ax=ax)\n",
    "\n",
    "# article about importance types: https://towardsdatascience.com/be-careful-when-interpreting-your-features-importance-in-xgboost-6e16132588e7"
   ]
  },
  {
   "cell_type": "code",
   "execution_count": 8,
   "id": "10952a42",
   "metadata": {},
   "outputs": [
    {
     "data": {
      "image/png": "[encoded data removed]",
      "text/plain": [
       "<Figure size 864x432 with 2 Axes>"
      ]
     },
     "metadata": {
      "needs_background": "light"
     },
     "output_type": "display_data"
    },
    {
     "name": "stdout",
     "output_type": "stream",
     "text": [
      "   decile   ee_col    act   pred\n",
      "0    1.00 1,082.92  24.92   4.37\n",
      "1    2.00 1,140.22  75.38  18.29\n",
      "2    3.00 1,140.43 149.41  35.36\n",
      "3    4.00 1,140.18  95.16  51.73\n",
      "4    5.00 1,140.22  94.25  69.00\n",
      "5    6.00 1,140.23 114.89  86.94\n",
      "6    7.00 1,140.02 149.61 107.44\n",
      "7    8.00 1,140.27 181.87 130.85\n",
      "8    9.00 1,140.14 185.94 162.02\n",
      "9   10.00 1,197.64 236.17 258.63\n"
     ]
    }
   ],
   "source": [
    "# Review lift chart\n",
    "\n",
    "lift_chart(out_test, 'incloss_col', 'pred_loss', 'ee_col', 10)"
   ]
  },
  {
   "cell_type": "code",
   "execution_count": 9,
   "id": "5dc529dd",
   "metadata": {},
   "outputs": [],
   "source": [
    "# Functionize\n",
    "base_score = data1_train['incloss_col'].sum()/data1_train['ee_col'].sum()\n",
    "\n",
    "def easy_gbm(train,test,weights,drop_cols,tweedie_p,bmf,max_depth,base_score,num_round):\n",
    "\n",
    "    params = {\n",
    "        'objective': 'reg:tweedie',\n",
    "        'tweedie_variance_power': tweedie_p,\n",
    "        'learning_rate': bmf,\n",
    "        'verbosity': 1,\n",
    "        'max_depth': max_depth,\n",
    "        'base_score': base_score\n",
    "    }\n",
    "\n",
    "    weight_train = train[weights]\n",
    "    dtrain = xgb.DMatrix(train.drop(drop_cols, axis=1), label=train['pp'], weight=weight_train)\n",
    "\n",
    "    global model_xgb\n",
    "    model_xgb = xgb.train(params, dtrain, num_round)\n",
    "\n",
    "    weight_test = test[weights]\n",
    "    dtest = xgb.DMatrix(test.drop(drop_cols, axis=1), label=test['pp'])\n",
    "    ypred_test = model_xgb.predict(dtest)\n",
    "\n",
    "    ypred_train = model_xgb.predict(dtrain)\n",
    "\n",
    "    global out_train, out_test ### sending this output to the global environment so we can use it after the fit\n",
    "    out_train = train.copy()\n",
    "    out_train['pred'] = ypred_train\n",
    "    out_train['pred_loss'] = out_train['pred'] * out_train['ee_col']\n",
    "\n",
    "    out_test = test.copy()\n",
    "    out_test['pred'] = ypred_test\n",
    "    out_test['pred_loss'] = out_test['pred'] * out_test['ee_col']"
   ]
  },
  {
   "cell_type": "code",
   "execution_count": 10,
   "id": "0237107f",
   "metadata": {},
   "outputs": [
    {
     "data": {
      "image/png": "[encoded data removed]",
      "text/plain": [
       "<Figure size 864x432 with 2 Axes>"
      ]
     },
     "metadata": {
      "needs_background": "light"
     },
     "output_type": "display_data"
    },
    {
     "name": "stdout",
     "output_type": "stream",
     "text": [
      "   decile   ee_col    act   pred\n",
      "0    1.00 1,082.92  24.92   4.37\n",
      "1    2.00 1,140.22  75.38  18.29\n",
      "2    3.00 1,140.43 149.41  35.36\n",
      "3    4.00 1,140.18  95.16  51.73\n",
      "4    5.00 1,140.22  94.25  69.00\n",
      "5    6.00 1,140.23 114.89  86.94\n",
      "6    7.00 1,140.02 149.61 107.44\n",
      "7    8.00 1,140.27 181.87 130.85\n",
      "8    9.00 1,140.14 185.94 162.02\n",
      "9   10.00 1,197.64 236.17 258.63\n"
     ]
    }
   ],
   "source": [
    "easy_gbm(data1_train,data1_test,'ee_col',['ee_col','incloss_col','pp'],1.5,.10,6,base_score,50)\n",
    "\n",
    "lift_chart(out_test, 'incloss_col', 'pred_loss', 'ee_col', 10)"
   ]
  },
  {
   "cell_type": "code",
   "execution_count": 11,
   "id": "34e1628f",
   "metadata": {},
   "outputs": [],
   "source": [
    "# 5 fold CV with gridsearch & optimization metrics\n",
    "\n",
    "def model_metrics(input_data, act, pred, weight_name):\n",
    "    global x\n",
    "    test_data = input_data.copy()\n",
    "    bins = 50\n",
    "    \n",
    "    test_data['decile'] = (round(test_data.sort_values(by = 'pred')[weight_name].cumsum()/test_data[weight_name].sum(),2)*bins).apply(np.floor)\n",
    "    test_data['decile'] = np.where(test_data['decile'] + 1 > bins ,bins,test_data['decile'] + 1)\n",
    "    x = test_data.groupby(['decile'], dropna = False).agg({weight_name: 'sum', act: 'sum', pred: 'sum'}).reset_index()\n",
    "    \n",
    "    del test_data\n",
    "    \n",
    "    x['pp_act'] = x[act]/x[weight_name]\n",
    "    x['pp_pred'] = x[pred]/x[weight_name]\n",
    "    \n",
    "    x['decile_error'] = abs(x['pp_pred']/x['pp_act'] - 1).replace(-np.inf, np.nan).replace(np.inf, np.nan).fillna(1)\n",
    "    x['decile_error_sp'] = x['decile_error'] * x[weight_name]\n",
    "    fit_quality = 1 - x['decile_error_sp'].sum()/x[weight_name].sum()\n",
    "    \n",
    "    tot_pp = x[act].sum()/x[weight_name].sum()\n",
    "    x['diff_unity'] = abs(x['pp_pred']/tot_pp - 1)\n",
    "    x['diff_unity'] = x['diff_unity'] * x[weight_name]\n",
    "    model_power = x['diff_unity'].sum()/x[weight_name].sum()\n",
    "    \n",
    "    x.drop(columns = [act,pred], inplace = True)\n",
    "    \n",
    "    return_list = []\n",
    "    return_list.append(model_power)\n",
    "    return_list.append(fit_quality)\n",
    "    return return_list\n",
    "\n",
    "def mad_tt_split_cv_5_folds(data,fold_num):\n",
    "    np.random.seed(seed=42)\n",
    "    data['rand'] = np.random.randint(1, 101, data.shape[0])\n",
    "    \n",
    "    all_ints = [i for i in range(1, 101)]\n",
    "    test_ints = [i for i in all_ints if i >= (fold_num-1) * 20 + 1 and i <= fold_num * 20]\n",
    "    train_ints = [i for i in all_ints if i not in test_ints]\n",
    "    \n",
    "    global d1_train, d1_test\n",
    "    d1_test = data.loc[data['rand'].isin(test_ints)].copy()\n",
    "    d1_train = data.loc[data['rand'].isin(train_ints)].copy()\n",
    "    \n",
    "    del data['rand']\n",
    "\n",
    "from IPython.display import clear_output\n",
    "\n",
    "def cv_sub(act, pred, weight_name, drop_cols, save_path):\n",
    "    global result_final\n",
    "    result_temp = pd.DataFrame(columns = ['model_power','scoreband_fit','tweedie_p','bmf','max_depth','num_round'])\n",
    "    for fold in [1,2,3,4,5]:\n",
    "        mad_tt_split_cv_5_folds(data1_train.copy(),fold)\n",
    "        for tweedie_p in tweedie_p_list:\n",
    "            for bmf in bmf_list:\n",
    "                for max_depth in max_depth_list:\n",
    "                    for num_round in num_round_list:\n",
    "                        easy_gbm(d1_train,d1_test,weight_name,drop_cols,tweedie_p,bmf,max_depth,base_score,num_round)\n",
    "                        result = pd.DataFrame(model_metrics(out_test, act, pred, weight_name)).T\n",
    "                        result.columns = (['model_power','fit_quality'])\n",
    "                        result['fit_quality'] = np.where(result['fit_quality'] < 0, 0, result['fit_quality']) # just in case we get negatives\n",
    "                        \n",
    "                        result['tweedie_p'] = tweedie_p\n",
    "                        result['bmf'] = bmf\n",
    "                        result['max_depth'] = max_depth\n",
    "                        result['num_round'] = num_round\n",
    "\n",
    "                        result_temp = pd.concat([result_temp,result])\n",
    "                        \n",
    "                        result_final = result_temp.groupby(['tweedie_p','bmf','max_depth','num_round']).agg({'model_power': 'mean', 'fit_quality': 'mean'}).reset_index()\n",
    "                        \n",
    "                        clear_output()\n",
    "                        fig = px.scatter(result_final, x='model_power', y='fit_quality', hover_data=['tweedie_p','bmf','max_depth','num_round'])\n",
    "                        fig.show()\n",
    "                        \n",
    "                        print('fold ' + str(fold) + ' params = ' + str(tweedie_p) + '_' + str(bmf) + '_' + str(max_depth) + '_' + str(num_round) + ' complete', end = '\\r')\n",
    "    \n",
    "    fig.write_html(save_path)\n",
    "                        \n",
    "\n",
    "def lift_cv_5_folds(data,tweedie_p,bmf,max_depth,num_round,act, pred, drop_cols, weight_name = 'ee_col', bins = 10):\n",
    "    x2 = pd.DataFrame()\n",
    "    for fold in [1,2,3,4,5]:\n",
    "        mad_tt_split_cv_5_folds(data.copy(),fold)\n",
    "        \n",
    "        easy_gbm(d1_train,d1_test,weight_name,drop_cols,tweedie_p,bmf,max_depth,base_score,num_round)\n",
    "        lift_data = out_test.copy()\n",
    "    \n",
    "        lift_data['decile'] = (round(lift_data.sort_values(by = 'pred')[weight_name].cumsum()/lift_data[weight_name].sum(),2)*bins).apply(np.floor)\n",
    "        lift_data['decile'] = np.where(lift_data['decile'] + 1 > bins ,bins,lift_data['decile'] + 1)\n",
    "        \n",
    "        x = lift_data.groupby(['decile'], dropna = False).agg({weight_name: 'sum', act: 'sum', pred: 'sum'}).reset_index()\n",
    "        x2 = pd.concat([x2,x])\n",
    "        print('fold ' + str(fold) + ' complete', end = '\\r')\n",
    "    \n",
    "    dfg = x2.groupby(['decile'], dropna = False).agg({weight_name: 'sum', act: 'sum', pred: 'sum'}).reset_index()\n",
    "    dfg['pp_act'] = dfg[act]/dfg[weight_name]\n",
    "    dfg['pp_pred'] = dfg[pred]/dfg[weight_name]\n",
    "    dfg.drop(columns = [act,pred], inplace = True)\n",
    "    \n",
    "    fig, ax = plt.subplots(figsize=(12,6))\n",
    "    ax2  = ax.twinx()\n",
    "    \n",
    "    y_max = np.where(dfg['pp_act'].max() > dfg['pp_pred'].max(),dfg['pp_act'].max(),dfg['pp_pred'].max())*1.20\n",
    "    ax2.set_ylim(0,y_max)\n",
    "    \n",
    "    dfg[weight_name].plot.bar(stacked=False, ax=ax, alpha=0.6)\n",
    "    dfg['pp_act'].plot(kind='line', ax=ax2, marker='o', linewidth = 0, legend='pp_act')\n",
    "    dfg['pp_pred'].plot(kind='line', ax=ax2, marker='o', legend='pp_pred')\n",
    "    plt.show()\n",
    "    print(dfg[(['decile',weight_name,'pp_act','pp_pred'])])"
   ]
  },
  {
   "cell_type": "code",
   "execution_count": 12,
   "id": "f09d0149",
   "metadata": {
    "scrolled": false
   },
   "outputs": [
    {
     "data": {
      "application/vnd.plotly.v1+json": {
       "config": {
        "plotlyServerURL": "https://plot.ly"
       },
       "data": [
        {
         "customdata": [
          [
           1.5,
           0.05,
           6,
           25
          ],
          [
           1.5,
           0.05,
           6,
           50
          ],
          [
           1.5,
           0.1,
           6,
           25
          ],
          [
           1.5,
           0.1,
           6,
           50
          ]
         ],
         "hovertemplate": "model_power=%{x}<br>fit_quality=%{y}<br>tweedie_p=%{customdata[0]}<br>bmf=%{customdata[1]}<br>max_depth=%{customdata[2]}<br>num_round=%{customdata[3]}<extra></extra>",
         "legendgroup": "",
         "marker": {
          "color": "#636efa",
          "symbol": "circle"
         },
         "mode": "markers",
         "name": "",
         "orientation": "v",
         "showlegend": false,
         "type": "scatter",
         "x": [
          0.37489073483831636,
          0.4823103287919016,
          0.49278034122887215,
          0.5980308982650998
         ],
         "xaxis": "x",
         "y": [
          0.2521227727969196,
          0.27733000680571535,
          0.27379020968835627,
          0.43199819695070507
         ],
         "yaxis": "y"
        }
       ],
       "layout": {
        "legend": {
         "tracegroupgap": 0
        },
        "margin": {
         "t": 60
        },
        "template": {
         "data": {
          "bar": [
           {
            "error_x": {
             "color": "#2a3f5f"
            },
            "error_y": {
             "color": "#2a3f5f"
            },
            "marker": {
             "line": {
              "color": "#E5ECF6",
              "width": 0.5
             }
            },
            "type": "bar"
           }
          ],
          "barpolar": [
           {
            "marker": {
             "line": {
              "color": "#E5ECF6",
              "width": 0.5
             }
            },
            "type": "barpolar"
           }
          ],
          "carpet": [
           {
            "aaxis": {
             "endlinecolor": "#2a3f5f",
             "gridcolor": "white",
             "linecolor": "white",
             "minorgridcolor": "white",
             "startlinecolor": "#2a3f5f"
            },
            "baxis": {
             "endlinecolor": "#2a3f5f",
             "gridcolor": "white",
             "linecolor": "white",
             "minorgridcolor": "white",
             "startlinecolor": "#2a3f5f"
            },
            "type": "carpet"
           }
          ],
          "choropleth": [
           {
            "colorbar": {
             "outlinewidth": 0,
             "ticks": ""
            },
            "type": "choropleth"
           }
          ],
          "contour": [
           {
            "colorbar": {
             "outlinewidth": 0,
             "ticks": ""
            },
            "colorscale": [
             [
              0,
              "#0d0887"
             ],
             [
              0.1111111111111111,
              "#46039f"
             ],
             [
              0.2222222222222222,
              "#7201a8"
             ],
             [
              0.3333333333333333,
              "#9c179e"
             ],
             [
              0.4444444444444444,
              "#bd3786"
             ],
             [
              0.5555555555555556,
              "#d8576b"
             ],
             [
              0.6666666666666666,
              "#ed7953"
             ],
             [
              0.7777777777777778,
              "#fb9f3a"
             ],
             [
              0.8888888888888888,
              "#fdca26"
             ],
             [
              1,
              "#f0f921"
             ]
            ],
            "type": "contour"
           }
          ],
          "contourcarpet": [
           {
            "colorbar": {
             "outlinewidth": 0,
             "ticks": ""
            },
            "type": "contourcarpet"
           }
          ],
          "heatmap": [
           {
            "colorbar": {
             "outlinewidth": 0,
             "ticks": ""
            },
            "colorscale": [
             [
              0,
              "#0d0887"
             ],
             [
              0.1111111111111111,
              "#46039f"
             ],
             [
              0.2222222222222222,
              "#7201a8"
             ],
             [
              0.3333333333333333,
              "#9c179e"
             ],
             [
              0.4444444444444444,
              "#bd3786"
             ],
             [
              0.5555555555555556,
              "#d8576b"
             ],
             [
              0.6666666666666666,
              "#ed7953"
             ],
             [
              0.7777777777777778,
              "#fb9f3a"
             ],
             [
              0.8888888888888888,
              "#fdca26"
             ],
             [
              1,
              "#f0f921"
             ]
            ],
            "type": "heatmap"
           }
          ],
          "heatmapgl": [
           {
            "colorbar": {
             "outlinewidth": 0,
             "ticks": ""
            },
            "colorscale": [
             [
              0,
              "#0d0887"
             ],
             [
              0.1111111111111111,
              "#46039f"
             ],
             [
              0.2222222222222222,
              "#7201a8"
             ],
             [
              0.3333333333333333,
              "#9c179e"
             ],
             [
              0.4444444444444444,
              "#bd3786"
             ],
             [
              0.5555555555555556,
              "#d8576b"
             ],
             [
              0.6666666666666666,
              "#ed7953"
             ],
             [
              0.7777777777777778,
              "#fb9f3a"
             ],
             [
              0.8888888888888888,
              "#fdca26"
             ],
             [
              1,
              "#f0f921"
             ]
            ],
            "type": "heatmapgl"
           }
          ],
          "histogram": [
           {
            "marker": {
             "colorbar": {
              "outlinewidth": 0,
              "ticks": ""
             }
            },
            "type": "histogram"
           }
          ],
          "histogram2d": [
           {
            "colorbar": {
             "outlinewidth": 0,
             "ticks": ""
            },
            "colorscale": [
             [
              0,
              "#0d0887"
             ],
             [
              0.1111111111111111,
              "#46039f"
             ],
             [
              0.2222222222222222,
              "#7201a8"
             ],
             [
              0.3333333333333333,
              "#9c179e"
             ],
             [
              0.4444444444444444,
              "#bd3786"
             ],
             [
              0.5555555555555556,
              "#d8576b"
             ],
             [
              0.6666666666666666,
              "#ed7953"
             ],
             [
              0.7777777777777778,
              "#fb9f3a"
             ],
             [
              0.8888888888888888,
              "#fdca26"
             ],
             [
              1,
              "#f0f921"
             ]
            ],
            "type": "histogram2d"
           }
          ],
          "histogram2dcontour": [
           {
            "colorbar": {
             "outlinewidth": 0,
             "ticks": ""
            },
            "colorscale": [
             [
              0,
              "#0d0887"
             ],
             [
              0.1111111111111111,
              "#46039f"
             ],
             [
              0.2222222222222222,
              "#7201a8"
             ],
             [
              0.3333333333333333,
              "#9c179e"
             ],
             [
              0.4444444444444444,
              "#bd3786"
             ],
             [
              0.5555555555555556,
              "#d8576b"
             ],
             [
              0.6666666666666666,
              "#ed7953"
             ],
             [
              0.7777777777777778,
              "#fb9f3a"
             ],
             [
              0.8888888888888888,
              "#fdca26"
             ],
             [
              1,
              "#f0f921"
             ]
            ],
            "type": "histogram2dcontour"
           }
          ],
          "mesh3d": [
           {
            "colorbar": {
             "outlinewidth": 0,
             "ticks": ""
            },
            "type": "mesh3d"
           }
          ],
          "parcoords": [
           {
            "line": {
             "colorbar": {
              "outlinewidth": 0,
              "ticks": ""
             }
            },
            "type": "parcoords"
           }
          ],
          "pie": [
           {
            "automargin": true,
            "type": "pie"
           }
          ],
          "scatter": [
           {
            "marker": {
             "colorbar": {
              "outlinewidth": 0,
              "ticks": ""
             }
            },
            "type": "scatter"
           }
          ],
          "scatter3d": [
           {
            "line": {
             "colorbar": {
              "outlinewidth": 0,
              "ticks": ""
             }
            },
            "marker": {
             "colorbar": {
              "outlinewidth": 0,
              "ticks": ""
             }
            },
            "type": "scatter3d"
           }
          ],
          "scattercarpet": [
           {
            "marker": {
             "colorbar": {
              "outlinewidth": 0,
              "ticks": ""
             }
            },
            "type": "scattercarpet"
           }
          ],
          "scattergeo": [
           {
            "marker": {
             "colorbar": {
              "outlinewidth": 0,
              "ticks": ""
             }
            },
            "type": "scattergeo"
           }
          ],
          "scattergl": [
           {
            "marker": {
             "colorbar": {
              "outlinewidth": 0,
              "ticks": ""
             }
            },
            "type": "scattergl"
           }
          ],
          "scattermapbox": [
           {
            "marker": {
             "colorbar": {
              "outlinewidth": 0,
              "ticks": ""
             }
            },
            "type": "scattermapbox"
           }
          ],
          "scatterpolar": [
           {
            "marker": {
             "colorbar": {
              "outlinewidth": 0,
              "ticks": ""
             }
            },
            "type": "scatterpolar"
           }
          ],
          "scatterpolargl": [
           {
            "marker": {
             "colorbar": {
              "outlinewidth": 0,
              "ticks": ""
             }
            },
            "type": "scatterpolargl"
           }
          ],
          "scatterternary": [
           {
            "marker": {
             "colorbar": {
              "outlinewidth": 0,
              "ticks": ""
             }
            },
            "type": "scatterternary"
           }
          ],
          "surface": [
           {
            "colorbar": {
             "outlinewidth": 0,
             "ticks": ""
            },
            "colorscale": [
             [
              0,
              "#0d0887"
             ],
             [
              0.1111111111111111,
              "#46039f"
             ],
             [
              0.2222222222222222,
              "#7201a8"
             ],
             [
              0.3333333333333333,
              "#9c179e"
             ],
             [
              0.4444444444444444,
              "#bd3786"
             ],
             [
              0.5555555555555556,
              "#d8576b"
             ],
             [
              0.6666666666666666,
              "#ed7953"
             ],
             [
              0.7777777777777778,
              "#fb9f3a"
             ],
             [
              0.8888888888888888,
              "#fdca26"
             ],
             [
              1,
              "#f0f921"
             ]
            ],
            "type": "surface"
           }
          ],
          "table": [
           {
            "cells": {
             "fill": {
              "color": "#EBF0F8"
             },
             "line": {
              "color": "white"
             }
            },
            "header": {
             "fill": {
              "color": "#C8D4E3"
             },
             "line": {
              "color": "white"
             }
            },
            "type": "table"
           }
          ]
         },
         "layout": {
          "annotationdefaults": {
           "arrowcolor": "#2a3f5f",
           "arrowhead": 0,
           "arrowwidth": 1
          },
          "autotypenumbers": "strict",
          "coloraxis": {
           "colorbar": {
            "outlinewidth": 0,
            "ticks": ""
           }
          },
          "colorscale": {
           "diverging": [
            [
             0,
             "#8e0152"
            ],
            [
             0.1,
             "#c51b7d"
            ],
            [
             0.2,
             "#de77ae"
            ],
            [
             0.3,
             "#f1b6da"
            ],
            [
             0.4,
             "#fde0ef"
            ],
            [
             0.5,
             "#f7f7f7"
            ],
            [
             0.6,
             "#e6f5d0"
            ],
            [
             0.7,
             "#b8e186"
            ],
            [
             0.8,
             "#7fbc41"
            ],
            [
             0.9,
             "#4d9221"
            ],
            [
             1,
             "#276419"
            ]
           ],
           "sequential": [
            [
             0,
             "#0d0887"
            ],
            [
             0.1111111111111111,
             "#46039f"
            ],
            [
             0.2222222222222222,
             "#7201a8"
            ],
            [
             0.3333333333333333,
             "#9c179e"
            ],
            [
             0.4444444444444444,
             "#bd3786"
            ],
            [
             0.5555555555555556,
             "#d8576b"
            ],
            [
             0.6666666666666666,
             "#ed7953"
            ],
            [
             0.7777777777777778,
             "#fb9f3a"
            ],
            [
             0.8888888888888888,
             "#fdca26"
            ],
            [
             1,
             "#f0f921"
            ]
           ],
           "sequentialminus": [
            [
             0,
             "#0d0887"
            ],
            [
             0.1111111111111111,
             "#46039f"
            ],
            [
             0.2222222222222222,
             "#7201a8"
            ],
            [
             0.3333333333333333,
             "#9c179e"
            ],
            [
             0.4444444444444444,
             "#bd3786"
            ],
            [
             0.5555555555555556,
             "#d8576b"
            ],
            [
             0.6666666666666666,
             "#ed7953"
            ],
            [
             0.7777777777777778,
             "#fb9f3a"
            ],
            [
             0.8888888888888888,
             "#fdca26"
            ],
            [
             1,
             "#f0f921"
            ]
           ]
          },
          "colorway": [
           "#636efa",
           "#EF553B",
           "#00cc96",
           "#ab63fa",
           "#FFA15A",
           "#19d3f3",
           "#FF6692",
           "#B6E880",
           "#FF97FF",
           "#FECB52"
          ],
          "font": {
           "color": "#2a3f5f"
          },
          "geo": {
           "bgcolor": "white",
           "lakecolor": "white",
           "landcolor": "#E5ECF6",
           "showlakes": true,
           "showland": true,
           "subunitcolor": "white"
          },
          "hoverlabel": {
           "align": "left"
          },
          "hovermode": "closest",
          "mapbox": {
           "style": "light"
          },
          "paper_bgcolor": "white",
          "plot_bgcolor": "#E5ECF6",
          "polar": {
           "angularaxis": {
            "gridcolor": "white",
            "linecolor": "white",
            "ticks": ""
           },
           "bgcolor": "#E5ECF6",
           "radialaxis": {
            "gridcolor": "white",
            "linecolor": "white",
            "ticks": ""
           }
          },
          "scene": {
           "xaxis": {
            "backgroundcolor": "#E5ECF6",
            "gridcolor": "white",
            "gridwidth": 2,
            "linecolor": "white",
            "showbackground": true,
            "ticks": "",
            "zerolinecolor": "white"
           },
           "yaxis": {
            "backgroundcolor": "#E5ECF6",
            "gridcolor": "white",
            "gridwidth": 2,
            "linecolor": "white",
            "showbackground": true,
            "ticks": "",
            "zerolinecolor": "white"
           },
           "zaxis": {
            "backgroundcolor": "#E5ECF6",
            "gridcolor": "white",
            "gridwidth": 2,
            "linecolor": "white",
            "showbackground": true,
            "ticks": "",
            "zerolinecolor": "white"
           }
          },
          "shapedefaults": {
           "line": {
            "color": "#2a3f5f"
           }
          },
          "ternary": {
           "aaxis": {
            "gridcolor": "white",
            "linecolor": "white",
            "ticks": ""
           },
           "baxis": {
            "gridcolor": "white",
            "linecolor": "white",
            "ticks": ""
           },
           "bgcolor": "#E5ECF6",
           "caxis": {
            "gridcolor": "white",
            "linecolor": "white",
            "ticks": ""
           }
          },
          "title": {
           "x": 0.05
          },
          "xaxis": {
           "automargin": true,
           "gridcolor": "white",
           "linecolor": "white",
           "ticks": "",
           "title": {
            "standoff": 15
           },
           "zerolinecolor": "white",
           "zerolinewidth": 2
          },
          "yaxis": {
           "automargin": true,
           "gridcolor": "white",
           "linecolor": "white",
           "ticks": "",
           "title": {
            "standoff": 15
           },
           "zerolinecolor": "white",
           "zerolinewidth": 2
          }
         }
        },
        "xaxis": {
         "anchor": "y",
         "domain": [
          0,
          1
         ],
         "title": {
          "text": "model_power"
         }
        },
        "yaxis": {
         "anchor": "x",
         "domain": [
          0,
          1
         ],
         "title": {
          "text": "fit_quality"
         }
        }
       }
      },
      "text/html": [
       "<div>                            <div id=\"eb4cdf78-b6a0-46a9-b5c1-f8ac3caaffe6\" class=\"plotly-graph-div\" style=\"height:525px; width:100%;\"></div>            <script type=\"text/javascript\">                require([\"plotly\"], function(Plotly) {                    window.PLOTLYENV=window.PLOTLYENV || {};                                    if (document.getElementById(\"eb4cdf78-b6a0-46a9-b5c1-f8ac3caaffe6\")) {                    Plotly.newPlot(                        \"eb4cdf78-b6a0-46a9-b5c1-f8ac3caaffe6\",                        [{\"customdata\": [[1.5, 0.05, 6.0, 25.0], [1.5, 0.05, 6.0, 50.0], [1.5, 0.1, 6.0, 25.0], [1.5, 0.1, 6.0, 50.0]], \"hovertemplate\": \"model_power=%{x}<br>fit_quality=%{y}<br>tweedie_p=%{customdata[0]}<br>bmf=%{customdata[1]}<br>max_depth=%{customdata[2]}<br>num_round=%{customdata[3]}<extra></extra>\", \"legendgroup\": \"\", \"marker\": {\"color\": \"#636efa\", \"symbol\": \"circle\"}, \"mode\": \"markers\", \"name\": \"\", \"orientation\": \"v\", \"showlegend\": false, \"type\": \"scatter\", \"x\": [0.37489073483831636, 0.4823103287919016, 0.49278034122887215, 0.5980308982650998], \"xaxis\": \"x\", \"y\": [0.2521227727969196, 0.27733000680571535, 0.27379020968835627, 0.43199819695070507], \"yaxis\": \"y\"}],                        {\"legend\": {\"tracegroupgap\": 0}, \"margin\": {\"t\": 60}, \"template\": {\"data\": {\"bar\": [{\"error_x\": {\"color\": \"#2a3f5f\"}, \"error_y\": {\"color\": \"#2a3f5f\"}, \"marker\": {\"line\": {\"color\": \"#E5ECF6\", \"width\": 0.5}}, \"type\": \"bar\"}], \"barpolar\": [{\"marker\": {\"line\": {\"color\": \"#E5ECF6\", \"width\": 0.5}}, \"type\": \"barpolar\"}], \"carpet\": [{\"aaxis\": {\"endlinecolor\": \"#2a3f5f\", \"gridcolor\": \"white\", \"linecolor\": \"white\", \"minorgridcolor\": \"white\", \"startlinecolor\": \"#2a3f5f\"}, \"baxis\": {\"endlinecolor\": \"#2a3f5f\", \"gridcolor\": \"white\", \"linecolor\": \"white\", \"minorgridcolor\": \"white\", \"startlinecolor\": \"#2a3f5f\"}, \"type\": \"carpet\"}], \"choropleth\": [{\"colorbar\": {\"outlinewidth\": 0, \"ticks\": \"\"}, \"type\": \"choropleth\"}], \"contour\": [{\"colorbar\": {\"outlinewidth\": 0, \"ticks\": \"\"}, \"colorscale\": [[0.0, \"#0d0887\"], [0.1111111111111111, \"#46039f\"], [0.2222222222222222, \"#7201a8\"], [0.3333333333333333, \"#9c179e\"], [0.4444444444444444, \"#bd3786\"], [0.5555555555555556, \"#d8576b\"], [0.6666666666666666, \"#ed7953\"], [0.7777777777777778, \"#fb9f3a\"], [0.8888888888888888, \"#fdca26\"], [1.0, \"#f0f921\"]], \"type\": \"contour\"}], \"contourcarpet\": [{\"colorbar\": {\"outlinewidth\": 0, \"ticks\": \"\"}, \"type\": \"contourcarpet\"}], \"heatmap\": [{\"colorbar\": {\"outlinewidth\": 0, \"ticks\": \"\"}, \"colorscale\": [[0.0, \"#0d0887\"], [0.1111111111111111, \"#46039f\"], [0.2222222222222222, \"#7201a8\"], [0.3333333333333333, \"#9c179e\"], [0.4444444444444444, \"#bd3786\"], [0.5555555555555556, \"#d8576b\"], [0.6666666666666666, \"#ed7953\"], [0.7777777777777778, \"#fb9f3a\"], [0.8888888888888888, \"#fdca26\"], [1.0, \"#f0f921\"]], \"type\": \"heatmap\"}], \"heatmapgl\": [{\"colorbar\": {\"outlinewidth\": 0, \"ticks\": \"\"}, \"colorscale\": [[0.0, \"#0d0887\"], [0.1111111111111111, \"#46039f\"], [0.2222222222222222, \"#7201a8\"], [0.3333333333333333, \"#9c179e\"], [0.4444444444444444, \"#bd3786\"], [0.5555555555555556, \"#d8576b\"], [0.6666666666666666, \"#ed7953\"], [0.7777777777777778, \"#fb9f3a\"], [0.8888888888888888, \"#fdca26\"], [1.0, \"#f0f921\"]], \"type\": \"heatmapgl\"}], \"histogram\": [{\"marker\": {\"colorbar\": {\"outlinewidth\": 0, \"ticks\": \"\"}}, \"type\": \"histogram\"}], \"histogram2d\": [{\"colorbar\": {\"outlinewidth\": 0, \"ticks\": \"\"}, \"colorscale\": [[0.0, \"#0d0887\"], [0.1111111111111111, \"#46039f\"], [0.2222222222222222, \"#7201a8\"], [0.3333333333333333, \"#9c179e\"], [0.4444444444444444, \"#bd3786\"], [0.5555555555555556, \"#d8576b\"], [0.6666666666666666, \"#ed7953\"], [0.7777777777777778, \"#fb9f3a\"], [0.8888888888888888, \"#fdca26\"], [1.0, \"#f0f921\"]], \"type\": \"histogram2d\"}], \"histogram2dcontour\": [{\"colorbar\": {\"outlinewidth\": 0, \"ticks\": \"\"}, \"colorscale\": [[0.0, \"#0d0887\"], [0.1111111111111111, \"#46039f\"], [0.2222222222222222, \"#7201a8\"], [0.3333333333333333, \"#9c179e\"], [0.4444444444444444, \"#bd3786\"], [0.5555555555555556, \"#d8576b\"], [0.6666666666666666, \"#ed7953\"], [0.7777777777777778, \"#fb9f3a\"], [0.8888888888888888, \"#fdca26\"], [1.0, \"#f0f921\"]], \"type\": \"histogram2dcontour\"}], \"mesh3d\": [{\"colorbar\": {\"outlinewidth\": 0, \"ticks\": \"\"}, \"type\": \"mesh3d\"}], \"parcoords\": [{\"line\": {\"colorbar\": {\"outlinewidth\": 0, \"ticks\": \"\"}}, \"type\": \"parcoords\"}], \"pie\": [{\"automargin\": true, \"type\": \"pie\"}], \"scatter\": [{\"marker\": {\"colorbar\": {\"outlinewidth\": 0, \"ticks\": \"\"}}, \"type\": \"scatter\"}], \"scatter3d\": [{\"line\": {\"colorbar\": {\"outlinewidth\": 0, \"ticks\": \"\"}}, \"marker\": {\"colorbar\": {\"outlinewidth\": 0, \"ticks\": \"\"}}, \"type\": \"scatter3d\"}], \"scattercarpet\": [{\"marker\": {\"colorbar\": {\"outlinewidth\": 0, \"ticks\": \"\"}}, \"type\": \"scattercarpet\"}], \"scattergeo\": [{\"marker\": {\"colorbar\": {\"outlinewidth\": 0, \"ticks\": \"\"}}, \"type\": \"scattergeo\"}], \"scattergl\": [{\"marker\": {\"colorbar\": {\"outlinewidth\": 0, \"ticks\": \"\"}}, \"type\": \"scattergl\"}], \"scattermapbox\": [{\"marker\": {\"colorbar\": {\"outlinewidth\": 0, \"ticks\": \"\"}}, \"type\": \"scattermapbox\"}], \"scatterpolar\": [{\"marker\": {\"colorbar\": {\"outlinewidth\": 0, \"ticks\": \"\"}}, \"type\": \"scatterpolar\"}], \"scatterpolargl\": [{\"marker\": {\"colorbar\": {\"outlinewidth\": 0, \"ticks\": \"\"}}, \"type\": \"scatterpolargl\"}], \"scatterternary\": [{\"marker\": {\"colorbar\": {\"outlinewidth\": 0, \"ticks\": \"\"}}, \"type\": \"scatterternary\"}], \"surface\": [{\"colorbar\": {\"outlinewidth\": 0, \"ticks\": \"\"}, \"colorscale\": [[0.0, \"#0d0887\"], [0.1111111111111111, \"#46039f\"], [0.2222222222222222, \"#7201a8\"], [0.3333333333333333, \"#9c179e\"], [0.4444444444444444, \"#bd3786\"], [0.5555555555555556, \"#d8576b\"], [0.6666666666666666, \"#ed7953\"], [0.7777777777777778, \"#fb9f3a\"], [0.8888888888888888, \"#fdca26\"], [1.0, \"#f0f921\"]], \"type\": \"surface\"}], \"table\": [{\"cells\": {\"fill\": {\"color\": \"#EBF0F8\"}, \"line\": {\"color\": \"white\"}}, \"header\": {\"fill\": {\"color\": \"#C8D4E3\"}, \"line\": {\"color\": \"white\"}}, \"type\": \"table\"}]}, \"layout\": {\"annotationdefaults\": {\"arrowcolor\": \"#2a3f5f\", \"arrowhead\": 0, \"arrowwidth\": 1}, \"autotypenumbers\": \"strict\", \"coloraxis\": {\"colorbar\": {\"outlinewidth\": 0, \"ticks\": \"\"}}, \"colorscale\": {\"diverging\": [[0, \"#8e0152\"], [0.1, \"#c51b7d\"], [0.2, \"#de77ae\"], [0.3, \"#f1b6da\"], [0.4, \"#fde0ef\"], [0.5, \"#f7f7f7\"], [0.6, \"#e6f5d0\"], [0.7, \"#b8e186\"], [0.8, \"#7fbc41\"], [0.9, \"#4d9221\"], [1, \"#276419\"]], \"sequential\": [[0.0, \"#0d0887\"], [0.1111111111111111, \"#46039f\"], [0.2222222222222222, \"#7201a8\"], [0.3333333333333333, \"#9c179e\"], [0.4444444444444444, \"#bd3786\"], [0.5555555555555556, \"#d8576b\"], [0.6666666666666666, \"#ed7953\"], [0.7777777777777778, \"#fb9f3a\"], [0.8888888888888888, \"#fdca26\"], [1.0, \"#f0f921\"]], \"sequentialminus\": [[0.0, \"#0d0887\"], [0.1111111111111111, \"#46039f\"], [0.2222222222222222, \"#7201a8\"], [0.3333333333333333, \"#9c179e\"], [0.4444444444444444, \"#bd3786\"], [0.5555555555555556, \"#d8576b\"], [0.6666666666666666, \"#ed7953\"], [0.7777777777777778, \"#fb9f3a\"], [0.8888888888888888, \"#fdca26\"], [1.0, \"#f0f921\"]]}, \"colorway\": [\"#636efa\", \"#EF553B\", \"#00cc96\", \"#ab63fa\", \"#FFA15A\", \"#19d3f3\", \"#FF6692\", \"#B6E880\", \"#FF97FF\", \"#FECB52\"], \"font\": {\"color\": \"#2a3f5f\"}, \"geo\": {\"bgcolor\": \"white\", \"lakecolor\": \"white\", \"landcolor\": \"#E5ECF6\", \"showlakes\": true, \"showland\": true, \"subunitcolor\": \"white\"}, \"hoverlabel\": {\"align\": \"left\"}, \"hovermode\": \"closest\", \"mapbox\": {\"style\": \"light\"}, \"paper_bgcolor\": \"white\", \"plot_bgcolor\": \"#E5ECF6\", \"polar\": {\"angularaxis\": {\"gridcolor\": \"white\", \"linecolor\": \"white\", \"ticks\": \"\"}, \"bgcolor\": \"#E5ECF6\", \"radialaxis\": {\"gridcolor\": \"white\", \"linecolor\": \"white\", \"ticks\": \"\"}}, \"scene\": {\"xaxis\": {\"backgroundcolor\": \"#E5ECF6\", \"gridcolor\": \"white\", \"gridwidth\": 2, \"linecolor\": \"white\", \"showbackground\": true, \"ticks\": \"\", \"zerolinecolor\": \"white\"}, \"yaxis\": {\"backgroundcolor\": \"#E5ECF6\", \"gridcolor\": \"white\", \"gridwidth\": 2, \"linecolor\": \"white\", \"showbackground\": true, \"ticks\": \"\", \"zerolinecolor\": \"white\"}, \"zaxis\": {\"backgroundcolor\": \"#E5ECF6\", \"gridcolor\": \"white\", \"gridwidth\": 2, \"linecolor\": \"white\", \"showbackground\": true, \"ticks\": \"\", \"zerolinecolor\": \"white\"}}, \"shapedefaults\": {\"line\": {\"color\": \"#2a3f5f\"}}, \"ternary\": {\"aaxis\": {\"gridcolor\": \"white\", \"linecolor\": \"white\", \"ticks\": \"\"}, \"baxis\": {\"gridcolor\": \"white\", \"linecolor\": \"white\", \"ticks\": \"\"}, \"bgcolor\": \"#E5ECF6\", \"caxis\": {\"gridcolor\": \"white\", \"linecolor\": \"white\", \"ticks\": \"\"}}, \"title\": {\"x\": 0.05}, \"xaxis\": {\"automargin\": true, \"gridcolor\": \"white\", \"linecolor\": \"white\", \"ticks\": \"\", \"title\": {\"standoff\": 15}, \"zerolinecolor\": \"white\", \"zerolinewidth\": 2}, \"yaxis\": {\"automargin\": true, \"gridcolor\": \"white\", \"linecolor\": \"white\", \"ticks\": \"\", \"title\": {\"standoff\": 15}, \"zerolinecolor\": \"white\", \"zerolinewidth\": 2}}}, \"xaxis\": {\"anchor\": \"y\", \"domain\": [0.0, 1.0], \"title\": {\"text\": \"model_power\"}}, \"yaxis\": {\"anchor\": \"x\", \"domain\": [0.0, 1.0], \"title\": {\"text\": \"fit_quality\"}}},                        {\"responsive\": true}                    ).then(function(){\n",
       "                            \n",
       "var gd = document.getElementById('eb4cdf78-b6a0-46a9-b5c1-f8ac3caaffe6');\n",
       "var x = new MutationObserver(function (mutations, observer) {{\n",
       "        var display = window.getComputedStyle(gd).display;\n",
       "        if (!display || display === 'none') {{\n",
       "            console.log([gd, 'removed!']);\n",
       "            Plotly.purge(gd);\n",
       "            observer.disconnect();\n",
       "        }}\n",
       "}});\n",
       "\n",
       "// Listen for the removal of the full notebook cells\n",
       "var notebookContainer = gd.closest('#notebook-container');\n",
       "if (notebookContainer) {{\n",
       "    x.observe(notebookContainer, {childList: true});\n",
       "}}\n",
       "\n",
       "// Listen for the clearing of the current output cell\n",
       "var outputEl = gd.closest('.output');\n",
       "if (outputEl) {{\n",
       "    x.observe(outputEl, {childList: true});\n",
       "}}\n",
       "\n",
       "                        })                };                });            </script>        </div>"
      ]
     },
     "metadata": {},
     "output_type": "display_data"
    },
    {
     "name": "stdout",
     "output_type": "stream",
     "text": [
      "fold 5 params = 1.5_0.1_6_50 complete\r"
     ]
    }
   ],
   "source": [
    "### Watch in action with just a small gridsearch\n",
    "save_path = 'C:/Users/marcusdeckert/Box/marcusdeckert/Presentation Work/CARFAX Academy/Lesson 7 stuff/small_gs.html'\n",
    "base_score = data1_train['incloss_col'].sum()/data1_train['ee_col'].sum()\n",
    "\n",
    "drop_cols = ['ee_col','incloss_col','pp']\n",
    "\n",
    "tweedie_p_list = [1.5]\n",
    "bmf_list = [.05,.10]\n",
    "max_depth_list = [6]\n",
    "num_round_list = [25,50]\n",
    "\n",
    "cv_sub('incloss_col','pred_loss','ee_col', drop_cols, save_path)"
   ]
  },
  {
   "cell_type": "code",
   "execution_count": 23,
   "id": "b0956da8",
   "metadata": {},
   "outputs": [
    {
     "data": {
      "application/vnd.plotly.v1+json": {
       "config": {
        "plotlyServerURL": "https://plot.ly"
       },
       "data": [
        {
         "customdata": [
          [
           1.4,
           0.05,
           6,
           50
          ],
          [
           1.4,
           0.05,
           6,
           75
          ],
          [
           1.4,
           0.05,
           6,
           100
          ],
          [
           1.4,
           0.05,
           8,
           50
          ],
          [
           1.4,
           0.05,
           8,
           75
          ],
          [
           1.4,
           0.05,
           8,
           100
          ],
          [
           1.4,
           0.05,
           10,
           50
          ],
          [
           1.4,
           0.05,
           10,
           75
          ],
          [
           1.4,
           0.05,
           10,
           100
          ],
          [
           1.4,
           0.1,
           6,
           50
          ],
          [
           1.4,
           0.1,
           6,
           75
          ],
          [
           1.4,
           0.1,
           6,
           100
          ],
          [
           1.4,
           0.1,
           8,
           50
          ],
          [
           1.4,
           0.1,
           8,
           75
          ],
          [
           1.4,
           0.1,
           8,
           100
          ],
          [
           1.4,
           0.1,
           10,
           50
          ],
          [
           1.4,
           0.1,
           10,
           75
          ],
          [
           1.4,
           0.1,
           10,
           100
          ],
          [
           1.4,
           0.2,
           6,
           50
          ],
          [
           1.4,
           0.2,
           6,
           75
          ],
          [
           1.4,
           0.2,
           6,
           100
          ],
          [
           1.4,
           0.2,
           8,
           50
          ],
          [
           1.4,
           0.2,
           8,
           75
          ],
          [
           1.4,
           0.2,
           8,
           100
          ],
          [
           1.4,
           0.2,
           10,
           50
          ],
          [
           1.4,
           0.2,
           10,
           75
          ],
          [
           1.4,
           0.2,
           10,
           100
          ],
          [
           1.5,
           0.05,
           6,
           50
          ],
          [
           1.5,
           0.05,
           6,
           75
          ],
          [
           1.5,
           0.05,
           6,
           100
          ],
          [
           1.5,
           0.05,
           8,
           50
          ],
          [
           1.5,
           0.05,
           8,
           75
          ],
          [
           1.5,
           0.05,
           8,
           100
          ],
          [
           1.5,
           0.05,
           10,
           50
          ],
          [
           1.5,
           0.05,
           10,
           75
          ],
          [
           1.5,
           0.05,
           10,
           100
          ],
          [
           1.5,
           0.1,
           6,
           50
          ],
          [
           1.5,
           0.1,
           6,
           75
          ],
          [
           1.5,
           0.1,
           6,
           100
          ],
          [
           1.5,
           0.1,
           8,
           50
          ],
          [
           1.5,
           0.1,
           8,
           75
          ],
          [
           1.5,
           0.1,
           8,
           100
          ],
          [
           1.5,
           0.1,
           10,
           50
          ],
          [
           1.5,
           0.1,
           10,
           75
          ],
          [
           1.5,
           0.1,
           10,
           100
          ],
          [
           1.5,
           0.2,
           6,
           50
          ],
          [
           1.5,
           0.2,
           6,
           75
          ],
          [
           1.5,
           0.2,
           6,
           100
          ],
          [
           1.5,
           0.2,
           8,
           50
          ],
          [
           1.5,
           0.2,
           8,
           75
          ],
          [
           1.5,
           0.2,
           8,
           100
          ],
          [
           1.5,
           0.2,
           10,
           50
          ],
          [
           1.5,
           0.2,
           10,
           75
          ],
          [
           1.5,
           0.2,
           10,
           100
          ],
          [
           1.6,
           0.05,
           6,
           50
          ],
          [
           1.6,
           0.05,
           6,
           75
          ],
          [
           1.6,
           0.05,
           6,
           100
          ],
          [
           1.6,
           0.05,
           8,
           50
          ],
          [
           1.6,
           0.05,
           8,
           75
          ],
          [
           1.6,
           0.05,
           8,
           100
          ],
          [
           1.6,
           0.05,
           10,
           50
          ],
          [
           1.6,
           0.05,
           10,
           75
          ],
          [
           1.6,
           0.05,
           10,
           100
          ],
          [
           1.6,
           0.1,
           6,
           50
          ],
          [
           1.6,
           0.1,
           6,
           75
          ],
          [
           1.6,
           0.1,
           6,
           100
          ],
          [
           1.6,
           0.1,
           8,
           50
          ],
          [
           1.6,
           0.1,
           8,
           75
          ],
          [
           1.6,
           0.1,
           8,
           100
          ],
          [
           1.6,
           0.1,
           10,
           50
          ],
          [
           1.6,
           0.1,
           10,
           75
          ],
          [
           1.6,
           0.1,
           10,
           100
          ],
          [
           1.6,
           0.2,
           6,
           50
          ],
          [
           1.6,
           0.2,
           6,
           75
          ],
          [
           1.6,
           0.2,
           6,
           100
          ],
          [
           1.6,
           0.2,
           8,
           50
          ],
          [
           1.6,
           0.2,
           8,
           75
          ],
          [
           1.6,
           0.2,
           8,
           100
          ],
          [
           1.6,
           0.2,
           10,
           50
          ],
          [
           1.6,
           0.2,
           10,
           75
          ],
          [
           1.6,
           0.2,
           10,
           100
          ]
         ],
         "hovertemplate": "model_power=%{x}<br>fit_quality=%{y}<br>tweedie_p=%{customdata[0]}<br>bmf=%{customdata[1]}<br>max_depth=%{customdata[2]}<br>num_round=%{customdata[3]}<extra></extra>",
         "legendgroup": "",
         "marker": {
          "color": "#636efa",
          "symbol": "circle"
         },
         "mode": "markers",
         "name": "",
         "orientation": "v",
         "showlegend": false,
         "type": "scatter",
         "x": [
          0.47089434205259745,
          0.5248080883690939,
          0.5695975910227757,
          0.5555219304610606,
          0.6215175207792025,
          0.6778715464263382,
          0.6749751465188218,
          0.7566767791703162,
          0.8101827330626247,
          0.5801054593129008,
          0.6421182043685725,
          0.6821134424286612,
          0.6981467266143293,
          0.7705106061570911,
          0.8305215946015357,
          0.8168896907867509,
          0.8947028668589642,
          0.9357684226268821,
          0.7088844386816385,
          0.7779997240244365,
          0.8312748849017881,
          0.8571915600141713,
          0.9236343263737838,
          0.9509478008307793,
          0.9406165599091167,
          0.9708003798376827,
          0.9821162478424199,
          0.4823103287919016,
          0.5404369630740196,
          0.5863245355518515,
          0.5760821234357903,
          0.6419399178707279,
          0.6971590689587084,
          0.6944788400759564,
          0.7721834863242353,
          0.8333554834917883,
          0.5980308982650998,
          0.6597090083540149,
          0.7118923236632781,
          0.7149646512333311,
          0.8081296591601074,
          0.8655387941380447,
          0.8380951968617069,
          0.913019249977207,
          0.9477230875250285,
          0.7306299381685409,
          0.8023480019093394,
          0.8490662619002389,
          0.8654360145939375,
          0.9300950800669652,
          0.956517497948169,
          0.9544258912625103,
          0.979597515859153,
          0.9869694641203217,
          0.49895922816485994,
          0.5588471887565742,
          0.6042196738696084,
          0.6042581023977274,
          0.678699174159515,
          0.7454721036762607,
          0.7243569301468262,
          0.8031765991033281,
          0.8637940149298726,
          0.610846680599565,
          0.670288578027016,
          0.7257952390012272,
          0.7468181169335063,
          0.8313191484842672,
          0.8837778366973863,
          0.8706804049858574,
          0.9341472788600619,
          0.9635674800545282,
          0.7561745929723667,
          0.833098387183071,
          0.8808970448265117,
          0.888107064638211,
          0.9406498499465368,
          0.9634803782187842,
          0.9633939353027163,
          0.9824732317074361,
          0.9894737500090729
         ],
         "xaxis": "x",
         "y": [
          0.36948707351650245,
          0.2697446236263347,
          0.29961136116073445,
          0.317159932195339,
          0.3305427030573086,
          0.29476714492109163,
          0.3046118729611461,
          0.25689811959203074,
          0.1942180241057019,
          0.3434473155545442,
          0.3156768000588288,
          0.23555329373537495,
          0.2428074434691944,
          0.18900828769519387,
          0.09465609449980325,
          0.17750481154506143,
          0.11656632605811594,
          0.06371876647582086,
          0.29793635061608975,
          0.26256159100113374,
          0.19168169252363126,
          0.12867426861843903,
          0.041398315775989604,
          0.04383315801414813,
          0.06188875337686626,
          0.023306242357598796,
          0.012631927725415704,
          0.27733000680571535,
          0.3016980404356193,
          0.4297583945804867,
          0.24679334817859777,
          0.2824039840291294,
          0.31541574422568286,
          0.2433453128660954,
          0.20600652478973974,
          0.17056409997606242,
          0.43199819695070507,
          0.346823172506626,
          0.22501654126913576,
          0.19000862608528574,
          0.1933445491761644,
          0.10915213611003913,
          0.1695891501435249,
          0.08806618057413067,
          0.03895371823683709,
          0.19613325046815377,
          0.15307631409071162,
          0.148691368368869,
          0.15194169433745813,
          0.08267267996905625,
          0.047571935495977935,
          0.0389630071413799,
          0.016602753092480403,
          0.014013014037766603,
          0.29687362843068976,
          0.34579767505961834,
          0.2989462010470296,
          0.3534420795746329,
          0.28387593022309254,
          0.1893298456925251,
          0.2291068030920725,
          0.19915882057900977,
          0.10971007768135424,
          0.3826897089470278,
          0.2658797228774447,
          0.20957331940905063,
          0.20344797718274804,
          0.1405524214127435,
          0.10783602804513356,
          0.10446665147793137,
          0.05066284361374949,
          0.023594790860509595,
          0.18895126104815257,
          0.13200718340854495,
          0.0975998943287768,
          0.11961974999151778,
          0.06217008626762173,
          0.030325678600659246,
          0.03343702753305524,
          0.01460415113961484,
          0.010450131037003586
         ],
         "yaxis": "y"
        }
       ],
       "layout": {
        "legend": {
         "tracegroupgap": 0
        },
        "margin": {
         "t": 60
        },
        "template": {
         "data": {
          "bar": [
           {
            "error_x": {
             "color": "#2a3f5f"
            },
            "error_y": {
             "color": "#2a3f5f"
            },
            "marker": {
             "line": {
              "color": "#E5ECF6",
              "width": 0.5
             }
            },
            "type": "bar"
           }
          ],
          "barpolar": [
           {
            "marker": {
             "line": {
              "color": "#E5ECF6",
              "width": 0.5
             }
            },
            "type": "barpolar"
           }
          ],
          "carpet": [
           {
            "aaxis": {
             "endlinecolor": "#2a3f5f",
             "gridcolor": "white",
             "linecolor": "white",
             "minorgridcolor": "white",
             "startlinecolor": "#2a3f5f"
            },
            "baxis": {
             "endlinecolor": "#2a3f5f",
             "gridcolor": "white",
             "linecolor": "white",
             "minorgridcolor": "white",
             "startlinecolor": "#2a3f5f"
            },
            "type": "carpet"
           }
          ],
          "choropleth": [
           {
            "colorbar": {
             "outlinewidth": 0,
             "ticks": ""
            },
            "type": "choropleth"
           }
          ],
          "contour": [
           {
            "colorbar": {
             "outlinewidth": 0,
             "ticks": ""
            },
            "colorscale": [
             [
              0,
              "#0d0887"
             ],
             [
              0.1111111111111111,
              "#46039f"
             ],
             [
              0.2222222222222222,
              "#7201a8"
             ],
             [
              0.3333333333333333,
              "#9c179e"
             ],
             [
              0.4444444444444444,
              "#bd3786"
             ],
             [
              0.5555555555555556,
              "#d8576b"
             ],
             [
              0.6666666666666666,
              "#ed7953"
             ],
             [
              0.7777777777777778,
              "#fb9f3a"
             ],
             [
              0.8888888888888888,
              "#fdca26"
             ],
             [
              1,
              "#f0f921"
             ]
            ],
            "type": "contour"
           }
          ],
          "contourcarpet": [
           {
            "colorbar": {
             "outlinewidth": 0,
             "ticks": ""
            },
            "type": "contourcarpet"
           }
          ],
          "heatmap": [
           {
            "colorbar": {
             "outlinewidth": 0,
             "ticks": ""
            },
            "colorscale": [
             [
              0,
              "#0d0887"
             ],
             [
              0.1111111111111111,
              "#46039f"
             ],
             [
              0.2222222222222222,
              "#7201a8"
             ],
             [
              0.3333333333333333,
              "#9c179e"
             ],
             [
              0.4444444444444444,
              "#bd3786"
             ],
             [
              0.5555555555555556,
              "#d8576b"
             ],
             [
              0.6666666666666666,
              "#ed7953"
             ],
             [
              0.7777777777777778,
              "#fb9f3a"
             ],
             [
              0.8888888888888888,
              "#fdca26"
             ],
             [
              1,
              "#f0f921"
             ]
            ],
            "type": "heatmap"
           }
          ],
          "heatmapgl": [
           {
            "colorbar": {
             "outlinewidth": 0,
             "ticks": ""
            },
            "colorscale": [
             [
              0,
              "#0d0887"
             ],
             [
              0.1111111111111111,
              "#46039f"
             ],
             [
              0.2222222222222222,
              "#7201a8"
             ],
             [
              0.3333333333333333,
              "#9c179e"
             ],
             [
              0.4444444444444444,
              "#bd3786"
             ],
             [
              0.5555555555555556,
              "#d8576b"
             ],
             [
              0.6666666666666666,
              "#ed7953"
             ],
             [
              0.7777777777777778,
              "#fb9f3a"
             ],
             [
              0.8888888888888888,
              "#fdca26"
             ],
             [
              1,
              "#f0f921"
             ]
            ],
            "type": "heatmapgl"
           }
          ],
          "histogram": [
           {
            "marker": {
             "colorbar": {
              "outlinewidth": 0,
              "ticks": ""
             }
            },
            "type": "histogram"
           }
          ],
          "histogram2d": [
           {
            "colorbar": {
             "outlinewidth": 0,
             "ticks": ""
            },
            "colorscale": [
             [
              0,
              "#0d0887"
             ],
             [
              0.1111111111111111,
              "#46039f"
             ],
             [
              0.2222222222222222,
              "#7201a8"
             ],
             [
              0.3333333333333333,
              "#9c179e"
             ],
             [
              0.4444444444444444,
              "#bd3786"
             ],
             [
              0.5555555555555556,
              "#d8576b"
             ],
             [
              0.6666666666666666,
              "#ed7953"
             ],
             [
              0.7777777777777778,
              "#fb9f3a"
             ],
             [
              0.8888888888888888,
              "#fdca26"
             ],
             [
              1,
              "#f0f921"
             ]
            ],
            "type": "histogram2d"
           }
          ],
          "histogram2dcontour": [
           {
            "colorbar": {
             "outlinewidth": 0,
             "ticks": ""
            },
            "colorscale": [
             [
              0,
              "#0d0887"
             ],
             [
              0.1111111111111111,
              "#46039f"
             ],
             [
              0.2222222222222222,
              "#7201a8"
             ],
             [
              0.3333333333333333,
              "#9c179e"
             ],
             [
              0.4444444444444444,
              "#bd3786"
             ],
             [
              0.5555555555555556,
              "#d8576b"
             ],
             [
              0.6666666666666666,
              "#ed7953"
             ],
             [
              0.7777777777777778,
              "#fb9f3a"
             ],
             [
              0.8888888888888888,
              "#fdca26"
             ],
             [
              1,
              "#f0f921"
             ]
            ],
            "type": "histogram2dcontour"
           }
          ],
          "mesh3d": [
           {
            "colorbar": {
             "outlinewidth": 0,
             "ticks": ""
            },
            "type": "mesh3d"
           }
          ],
          "parcoords": [
           {
            "line": {
             "colorbar": {
              "outlinewidth": 0,
              "ticks": ""
             }
            },
            "type": "parcoords"
           }
          ],
          "pie": [
           {
            "automargin": true,
            "type": "pie"
           }
          ],
          "scatter": [
           {
            "marker": {
             "colorbar": {
              "outlinewidth": 0,
              "ticks": ""
             }
            },
            "type": "scatter"
           }
          ],
          "scatter3d": [
           {
            "line": {
             "colorbar": {
              "outlinewidth": 0,
              "ticks": ""
             }
            },
            "marker": {
             "colorbar": {
              "outlinewidth": 0,
              "ticks": ""
             }
            },
            "type": "scatter3d"
           }
          ],
          "scattercarpet": [
           {
            "marker": {
             "colorbar": {
              "outlinewidth": 0,
              "ticks": ""
             }
            },
            "type": "scattercarpet"
           }
          ],
          "scattergeo": [
           {
            "marker": {
             "colorbar": {
              "outlinewidth": 0,
              "ticks": ""
             }
            },
            "type": "scattergeo"
           }
          ],
          "scattergl": [
           {
            "marker": {
             "colorbar": {
              "outlinewidth": 0,
              "ticks": ""
             }
            },
            "type": "scattergl"
           }
          ],
          "scattermapbox": [
           {
            "marker": {
             "colorbar": {
              "outlinewidth": 0,
              "ticks": ""
             }
            },
            "type": "scattermapbox"
           }
          ],
          "scatterpolar": [
           {
            "marker": {
             "colorbar": {
              "outlinewidth": 0,
              "ticks": ""
             }
            },
            "type": "scatterpolar"
           }
          ],
          "scatterpolargl": [
           {
            "marker": {
             "colorbar": {
              "outlinewidth": 0,
              "ticks": ""
             }
            },
            "type": "scatterpolargl"
           }
          ],
          "scatterternary": [
           {
            "marker": {
             "colorbar": {
              "outlinewidth": 0,
              "ticks": ""
             }
            },
            "type": "scatterternary"
           }
          ],
          "surface": [
           {
            "colorbar": {
             "outlinewidth": 0,
             "ticks": ""
            },
            "colorscale": [
             [
              0,
              "#0d0887"
             ],
             [
              0.1111111111111111,
              "#46039f"
             ],
             [
              0.2222222222222222,
              "#7201a8"
             ],
             [
              0.3333333333333333,
              "#9c179e"
             ],
             [
              0.4444444444444444,
              "#bd3786"
             ],
             [
              0.5555555555555556,
              "#d8576b"
             ],
             [
              0.6666666666666666,
              "#ed7953"
             ],
             [
              0.7777777777777778,
              "#fb9f3a"
             ],
             [
              0.8888888888888888,
              "#fdca26"
             ],
             [
              1,
              "#f0f921"
             ]
            ],
            "type": "surface"
           }
          ],
          "table": [
           {
            "cells": {
             "fill": {
              "color": "#EBF0F8"
             },
             "line": {
              "color": "white"
             }
            },
            "header": {
             "fill": {
              "color": "#C8D4E3"
             },
             "line": {
              "color": "white"
             }
            },
            "type": "table"
           }
          ]
         },
         "layout": {
          "annotationdefaults": {
           "arrowcolor": "#2a3f5f",
           "arrowhead": 0,
           "arrowwidth": 1
          },
          "autotypenumbers": "strict",
          "coloraxis": {
           "colorbar": {
            "outlinewidth": 0,
            "ticks": ""
           }
          },
          "colorscale": {
           "diverging": [
            [
             0,
             "#8e0152"
            ],
            [
             0.1,
             "#c51b7d"
            ],
            [
             0.2,
             "#de77ae"
            ],
            [
             0.3,
             "#f1b6da"
            ],
            [
             0.4,
             "#fde0ef"
            ],
            [
             0.5,
             "#f7f7f7"
            ],
            [
             0.6,
             "#e6f5d0"
            ],
            [
             0.7,
             "#b8e186"
            ],
            [
             0.8,
             "#7fbc41"
            ],
            [
             0.9,
             "#4d9221"
            ],
            [
             1,
             "#276419"
            ]
           ],
           "sequential": [
            [
             0,
             "#0d0887"
            ],
            [
             0.1111111111111111,
             "#46039f"
            ],
            [
             0.2222222222222222,
             "#7201a8"
            ],
            [
             0.3333333333333333,
             "#9c179e"
            ],
            [
             0.4444444444444444,
             "#bd3786"
            ],
            [
             0.5555555555555556,
             "#d8576b"
            ],
            [
             0.6666666666666666,
             "#ed7953"
            ],
            [
             0.7777777777777778,
             "#fb9f3a"
            ],
            [
             0.8888888888888888,
             "#fdca26"
            ],
            [
             1,
             "#f0f921"
            ]
           ],
           "sequentialminus": [
            [
             0,
             "#0d0887"
            ],
            [
             0.1111111111111111,
             "#46039f"
            ],
            [
             0.2222222222222222,
             "#7201a8"
            ],
            [
             0.3333333333333333,
             "#9c179e"
            ],
            [
             0.4444444444444444,
             "#bd3786"
            ],
            [
             0.5555555555555556,
             "#d8576b"
            ],
            [
             0.6666666666666666,
             "#ed7953"
            ],
            [
             0.7777777777777778,
             "#fb9f3a"
            ],
            [
             0.8888888888888888,
             "#fdca26"
            ],
            [
             1,
             "#f0f921"
            ]
           ]
          },
          "colorway": [
           "#636efa",
           "#EF553B",
           "#00cc96",
           "#ab63fa",
           "#FFA15A",
           "#19d3f3",
           "#FF6692",
           "#B6E880",
           "#FF97FF",
           "#FECB52"
          ],
          "font": {
           "color": "#2a3f5f"
          },
          "geo": {
           "bgcolor": "white",
           "lakecolor": "white",
           "landcolor": "#E5ECF6",
           "showlakes": true,
           "showland": true,
           "subunitcolor": "white"
          },
          "hoverlabel": {
           "align": "left"
          },
          "hovermode": "closest",
          "mapbox": {
           "style": "light"
          },
          "paper_bgcolor": "white",
          "plot_bgcolor": "#E5ECF6",
          "polar": {
           "angularaxis": {
            "gridcolor": "white",
            "linecolor": "white",
            "ticks": ""
           },
           "bgcolor": "#E5ECF6",
           "radialaxis": {
            "gridcolor": "white",
            "linecolor": "white",
            "ticks": ""
           }
          },
          "scene": {
           "xaxis": {
            "backgroundcolor": "#E5ECF6",
            "gridcolor": "white",
            "gridwidth": 2,
            "linecolor": "white",
            "showbackground": true,
            "ticks": "",
            "zerolinecolor": "white"
           },
           "yaxis": {
            "backgroundcolor": "#E5ECF6",
            "gridcolor": "white",
            "gridwidth": 2,
            "linecolor": "white",
            "showbackground": true,
            "ticks": "",
            "zerolinecolor": "white"
           },
           "zaxis": {
            "backgroundcolor": "#E5ECF6",
            "gridcolor": "white",
            "gridwidth": 2,
            "linecolor": "white",
            "showbackground": true,
            "ticks": "",
            "zerolinecolor": "white"
           }
          },
          "shapedefaults": {
           "line": {
            "color": "#2a3f5f"
           }
          },
          "ternary": {
           "aaxis": {
            "gridcolor": "white",
            "linecolor": "white",
            "ticks": ""
           },
           "baxis": {
            "gridcolor": "white",
            "linecolor": "white",
            "ticks": ""
           },
           "bgcolor": "#E5ECF6",
           "caxis": {
            "gridcolor": "white",
            "linecolor": "white",
            "ticks": ""
           }
          },
          "title": {
           "x": 0.05
          },
          "xaxis": {
           "automargin": true,
           "gridcolor": "white",
           "linecolor": "white",
           "ticks": "",
           "title": {
            "standoff": 15
           },
           "zerolinecolor": "white",
           "zerolinewidth": 2
          },
          "yaxis": {
           "automargin": true,
           "gridcolor": "white",
           "linecolor": "white",
           "ticks": "",
           "title": {
            "standoff": 15
           },
           "zerolinecolor": "white",
           "zerolinewidth": 2
          }
         }
        },
        "xaxis": {
         "anchor": "y",
         "domain": [
          0,
          1
         ],
         "title": {
          "text": "model_power"
         }
        },
        "yaxis": {
         "anchor": "x",
         "domain": [
          0,
          1
         ],
         "title": {
          "text": "fit_quality"
         }
        }
       }
      },
      "text/html": [
       "<div>                            <div id=\"f816b6de-ab2e-4a40-b4f0-dc4fb6192f55\" class=\"plotly-graph-div\" style=\"height:525px; width:100%;\"></div>            <script type=\"text/javascript\">                require([\"plotly\"], function(Plotly) {                    window.PLOTLYENV=window.PLOTLYENV || {};                                    if (document.getElementById(\"f816b6de-ab2e-4a40-b4f0-dc4fb6192f55\")) {                    Plotly.newPlot(                        \"f816b6de-ab2e-4a40-b4f0-dc4fb6192f55\",                        [{\"customdata\": [[1.4, 0.05, 6.0, 50.0], [1.4, 0.05, 6.0, 75.0], [1.4, 0.05, 6.0, 100.0], [1.4, 0.05, 8.0, 50.0], [1.4, 0.05, 8.0, 75.0], [1.4, 0.05, 8.0, 100.0], [1.4, 0.05, 10.0, 50.0], [1.4, 0.05, 10.0, 75.0], [1.4, 0.05, 10.0, 100.0], [1.4, 0.1, 6.0, 50.0], [1.4, 0.1, 6.0, 75.0], [1.4, 0.1, 6.0, 100.0], [1.4, 0.1, 8.0, 50.0], [1.4, 0.1, 8.0, 75.0], [1.4, 0.1, 8.0, 100.0], [1.4, 0.1, 10.0, 50.0], [1.4, 0.1, 10.0, 75.0], [1.4, 0.1, 10.0, 100.0], [1.4, 0.2, 6.0, 50.0], [1.4, 0.2, 6.0, 75.0], [1.4, 0.2, 6.0, 100.0], [1.4, 0.2, 8.0, 50.0], [1.4, 0.2, 8.0, 75.0], [1.4, 0.2, 8.0, 100.0], [1.4, 0.2, 10.0, 50.0], [1.4, 0.2, 10.0, 75.0], [1.4, 0.2, 10.0, 100.0], [1.5, 0.05, 6.0, 50.0], [1.5, 0.05, 6.0, 75.0], [1.5, 0.05, 6.0, 100.0], [1.5, 0.05, 8.0, 50.0], [1.5, 0.05, 8.0, 75.0], [1.5, 0.05, 8.0, 100.0], [1.5, 0.05, 10.0, 50.0], [1.5, 0.05, 10.0, 75.0], [1.5, 0.05, 10.0, 100.0], [1.5, 0.1, 6.0, 50.0], [1.5, 0.1, 6.0, 75.0], [1.5, 0.1, 6.0, 100.0], [1.5, 0.1, 8.0, 50.0], [1.5, 0.1, 8.0, 75.0], [1.5, 0.1, 8.0, 100.0], [1.5, 0.1, 10.0, 50.0], [1.5, 0.1, 10.0, 75.0], [1.5, 0.1, 10.0, 100.0], [1.5, 0.2, 6.0, 50.0], [1.5, 0.2, 6.0, 75.0], [1.5, 0.2, 6.0, 100.0], [1.5, 0.2, 8.0, 50.0], [1.5, 0.2, 8.0, 75.0], [1.5, 0.2, 8.0, 100.0], [1.5, 0.2, 10.0, 50.0], [1.5, 0.2, 10.0, 75.0], [1.5, 0.2, 10.0, 100.0], [1.6, 0.05, 6.0, 50.0], [1.6, 0.05, 6.0, 75.0], [1.6, 0.05, 6.0, 100.0], [1.6, 0.05, 8.0, 50.0], [1.6, 0.05, 8.0, 75.0], [1.6, 0.05, 8.0, 100.0], [1.6, 0.05, 10.0, 50.0], [1.6, 0.05, 10.0, 75.0], [1.6, 0.05, 10.0, 100.0], [1.6, 0.1, 6.0, 50.0], [1.6, 0.1, 6.0, 75.0], [1.6, 0.1, 6.0, 100.0], [1.6, 0.1, 8.0, 50.0], [1.6, 0.1, 8.0, 75.0], [1.6, 0.1, 8.0, 100.0], [1.6, 0.1, 10.0, 50.0], [1.6, 0.1, 10.0, 75.0], [1.6, 0.1, 10.0, 100.0], [1.6, 0.2, 6.0, 50.0], [1.6, 0.2, 6.0, 75.0], [1.6, 0.2, 6.0, 100.0], [1.6, 0.2, 8.0, 50.0], [1.6, 0.2, 8.0, 75.0], [1.6, 0.2, 8.0, 100.0], [1.6, 0.2, 10.0, 50.0], [1.6, 0.2, 10.0, 75.0], [1.6, 0.2, 10.0, 100.0]], \"hovertemplate\": \"model_power=%{x}<br>fit_quality=%{y}<br>tweedie_p=%{customdata[0]}<br>bmf=%{customdata[1]}<br>max_depth=%{customdata[2]}<br>num_round=%{customdata[3]}<extra></extra>\", \"legendgroup\": \"\", \"marker\": {\"color\": \"#636efa\", \"symbol\": \"circle\"}, \"mode\": \"markers\", \"name\": \"\", \"orientation\": \"v\", \"showlegend\": false, \"type\": \"scatter\", \"x\": [0.47089434205259745, 0.5248080883690939, 0.5695975910227757, 0.5555219304610606, 0.6215175207792025, 0.6778715464263382, 0.6749751465188218, 0.7566767791703162, 0.8101827330626247, 0.5801054593129008, 0.6421182043685725, 0.6821134424286612, 0.6981467266143293, 0.7705106061570911, 0.8305215946015357, 0.8168896907867509, 0.8947028668589642, 0.9357684226268821, 0.7088844386816385, 0.7779997240244365, 0.8312748849017881, 0.8571915600141713, 0.9236343263737838, 0.9509478008307793, 0.9406165599091167, 0.9708003798376827, 0.9821162478424199, 0.4823103287919016, 0.5404369630740196, 0.5863245355518515, 0.5760821234357903, 0.6419399178707279, 0.6971590689587084, 0.6944788400759564, 0.7721834863242353, 0.8333554834917883, 0.5980308982650998, 0.6597090083540149, 0.7118923236632781, 0.7149646512333311, 0.8081296591601074, 0.8655387941380447, 0.8380951968617069, 0.913019249977207, 0.9477230875250285, 0.7306299381685409, 0.8023480019093394, 0.8490662619002389, 0.8654360145939375, 0.9300950800669652, 0.956517497948169, 0.9544258912625103, 0.979597515859153, 0.9869694641203217, 0.49895922816485994, 0.5588471887565742, 0.6042196738696084, 0.6042581023977274, 0.678699174159515, 0.7454721036762607, 0.7243569301468262, 0.8031765991033281, 0.8637940149298726, 0.610846680599565, 0.670288578027016, 0.7257952390012272, 0.7468181169335063, 0.8313191484842672, 0.8837778366973863, 0.8706804049858574, 0.9341472788600619, 0.9635674800545282, 0.7561745929723667, 0.833098387183071, 0.8808970448265117, 0.888107064638211, 0.9406498499465368, 0.9634803782187842, 0.9633939353027163, 0.9824732317074361, 0.9894737500090729], \"xaxis\": \"x\", \"y\": [0.36948707351650245, 0.2697446236263347, 0.29961136116073445, 0.317159932195339, 0.3305427030573086, 0.29476714492109163, 0.3046118729611461, 0.25689811959203074, 0.1942180241057019, 0.3434473155545442, 0.3156768000588288, 0.23555329373537495, 0.2428074434691944, 0.18900828769519387, 0.09465609449980325, 0.17750481154506143, 0.11656632605811594, 0.06371876647582086, 0.29793635061608975, 0.26256159100113374, 0.19168169252363126, 0.12867426861843903, 0.041398315775989604, 0.04383315801414813, 0.06188875337686626, 0.023306242357598796, 0.012631927725415704, 0.27733000680571535, 0.3016980404356193, 0.4297583945804867, 0.24679334817859777, 0.2824039840291294, 0.31541574422568286, 0.2433453128660954, 0.20600652478973974, 0.17056409997606242, 0.43199819695070507, 0.346823172506626, 0.22501654126913576, 0.19000862608528574, 0.1933445491761644, 0.10915213611003913, 0.1695891501435249, 0.08806618057413067, 0.03895371823683709, 0.19613325046815377, 0.15307631409071162, 0.148691368368869, 0.15194169433745813, 0.08267267996905625, 0.047571935495977935, 0.0389630071413799, 0.016602753092480403, 0.014013014037766603, 0.29687362843068976, 0.34579767505961834, 0.2989462010470296, 0.3534420795746329, 0.28387593022309254, 0.1893298456925251, 0.2291068030920725, 0.19915882057900977, 0.10971007768135424, 0.3826897089470278, 0.2658797228774447, 0.20957331940905063, 0.20344797718274804, 0.1405524214127435, 0.10783602804513356, 0.10446665147793137, 0.05066284361374949, 0.023594790860509595, 0.18895126104815257, 0.13200718340854495, 0.0975998943287768, 0.11961974999151778, 0.06217008626762173, 0.030325678600659246, 0.03343702753305524, 0.01460415113961484, 0.010450131037003586], \"yaxis\": \"y\"}],                        {\"legend\": {\"tracegroupgap\": 0}, \"margin\": {\"t\": 60}, \"template\": {\"data\": {\"bar\": [{\"error_x\": {\"color\": \"#2a3f5f\"}, \"error_y\": {\"color\": \"#2a3f5f\"}, \"marker\": {\"line\": {\"color\": \"#E5ECF6\", \"width\": 0.5}}, \"type\": \"bar\"}], \"barpolar\": [{\"marker\": {\"line\": {\"color\": \"#E5ECF6\", \"width\": 0.5}}, \"type\": \"barpolar\"}], \"carpet\": [{\"aaxis\": {\"endlinecolor\": \"#2a3f5f\", \"gridcolor\": \"white\", \"linecolor\": \"white\", \"minorgridcolor\": \"white\", \"startlinecolor\": \"#2a3f5f\"}, \"baxis\": {\"endlinecolor\": \"#2a3f5f\", \"gridcolor\": \"white\", \"linecolor\": \"white\", \"minorgridcolor\": \"white\", \"startlinecolor\": \"#2a3f5f\"}, \"type\": \"carpet\"}], \"choropleth\": [{\"colorbar\": {\"outlinewidth\": 0, \"ticks\": \"\"}, \"type\": \"choropleth\"}], \"contour\": [{\"colorbar\": {\"outlinewidth\": 0, \"ticks\": \"\"}, \"colorscale\": [[0.0, \"#0d0887\"], [0.1111111111111111, \"#46039f\"], [0.2222222222222222, \"#7201a8\"], [0.3333333333333333, \"#9c179e\"], [0.4444444444444444, \"#bd3786\"], [0.5555555555555556, \"#d8576b\"], [0.6666666666666666, \"#ed7953\"], [0.7777777777777778, \"#fb9f3a\"], [0.8888888888888888, \"#fdca26\"], [1.0, \"#f0f921\"]], \"type\": \"contour\"}], \"contourcarpet\": [{\"colorbar\": {\"outlinewidth\": 0, \"ticks\": \"\"}, \"type\": \"contourcarpet\"}], \"heatmap\": [{\"colorbar\": {\"outlinewidth\": 0, \"ticks\": \"\"}, \"colorscale\": [[0.0, \"#0d0887\"], [0.1111111111111111, \"#46039f\"], [0.2222222222222222, \"#7201a8\"], [0.3333333333333333, \"#9c179e\"], [0.4444444444444444, \"#bd3786\"], [0.5555555555555556, \"#d8576b\"], [0.6666666666666666, \"#ed7953\"], [0.7777777777777778, \"#fb9f3a\"], [0.8888888888888888, \"#fdca26\"], [1.0, \"#f0f921\"]], \"type\": \"heatmap\"}], \"heatmapgl\": [{\"colorbar\": {\"outlinewidth\": 0, \"ticks\": \"\"}, \"colorscale\": [[0.0, \"#0d0887\"], [0.1111111111111111, \"#46039f\"], [0.2222222222222222, \"#7201a8\"], [0.3333333333333333, \"#9c179e\"], [0.4444444444444444, \"#bd3786\"], [0.5555555555555556, \"#d8576b\"], [0.6666666666666666, \"#ed7953\"], [0.7777777777777778, \"#fb9f3a\"], [0.8888888888888888, \"#fdca26\"], [1.0, \"#f0f921\"]], \"type\": \"heatmapgl\"}], \"histogram\": [{\"marker\": {\"colorbar\": {\"outlinewidth\": 0, \"ticks\": \"\"}}, \"type\": \"histogram\"}], \"histogram2d\": [{\"colorbar\": {\"outlinewidth\": 0, \"ticks\": \"\"}, \"colorscale\": [[0.0, \"#0d0887\"], [0.1111111111111111, \"#46039f\"], [0.2222222222222222, \"#7201a8\"], [0.3333333333333333, \"#9c179e\"], [0.4444444444444444, \"#bd3786\"], [0.5555555555555556, \"#d8576b\"], [0.6666666666666666, \"#ed7953\"], [0.7777777777777778, \"#fb9f3a\"], [0.8888888888888888, \"#fdca26\"], [1.0, \"#f0f921\"]], \"type\": \"histogram2d\"}], \"histogram2dcontour\": [{\"colorbar\": {\"outlinewidth\": 0, \"ticks\": \"\"}, \"colorscale\": [[0.0, \"#0d0887\"], [0.1111111111111111, \"#46039f\"], [0.2222222222222222, \"#7201a8\"], [0.3333333333333333, \"#9c179e\"], [0.4444444444444444, \"#bd3786\"], [0.5555555555555556, \"#d8576b\"], [0.6666666666666666, \"#ed7953\"], [0.7777777777777778, \"#fb9f3a\"], [0.8888888888888888, \"#fdca26\"], [1.0, \"#f0f921\"]], \"type\": \"histogram2dcontour\"}], \"mesh3d\": [{\"colorbar\": {\"outlinewidth\": 0, \"ticks\": \"\"}, \"type\": \"mesh3d\"}], \"parcoords\": [{\"line\": {\"colorbar\": {\"outlinewidth\": 0, \"ticks\": \"\"}}, \"type\": \"parcoords\"}], \"pie\": [{\"automargin\": true, \"type\": \"pie\"}], \"scatter\": [{\"marker\": {\"colorbar\": {\"outlinewidth\": 0, \"ticks\": \"\"}}, \"type\": \"scatter\"}], \"scatter3d\": [{\"line\": {\"colorbar\": {\"outlinewidth\": 0, \"ticks\": \"\"}}, \"marker\": {\"colorbar\": {\"outlinewidth\": 0, \"ticks\": \"\"}}, \"type\": \"scatter3d\"}], \"scattercarpet\": [{\"marker\": {\"colorbar\": {\"outlinewidth\": 0, \"ticks\": \"\"}}, \"type\": \"scattercarpet\"}], \"scattergeo\": [{\"marker\": {\"colorbar\": {\"outlinewidth\": 0, \"ticks\": \"\"}}, \"type\": \"scattergeo\"}], \"scattergl\": [{\"marker\": {\"colorbar\": {\"outlinewidth\": 0, \"ticks\": \"\"}}, \"type\": \"scattergl\"}], \"scattermapbox\": [{\"marker\": {\"colorbar\": {\"outlinewidth\": 0, \"ticks\": \"\"}}, \"type\": \"scattermapbox\"}], \"scatterpolar\": [{\"marker\": {\"colorbar\": {\"outlinewidth\": 0, \"ticks\": \"\"}}, \"type\": \"scatterpolar\"}], \"scatterpolargl\": [{\"marker\": {\"colorbar\": {\"outlinewidth\": 0, \"ticks\": \"\"}}, \"type\": \"scatterpolargl\"}], \"scatterternary\": [{\"marker\": {\"colorbar\": {\"outlinewidth\": 0, \"ticks\": \"\"}}, \"type\": \"scatterternary\"}], \"surface\": [{\"colorbar\": {\"outlinewidth\": 0, \"ticks\": \"\"}, \"colorscale\": [[0.0, \"#0d0887\"], [0.1111111111111111, \"#46039f\"], [0.2222222222222222, \"#7201a8\"], [0.3333333333333333, \"#9c179e\"], [0.4444444444444444, \"#bd3786\"], [0.5555555555555556, \"#d8576b\"], [0.6666666666666666, \"#ed7953\"], [0.7777777777777778, \"#fb9f3a\"], [0.8888888888888888, \"#fdca26\"], [1.0, \"#f0f921\"]], \"type\": \"surface\"}], \"table\": [{\"cells\": {\"fill\": {\"color\": \"#EBF0F8\"}, \"line\": {\"color\": \"white\"}}, \"header\": {\"fill\": {\"color\": \"#C8D4E3\"}, \"line\": {\"color\": \"white\"}}, \"type\": \"table\"}]}, \"layout\": {\"annotationdefaults\": {\"arrowcolor\": \"#2a3f5f\", \"arrowhead\": 0, \"arrowwidth\": 1}, \"autotypenumbers\": \"strict\", \"coloraxis\": {\"colorbar\": {\"outlinewidth\": 0, \"ticks\": \"\"}}, \"colorscale\": {\"diverging\": [[0, \"#8e0152\"], [0.1, \"#c51b7d\"], [0.2, \"#de77ae\"], [0.3, \"#f1b6da\"], [0.4, \"#fde0ef\"], [0.5, \"#f7f7f7\"], [0.6, \"#e6f5d0\"], [0.7, \"#b8e186\"], [0.8, \"#7fbc41\"], [0.9, \"#4d9221\"], [1, \"#276419\"]], \"sequential\": [[0.0, \"#0d0887\"], [0.1111111111111111, \"#46039f\"], [0.2222222222222222, \"#7201a8\"], [0.3333333333333333, \"#9c179e\"], [0.4444444444444444, \"#bd3786\"], [0.5555555555555556, \"#d8576b\"], [0.6666666666666666, \"#ed7953\"], [0.7777777777777778, \"#fb9f3a\"], [0.8888888888888888, \"#fdca26\"], [1.0, \"#f0f921\"]], \"sequentialminus\": [[0.0, \"#0d0887\"], [0.1111111111111111, \"#46039f\"], [0.2222222222222222, \"#7201a8\"], [0.3333333333333333, \"#9c179e\"], [0.4444444444444444, \"#bd3786\"], [0.5555555555555556, \"#d8576b\"], [0.6666666666666666, \"#ed7953\"], [0.7777777777777778, \"#fb9f3a\"], [0.8888888888888888, \"#fdca26\"], [1.0, \"#f0f921\"]]}, \"colorway\": [\"#636efa\", \"#EF553B\", \"#00cc96\", \"#ab63fa\", \"#FFA15A\", \"#19d3f3\", \"#FF6692\", \"#B6E880\", \"#FF97FF\", \"#FECB52\"], \"font\": {\"color\": \"#2a3f5f\"}, \"geo\": {\"bgcolor\": \"white\", \"lakecolor\": \"white\", \"landcolor\": \"#E5ECF6\", \"showlakes\": true, \"showland\": true, \"subunitcolor\": \"white\"}, \"hoverlabel\": {\"align\": \"left\"}, \"hovermode\": \"closest\", \"mapbox\": {\"style\": \"light\"}, \"paper_bgcolor\": \"white\", \"plot_bgcolor\": \"#E5ECF6\", \"polar\": {\"angularaxis\": {\"gridcolor\": \"white\", \"linecolor\": \"white\", \"ticks\": \"\"}, \"bgcolor\": \"#E5ECF6\", \"radialaxis\": {\"gridcolor\": \"white\", \"linecolor\": \"white\", \"ticks\": \"\"}}, \"scene\": {\"xaxis\": {\"backgroundcolor\": \"#E5ECF6\", \"gridcolor\": \"white\", \"gridwidth\": 2, \"linecolor\": \"white\", \"showbackground\": true, \"ticks\": \"\", \"zerolinecolor\": \"white\"}, \"yaxis\": {\"backgroundcolor\": \"#E5ECF6\", \"gridcolor\": \"white\", \"gridwidth\": 2, \"linecolor\": \"white\", \"showbackground\": true, \"ticks\": \"\", \"zerolinecolor\": \"white\"}, \"zaxis\": {\"backgroundcolor\": \"#E5ECF6\", \"gridcolor\": \"white\", \"gridwidth\": 2, \"linecolor\": \"white\", \"showbackground\": true, \"ticks\": \"\", \"zerolinecolor\": \"white\"}}, \"shapedefaults\": {\"line\": {\"color\": \"#2a3f5f\"}}, \"ternary\": {\"aaxis\": {\"gridcolor\": \"white\", \"linecolor\": \"white\", \"ticks\": \"\"}, \"baxis\": {\"gridcolor\": \"white\", \"linecolor\": \"white\", \"ticks\": \"\"}, \"bgcolor\": \"#E5ECF6\", \"caxis\": {\"gridcolor\": \"white\", \"linecolor\": \"white\", \"ticks\": \"\"}}, \"title\": {\"x\": 0.05}, \"xaxis\": {\"automargin\": true, \"gridcolor\": \"white\", \"linecolor\": \"white\", \"ticks\": \"\", \"title\": {\"standoff\": 15}, \"zerolinecolor\": \"white\", \"zerolinewidth\": 2}, \"yaxis\": {\"automargin\": true, \"gridcolor\": \"white\", \"linecolor\": \"white\", \"ticks\": \"\", \"title\": {\"standoff\": 15}, \"zerolinecolor\": \"white\", \"zerolinewidth\": 2}}}, \"xaxis\": {\"anchor\": \"y\", \"domain\": [0.0, 1.0], \"title\": {\"text\": \"model_power\"}}, \"yaxis\": {\"anchor\": \"x\", \"domain\": [0.0, 1.0], \"title\": {\"text\": \"fit_quality\"}}},                        {\"responsive\": true}                    ).then(function(){\n",
       "                            \n",
       "var gd = document.getElementById('f816b6de-ab2e-4a40-b4f0-dc4fb6192f55');\n",
       "var x = new MutationObserver(function (mutations, observer) {{\n",
       "        var display = window.getComputedStyle(gd).display;\n",
       "        if (!display || display === 'none') {{\n",
       "            console.log([gd, 'removed!']);\n",
       "            Plotly.purge(gd);\n",
       "            observer.disconnect();\n",
       "        }}\n",
       "}});\n",
       "\n",
       "// Listen for the removal of the full notebook cells\n",
       "var notebookContainer = gd.closest('#notebook-container');\n",
       "if (notebookContainer) {{\n",
       "    x.observe(notebookContainer, {childList: true});\n",
       "}}\n",
       "\n",
       "// Listen for the clearing of the current output cell\n",
       "var outputEl = gd.closest('.output');\n",
       "if (outputEl) {{\n",
       "    x.observe(outputEl, {childList: true});\n",
       "}}\n",
       "\n",
       "                        })                };                });            </script>        </div>"
      ]
     },
     "metadata": {},
     "output_type": "display_data"
    },
    {
     "name": "stdout",
     "output_type": "stream",
     "text": [
      "fold 5 params = 1.6_0.2_10_100 complete\r"
     ]
    }
   ],
   "source": [
    "save_path = 'C:/Users/marcusdeckert/Box/marcusdeckert/Presentation Work/CARFAX Academy/Lesson 7 stuff/round1_gs.html'\n",
    "base_score = data1_train['incloss_col'].sum()/data1_train['ee_col'].sum()\n",
    "\n",
    "tweedie_p_list = [1.4,1.5,1.6]\n",
    "bmf_list = [.05,.10,.20]\n",
    "max_depth_list = [6,8,10]\n",
    "num_round_list = [50,75,100]\n",
    "\n",
    "cv_sub('incloss_col','pred_loss','ee_col', drop_cols, save_path)"
   ]
  },
  {
   "cell_type": "code",
   "execution_count": 15,
   "id": "b9f59773",
   "metadata": {},
   "outputs": [
    {
     "name": "stdout",
     "output_type": "stream",
     "text": [
      "fold 5 complete\r"
     ]
    },
    {
     "data": {
      "image/png": "[encoded data removed]",
      "text/plain": [
       "<Figure size 864x432 with 2 Axes>"
      ]
     },
     "metadata": {
      "needs_background": "light"
     },
     "output_type": "display_data"
    },
    {
     "name": "stdout",
     "output_type": "stream",
     "text": [
      "   decile   ee_col  pp_act  pp_pred\n",
      "0    1.00 4,282.73   67.47     0.00\n",
      "1    2.00 4,508.63   95.90     0.00\n",
      "2    3.00 4,508.90  115.63     0.01\n",
      "3    4.00 4,510.49  112.75     0.04\n",
      "4    5.00 4,508.96  126.42     0.09\n",
      "5    6.00 4,509.56  122.66     0.18\n",
      "6    7.00 4,508.70  141.97     0.37\n",
      "7    8.00 4,510.83  176.67     0.79\n",
      "8    9.00 4,508.97  164.42     1.91\n",
      "9   10.00 4,736.44  263.10    26.14\n"
     ]
    }
   ],
   "source": [
    "# Review some top performers to narrow down search\n",
    "\n",
    "### Most powerful\n",
    "lift_cv_5_folds(data1_train, 1.4, .2, 10, 100, 'incloss_col', 'pred_loss', drop_cols, weight_name = 'ee_col', bins = 10)"
   ]
  },
  {
   "cell_type": "code",
   "execution_count": 48,
   "id": "11393baf",
   "metadata": {},
   "outputs": [
    {
     "name": "stdout",
     "output_type": "stream",
     "text": [
      "fold 5 complete\r"
     ]
    },
    {
     "data": {
      "image/png": "[encoded data removed]",
      "text/plain": [
       "<Figure size 864x432 with 2 Axes>"
      ]
     },
     "metadata": {
      "needs_background": "light"
     },
     "output_type": "display_data"
    },
    {
     "name": "stdout",
     "output_type": "stream",
     "text": [
      "   decile   ee_col  pp_act  pp_pred\n",
      "0    1.00 5,415.26   29.04     6.04\n",
      "1    2.00 5,697.32   62.31    22.57\n",
      "2    3.00 5,703.95   88.17    42.41\n",
      "3    4.00 5,702.36  131.09    60.03\n",
      "4    5.00 5,701.36  143.27    77.20\n",
      "5    6.00 5,699.65  120.97    95.80\n",
      "6    7.00 5,701.42  192.11   116.55\n",
      "7    8.00 5,700.79  125.73   138.42\n",
      "8    9.00 5,700.74  135.31   167.07\n",
      "9   10.00 5,988.46  277.68   256.17\n"
     ]
    }
   ],
   "source": [
    "### Best scoreband fit\n",
    "lift_cv_5_folds(data1_train, 1.5, .05, 6, 75, 'incloss_col', 'pred_loss', drop_cols, weight_name = 'ee_col', bins = 10)"
   ]
  },
  {
   "cell_type": "code",
   "execution_count": 51,
   "id": "15e7f1ec",
   "metadata": {},
   "outputs": [
    {
     "name": "stdout",
     "output_type": "stream",
     "text": [
      "fold 5 complete\r"
     ]
    },
    {
     "data": {
      "image/png": "[encoded data removed]",
      "text/plain": [
       "<Figure size 864x432 with 2 Axes>"
      ]
     },
     "metadata": {
      "needs_background": "light"
     },
     "output_type": "display_data"
    },
    {
     "name": "stdout",
     "output_type": "stream",
     "text": [
      "   decile   ee_col  pp_act  pp_pred\n",
      "0    1.00 5,414.29   67.37     1.22\n",
      "1    2.00 5,701.76   32.00     5.37\n",
      "2    3.00 5,700.28  104.99    11.75\n",
      "3    4.00 5,702.75  117.61    20.06\n",
      "4    5.00 5,701.21  127.57    30.39\n",
      "5    6.00 5,697.91  123.78    43.67\n",
      "6    7.00 5,703.43  142.05    60.08\n",
      "7    8.00 5,698.93  180.12    82.76\n",
      "8    9.00 5,701.31  174.11   120.07\n",
      "9   10.00 5,989.44  239.92   274.80\n"
     ]
    }
   ],
   "source": [
    "### Blend\n",
    "lift_cv_5_folds(data1_train, 1.4, .2, 6, 75, 'incloss_col', 'pred_loss', drop_cols, weight_name = 'ee_col', bins = 10)"
   ]
  },
  {
   "cell_type": "code",
   "execution_count": null,
   "id": "cab70441",
   "metadata": {},
   "outputs": [],
   "source": [
    "# Iterations"
   ]
  },
  {
   "cell_type": "code",
   "execution_count": 24,
   "id": "b65798b5",
   "metadata": {},
   "outputs": [
    {
     "data": {
      "application/vnd.plotly.v1+json": {
       "config": {
        "plotlyServerURL": "https://plot.ly"
       },
       "data": [
        {
         "customdata": [
          [
           1.5,
           0.01,
           2,
           25
          ],
          [
           1.5,
           0.01,
           2,
           50
          ],
          [
           1.5,
           0.01,
           2,
           75
          ],
          [
           1.5,
           0.01,
           4,
           25
          ],
          [
           1.5,
           0.01,
           4,
           50
          ],
          [
           1.5,
           0.01,
           4,
           75
          ],
          [
           1.5,
           0.01,
           6,
           25
          ],
          [
           1.5,
           0.01,
           6,
           50
          ],
          [
           1.5,
           0.01,
           6,
           75
          ],
          [
           1.5,
           0.03,
           2,
           25
          ],
          [
           1.5,
           0.03,
           2,
           50
          ],
          [
           1.5,
           0.03,
           2,
           75
          ],
          [
           1.5,
           0.03,
           4,
           25
          ],
          [
           1.5,
           0.03,
           4,
           50
          ],
          [
           1.5,
           0.03,
           4,
           75
          ],
          [
           1.5,
           0.03,
           6,
           25
          ],
          [
           1.5,
           0.03,
           6,
           50
          ],
          [
           1.5,
           0.03,
           6,
           75
          ],
          [
           1.5,
           0.05,
           2,
           25
          ],
          [
           1.5,
           0.05,
           2,
           50
          ],
          [
           1.5,
           0.05,
           2,
           75
          ],
          [
           1.5,
           0.05,
           4,
           25
          ],
          [
           1.5,
           0.05,
           4,
           50
          ],
          [
           1.5,
           0.05,
           4,
           75
          ],
          [
           1.5,
           0.05,
           6,
           25
          ],
          [
           1.5,
           0.05,
           6,
           50
          ],
          [
           1.5,
           0.05,
           6,
           75
          ],
          [
           1.6,
           0.01,
           2,
           25
          ],
          [
           1.6,
           0.01,
           2,
           50
          ],
          [
           1.6,
           0.01,
           2,
           75
          ],
          [
           1.6,
           0.01,
           4,
           25
          ],
          [
           1.6,
           0.01,
           4,
           50
          ],
          [
           1.6,
           0.01,
           4,
           75
          ],
          [
           1.6,
           0.01,
           6,
           25
          ],
          [
           1.6,
           0.01,
           6,
           50
          ],
          [
           1.6,
           0.01,
           6,
           75
          ],
          [
           1.6,
           0.03,
           2,
           25
          ],
          [
           1.6,
           0.03,
           2,
           50
          ],
          [
           1.6,
           0.03,
           2,
           75
          ],
          [
           1.6,
           0.03,
           4,
           25
          ],
          [
           1.6,
           0.03,
           4,
           50
          ],
          [
           1.6,
           0.03,
           4,
           75
          ],
          [
           1.6,
           0.03,
           6,
           25
          ],
          [
           1.6,
           0.03,
           6,
           50
          ],
          [
           1.6,
           0.03,
           6,
           75
          ],
          [
           1.6,
           0.05,
           2,
           25
          ],
          [
           1.6,
           0.05,
           2,
           50
          ],
          [
           1.6,
           0.05,
           2,
           75
          ],
          [
           1.6,
           0.05,
           4,
           25
          ],
          [
           1.6,
           0.05,
           4,
           50
          ],
          [
           1.6,
           0.05,
           4,
           75
          ],
          [
           1.6,
           0.05,
           6,
           25
          ],
          [
           1.6,
           0.05,
           6,
           50
          ],
          [
           1.6,
           0.05,
           6,
           75
          ]
         ],
         "hovertemplate": "model_power=%{x}<br>fit_quality=%{y}<br>tweedie_p=%{customdata[0]}<br>bmf=%{customdata[1]}<br>max_depth=%{customdata[2]}<br>num_round=%{customdata[3]}<extra></extra>",
         "legendgroup": "",
         "marker": {
          "color": "#636efa",
          "symbol": "circle"
         },
         "mode": "markers",
         "name": "",
         "orientation": "v",
         "showlegend": false,
         "type": "scatter",
         "x": [
          0.1290004206908625,
          0.16893558302451375,
          0.2056361439205201,
          0.1436694055604821,
          0.19941255615507575,
          0.2432628281441139,
          0.1629671515870641,
          0.2359482318090181,
          0.29162395133265856,
          0.20703928193885696,
          0.29036142912940405,
          0.33869522924754164,
          0.24464946781083824,
          0.33886453700315833,
          0.39799791731487283,
          0.29392021745101476,
          0.40148518352190504,
          0.4682776322979797,
          0.2679084978208677,
          0.3529176550933739,
          0.39744450440611806,
          0.3172771616660935,
          0.4158998188027356,
          0.4631999208044519,
          0.37489073483831636,
          0.4823103287919016,
          0.5404369630740196,
          0.13044703889373171,
          0.1722894772949986,
          0.2092938005520358,
          0.14904308446235603,
          0.2071514383139188,
          0.25197208154483003,
          0.17258416602868915,
          0.24652144961791103,
          0.3036091736591121,
          0.20968933895020198,
          0.292558291169113,
          0.3416539201971026,
          0.2531708797436328,
          0.34701523371797693,
          0.40544787595042636,
          0.3059977415771545,
          0.4149552397844952,
          0.48063585071494047,
          0.27079565338823297,
          0.352785471450411,
          0.39530115295207496,
          0.32285842560465655,
          0.41926214901882625,
          0.4674229166346938,
          0.38846641480060795,
          0.49895922816485994,
          0.5588471887565742
         ],
         "xaxis": "x",
         "y": [
          0.030346017905783264,
          0.018019696285795316,
          0.06206041174378281,
          0.03329043881328579,
          0.07000205256313112,
          0.08695824122257105,
          0,
          0.11202878874037556,
          0.2163046142293772,
          0.10804417059067895,
          0.10407705106555384,
          0.14839996543224226,
          0.08916258462444629,
          0.20228606466437765,
          0.23340185166708735,
          0.20213172749314548,
          0.2344560355738469,
          0.33623594397679074,
          0.07612858907037072,
          0.05777671898073553,
          0.13598847578789203,
          0.11423423837325056,
          0.2201282160102545,
          0.29610905703711,
          0.2521227727969196,
          0.27733000680571535,
          0.3016980404356193,
          0.04678235390009013,
          0.015605902908685488,
          0.05451121450560015,
          0,
          0.013612985174883362,
          0.07322187073640607,
          0.03233421968471293,
          0.2658495697944474,
          0.331489108541814,
          0.07302406823972733,
          0.1611553929097817,
          0.2014579982719508,
          0.14464716124831506,
          0.04912606465295295,
          0.19055674579615808,
          0.37230155966757206,
          0.36101917959548685,
          0.24158667835925707,
          0.06112607509772561,
          0.11004463986676141,
          0.2847693314752281,
          0.1607947809271863,
          0.41795179183158054,
          0.3002709142763057,
          0.29937128639302274,
          0.29687362843068976,
          0.34579767505961834
         ],
         "yaxis": "y"
        }
       ],
       "layout": {
        "legend": {
         "tracegroupgap": 0
        },
        "margin": {
         "t": 60
        },
        "template": {
         "data": {
          "bar": [
           {
            "error_x": {
             "color": "#2a3f5f"
            },
            "error_y": {
             "color": "#2a3f5f"
            },
            "marker": {
             "line": {
              "color": "#E5ECF6",
              "width": 0.5
             }
            },
            "type": "bar"
           }
          ],
          "barpolar": [
           {
            "marker": {
             "line": {
              "color": "#E5ECF6",
              "width": 0.5
             }
            },
            "type": "barpolar"
           }
          ],
          "carpet": [
           {
            "aaxis": {
             "endlinecolor": "#2a3f5f",
             "gridcolor": "white",
             "linecolor": "white",
             "minorgridcolor": "white",
             "startlinecolor": "#2a3f5f"
            },
            "baxis": {
             "endlinecolor": "#2a3f5f",
             "gridcolor": "white",
             "linecolor": "white",
             "minorgridcolor": "white",
             "startlinecolor": "#2a3f5f"
            },
            "type": "carpet"
           }
          ],
          "choropleth": [
           {
            "colorbar": {
             "outlinewidth": 0,
             "ticks": ""
            },
            "type": "choropleth"
           }
          ],
          "contour": [
           {
            "colorbar": {
             "outlinewidth": 0,
             "ticks": ""
            },
            "colorscale": [
             [
              0,
              "#0d0887"
             ],
             [
              0.1111111111111111,
              "#46039f"
             ],
             [
              0.2222222222222222,
              "#7201a8"
             ],
             [
              0.3333333333333333,
              "#9c179e"
             ],
             [
              0.4444444444444444,
              "#bd3786"
             ],
             [
              0.5555555555555556,
              "#d8576b"
             ],
             [
              0.6666666666666666,
              "#ed7953"
             ],
             [
              0.7777777777777778,
              "#fb9f3a"
             ],
             [
              0.8888888888888888,
              "#fdca26"
             ],
             [
              1,
              "#f0f921"
             ]
            ],
            "type": "contour"
           }
          ],
          "contourcarpet": [
           {
            "colorbar": {
             "outlinewidth": 0,
             "ticks": ""
            },
            "type": "contourcarpet"
           }
          ],
          "heatmap": [
           {
            "colorbar": {
             "outlinewidth": 0,
             "ticks": ""
            },
            "colorscale": [
             [
              0,
              "#0d0887"
             ],
             [
              0.1111111111111111,
              "#46039f"
             ],
             [
              0.2222222222222222,
              "#7201a8"
             ],
             [
              0.3333333333333333,
              "#9c179e"
             ],
             [
              0.4444444444444444,
              "#bd3786"
             ],
             [
              0.5555555555555556,
              "#d8576b"
             ],
             [
              0.6666666666666666,
              "#ed7953"
             ],
             [
              0.7777777777777778,
              "#fb9f3a"
             ],
             [
              0.8888888888888888,
              "#fdca26"
             ],
             [
              1,
              "#f0f921"
             ]
            ],
            "type": "heatmap"
           }
          ],
          "heatmapgl": [
           {
            "colorbar": {
             "outlinewidth": 0,
             "ticks": ""
            },
            "colorscale": [
             [
              0,
              "#0d0887"
             ],
             [
              0.1111111111111111,
              "#46039f"
             ],
             [
              0.2222222222222222,
              "#7201a8"
             ],
             [
              0.3333333333333333,
              "#9c179e"
             ],
             [
              0.4444444444444444,
              "#bd3786"
             ],
             [
              0.5555555555555556,
              "#d8576b"
             ],
             [
              0.6666666666666666,
              "#ed7953"
             ],
             [
              0.7777777777777778,
              "#fb9f3a"
             ],
             [
              0.8888888888888888,
              "#fdca26"
             ],
             [
              1,
              "#f0f921"
             ]
            ],
            "type": "heatmapgl"
           }
          ],
          "histogram": [
           {
            "marker": {
             "colorbar": {
              "outlinewidth": 0,
              "ticks": ""
             }
            },
            "type": "histogram"
           }
          ],
          "histogram2d": [
           {
            "colorbar": {
             "outlinewidth": 0,
             "ticks": ""
            },
            "colorscale": [
             [
              0,
              "#0d0887"
             ],
             [
              0.1111111111111111,
              "#46039f"
             ],
             [
              0.2222222222222222,
              "#7201a8"
             ],
             [
              0.3333333333333333,
              "#9c179e"
             ],
             [
              0.4444444444444444,
              "#bd3786"
             ],
             [
              0.5555555555555556,
              "#d8576b"
             ],
             [
              0.6666666666666666,
              "#ed7953"
             ],
             [
              0.7777777777777778,
              "#fb9f3a"
             ],
             [
              0.8888888888888888,
              "#fdca26"
             ],
             [
              1,
              "#f0f921"
             ]
            ],
            "type": "histogram2d"
           }
          ],
          "histogram2dcontour": [
           {
            "colorbar": {
             "outlinewidth": 0,
             "ticks": ""
            },
            "colorscale": [
             [
              0,
              "#0d0887"
             ],
             [
              0.1111111111111111,
              "#46039f"
             ],
             [
              0.2222222222222222,
              "#7201a8"
             ],
             [
              0.3333333333333333,
              "#9c179e"
             ],
             [
              0.4444444444444444,
              "#bd3786"
             ],
             [
              0.5555555555555556,
              "#d8576b"
             ],
             [
              0.6666666666666666,
              "#ed7953"
             ],
             [
              0.7777777777777778,
              "#fb9f3a"
             ],
             [
              0.8888888888888888,
              "#fdca26"
             ],
             [
              1,
              "#f0f921"
             ]
            ],
            "type": "histogram2dcontour"
           }
          ],
          "mesh3d": [
           {
            "colorbar": {
             "outlinewidth": 0,
             "ticks": ""
            },
            "type": "mesh3d"
           }
          ],
          "parcoords": [
           {
            "line": {
             "colorbar": {
              "outlinewidth": 0,
              "ticks": ""
             }
            },
            "type": "parcoords"
           }
          ],
          "pie": [
           {
            "automargin": true,
            "type": "pie"
           }
          ],
          "scatter": [
           {
            "marker": {
             "colorbar": {
              "outlinewidth": 0,
              "ticks": ""
             }
            },
            "type": "scatter"
           }
          ],
          "scatter3d": [
           {
            "line": {
             "colorbar": {
              "outlinewidth": 0,
              "ticks": ""
             }
            },
            "marker": {
             "colorbar": {
              "outlinewidth": 0,
              "ticks": ""
             }
            },
            "type": "scatter3d"
           }
          ],
          "scattercarpet": [
           {
            "marker": {
             "colorbar": {
              "outlinewidth": 0,
              "ticks": ""
             }
            },
            "type": "scattercarpet"
           }
          ],
          "scattergeo": [
           {
            "marker": {
             "colorbar": {
              "outlinewidth": 0,
              "ticks": ""
             }
            },
            "type": "scattergeo"
           }
          ],
          "scattergl": [
           {
            "marker": {
             "colorbar": {
              "outlinewidth": 0,
              "ticks": ""
             }
            },
            "type": "scattergl"
           }
          ],
          "scattermapbox": [
           {
            "marker": {
             "colorbar": {
              "outlinewidth": 0,
              "ticks": ""
             }
            },
            "type": "scattermapbox"
           }
          ],
          "scatterpolar": [
           {
            "marker": {
             "colorbar": {
              "outlinewidth": 0,
              "ticks": ""
             }
            },
            "type": "scatterpolar"
           }
          ],
          "scatterpolargl": [
           {
            "marker": {
             "colorbar": {
              "outlinewidth": 0,
              "ticks": ""
             }
            },
            "type": "scatterpolargl"
           }
          ],
          "scatterternary": [
           {
            "marker": {
             "colorbar": {
              "outlinewidth": 0,
              "ticks": ""
             }
            },
            "type": "scatterternary"
           }
          ],
          "surface": [
           {
            "colorbar": {
             "outlinewidth": 0,
             "ticks": ""
            },
            "colorscale": [
             [
              0,
              "#0d0887"
             ],
             [
              0.1111111111111111,
              "#46039f"
             ],
             [
              0.2222222222222222,
              "#7201a8"
             ],
             [
              0.3333333333333333,
              "#9c179e"
             ],
             [
              0.4444444444444444,
              "#bd3786"
             ],
             [
              0.5555555555555556,
              "#d8576b"
             ],
             [
              0.6666666666666666,
              "#ed7953"
             ],
             [
              0.7777777777777778,
              "#fb9f3a"
             ],
             [
              0.8888888888888888,
              "#fdca26"
             ],
             [
              1,
              "#f0f921"
             ]
            ],
            "type": "surface"
           }
          ],
          "table": [
           {
            "cells": {
             "fill": {
              "color": "#EBF0F8"
             },
             "line": {
              "color": "white"
             }
            },
            "header": {
             "fill": {
              "color": "#C8D4E3"
             },
             "line": {
              "color": "white"
             }
            },
            "type": "table"
           }
          ]
         },
         "layout": {
          "annotationdefaults": {
           "arrowcolor": "#2a3f5f",
           "arrowhead": 0,
           "arrowwidth": 1
          },
          "autotypenumbers": "strict",
          "coloraxis": {
           "colorbar": {
            "outlinewidth": 0,
            "ticks": ""
           }
          },
          "colorscale": {
           "diverging": [
            [
             0,
             "#8e0152"
            ],
            [
             0.1,
             "#c51b7d"
            ],
            [
             0.2,
             "#de77ae"
            ],
            [
             0.3,
             "#f1b6da"
            ],
            [
             0.4,
             "#fde0ef"
            ],
            [
             0.5,
             "#f7f7f7"
            ],
            [
             0.6,
             "#e6f5d0"
            ],
            [
             0.7,
             "#b8e186"
            ],
            [
             0.8,
             "#7fbc41"
            ],
            [
             0.9,
             "#4d9221"
            ],
            [
             1,
             "#276419"
            ]
           ],
           "sequential": [
            [
             0,
             "#0d0887"
            ],
            [
             0.1111111111111111,
             "#46039f"
            ],
            [
             0.2222222222222222,
             "#7201a8"
            ],
            [
             0.3333333333333333,
             "#9c179e"
            ],
            [
             0.4444444444444444,
             "#bd3786"
            ],
            [
             0.5555555555555556,
             "#d8576b"
            ],
            [
             0.6666666666666666,
             "#ed7953"
            ],
            [
             0.7777777777777778,
             "#fb9f3a"
            ],
            [
             0.8888888888888888,
             "#fdca26"
            ],
            [
             1,
             "#f0f921"
            ]
           ],
           "sequentialminus": [
            [
             0,
             "#0d0887"
            ],
            [
             0.1111111111111111,
             "#46039f"
            ],
            [
             0.2222222222222222,
             "#7201a8"
            ],
            [
             0.3333333333333333,
             "#9c179e"
            ],
            [
             0.4444444444444444,
             "#bd3786"
            ],
            [
             0.5555555555555556,
             "#d8576b"
            ],
            [
             0.6666666666666666,
             "#ed7953"
            ],
            [
             0.7777777777777778,
             "#fb9f3a"
            ],
            [
             0.8888888888888888,
             "#fdca26"
            ],
            [
             1,
             "#f0f921"
            ]
           ]
          },
          "colorway": [
           "#636efa",
           "#EF553B",
           "#00cc96",
           "#ab63fa",
           "#FFA15A",
           "#19d3f3",
           "#FF6692",
           "#B6E880",
           "#FF97FF",
           "#FECB52"
          ],
          "font": {
           "color": "#2a3f5f"
          },
          "geo": {
           "bgcolor": "white",
           "lakecolor": "white",
           "landcolor": "#E5ECF6",
           "showlakes": true,
           "showland": true,
           "subunitcolor": "white"
          },
          "hoverlabel": {
           "align": "left"
          },
          "hovermode": "closest",
          "mapbox": {
           "style": "light"
          },
          "paper_bgcolor": "white",
          "plot_bgcolor": "#E5ECF6",
          "polar": {
           "angularaxis": {
            "gridcolor": "white",
            "linecolor": "white",
            "ticks": ""
           },
           "bgcolor": "#E5ECF6",
           "radialaxis": {
            "gridcolor": "white",
            "linecolor": "white",
            "ticks": ""
           }
          },
          "scene": {
           "xaxis": {
            "backgroundcolor": "#E5ECF6",
            "gridcolor": "white",
            "gridwidth": 2,
            "linecolor": "white",
            "showbackground": true,
            "ticks": "",
            "zerolinecolor": "white"
           },
           "yaxis": {
            "backgroundcolor": "#E5ECF6",
            "gridcolor": "white",
            "gridwidth": 2,
            "linecolor": "white",
            "showbackground": true,
            "ticks": "",
            "zerolinecolor": "white"
           },
           "zaxis": {
            "backgroundcolor": "#E5ECF6",
            "gridcolor": "white",
            "gridwidth": 2,
            "linecolor": "white",
            "showbackground": true,
            "ticks": "",
            "zerolinecolor": "white"
           }
          },
          "shapedefaults": {
           "line": {
            "color": "#2a3f5f"
           }
          },
          "ternary": {
           "aaxis": {
            "gridcolor": "white",
            "linecolor": "white",
            "ticks": ""
           },
           "baxis": {
            "gridcolor": "white",
            "linecolor": "white",
            "ticks": ""
           },
           "bgcolor": "#E5ECF6",
           "caxis": {
            "gridcolor": "white",
            "linecolor": "white",
            "ticks": ""
           }
          },
          "title": {
           "x": 0.05
          },
          "xaxis": {
           "automargin": true,
           "gridcolor": "white",
           "linecolor": "white",
           "ticks": "",
           "title": {
            "standoff": 15
           },
           "zerolinecolor": "white",
           "zerolinewidth": 2
          },
          "yaxis": {
           "automargin": true,
           "gridcolor": "white",
           "linecolor": "white",
           "ticks": "",
           "title": {
            "standoff": 15
           },
           "zerolinecolor": "white",
           "zerolinewidth": 2
          }
         }
        },
        "xaxis": {
         "anchor": "y",
         "domain": [
          0,
          1
         ],
         "title": {
          "text": "model_power"
         }
        },
        "yaxis": {
         "anchor": "x",
         "domain": [
          0,
          1
         ],
         "title": {
          "text": "fit_quality"
         }
        }
       }
      },
      "text/html": [
       "<div>                            <div id=\"e6301682-8723-495d-8e6d-d614035aa2ee\" class=\"plotly-graph-div\" style=\"height:525px; width:100%;\"></div>            <script type=\"text/javascript\">                require([\"plotly\"], function(Plotly) {                    window.PLOTLYENV=window.PLOTLYENV || {};                                    if (document.getElementById(\"e6301682-8723-495d-8e6d-d614035aa2ee\")) {                    Plotly.newPlot(                        \"e6301682-8723-495d-8e6d-d614035aa2ee\",                        [{\"customdata\": [[1.5, 0.01, 2.0, 25.0], [1.5, 0.01, 2.0, 50.0], [1.5, 0.01, 2.0, 75.0], [1.5, 0.01, 4.0, 25.0], [1.5, 0.01, 4.0, 50.0], [1.5, 0.01, 4.0, 75.0], [1.5, 0.01, 6.0, 25.0], [1.5, 0.01, 6.0, 50.0], [1.5, 0.01, 6.0, 75.0], [1.5, 0.03, 2.0, 25.0], [1.5, 0.03, 2.0, 50.0], [1.5, 0.03, 2.0, 75.0], [1.5, 0.03, 4.0, 25.0], [1.5, 0.03, 4.0, 50.0], [1.5, 0.03, 4.0, 75.0], [1.5, 0.03, 6.0, 25.0], [1.5, 0.03, 6.0, 50.0], [1.5, 0.03, 6.0, 75.0], [1.5, 0.05, 2.0, 25.0], [1.5, 0.05, 2.0, 50.0], [1.5, 0.05, 2.0, 75.0], [1.5, 0.05, 4.0, 25.0], [1.5, 0.05, 4.0, 50.0], [1.5, 0.05, 4.0, 75.0], [1.5, 0.05, 6.0, 25.0], [1.5, 0.05, 6.0, 50.0], [1.5, 0.05, 6.0, 75.0], [1.6, 0.01, 2.0, 25.0], [1.6, 0.01, 2.0, 50.0], [1.6, 0.01, 2.0, 75.0], [1.6, 0.01, 4.0, 25.0], [1.6, 0.01, 4.0, 50.0], [1.6, 0.01, 4.0, 75.0], [1.6, 0.01, 6.0, 25.0], [1.6, 0.01, 6.0, 50.0], [1.6, 0.01, 6.0, 75.0], [1.6, 0.03, 2.0, 25.0], [1.6, 0.03, 2.0, 50.0], [1.6, 0.03, 2.0, 75.0], [1.6, 0.03, 4.0, 25.0], [1.6, 0.03, 4.0, 50.0], [1.6, 0.03, 4.0, 75.0], [1.6, 0.03, 6.0, 25.0], [1.6, 0.03, 6.0, 50.0], [1.6, 0.03, 6.0, 75.0], [1.6, 0.05, 2.0, 25.0], [1.6, 0.05, 2.0, 50.0], [1.6, 0.05, 2.0, 75.0], [1.6, 0.05, 4.0, 25.0], [1.6, 0.05, 4.0, 50.0], [1.6, 0.05, 4.0, 75.0], [1.6, 0.05, 6.0, 25.0], [1.6, 0.05, 6.0, 50.0], [1.6, 0.05, 6.0, 75.0]], \"hovertemplate\": \"model_power=%{x}<br>fit_quality=%{y}<br>tweedie_p=%{customdata[0]}<br>bmf=%{customdata[1]}<br>max_depth=%{customdata[2]}<br>num_round=%{customdata[3]}<extra></extra>\", \"legendgroup\": \"\", \"marker\": {\"color\": \"#636efa\", \"symbol\": \"circle\"}, \"mode\": \"markers\", \"name\": \"\", \"orientation\": \"v\", \"showlegend\": false, \"type\": \"scatter\", \"x\": [0.1290004206908625, 0.16893558302451375, 0.2056361439205201, 0.1436694055604821, 0.19941255615507575, 0.2432628281441139, 0.1629671515870641, 0.2359482318090181, 0.29162395133265856, 0.20703928193885696, 0.29036142912940405, 0.33869522924754164, 0.24464946781083824, 0.33886453700315833, 0.39799791731487283, 0.29392021745101476, 0.40148518352190504, 0.4682776322979797, 0.2679084978208677, 0.3529176550933739, 0.39744450440611806, 0.3172771616660935, 0.4158998188027356, 0.4631999208044519, 0.37489073483831636, 0.4823103287919016, 0.5404369630740196, 0.13044703889373171, 0.1722894772949986, 0.2092938005520358, 0.14904308446235603, 0.2071514383139188, 0.25197208154483003, 0.17258416602868915, 0.24652144961791103, 0.3036091736591121, 0.20968933895020198, 0.292558291169113, 0.3416539201971026, 0.2531708797436328, 0.34701523371797693, 0.40544787595042636, 0.3059977415771545, 0.4149552397844952, 0.48063585071494047, 0.27079565338823297, 0.352785471450411, 0.39530115295207496, 0.32285842560465655, 0.41926214901882625, 0.4674229166346938, 0.38846641480060795, 0.49895922816485994, 0.5588471887565742], \"xaxis\": \"x\", \"y\": [0.030346017905783264, 0.018019696285795316, 0.06206041174378281, 0.03329043881328579, 0.07000205256313112, 0.08695824122257105, 0.0, 0.11202878874037556, 0.2163046142293772, 0.10804417059067895, 0.10407705106555384, 0.14839996543224226, 0.08916258462444629, 0.20228606466437765, 0.23340185166708735, 0.20213172749314548, 0.2344560355738469, 0.33623594397679074, 0.07612858907037072, 0.05777671898073553, 0.13598847578789203, 0.11423423837325056, 0.2201282160102545, 0.29610905703711, 0.2521227727969196, 0.27733000680571535, 0.3016980404356193, 0.04678235390009013, 0.015605902908685488, 0.05451121450560015, 0.0, 0.013612985174883362, 0.07322187073640607, 0.03233421968471293, 0.2658495697944474, 0.331489108541814, 0.07302406823972733, 0.1611553929097817, 0.2014579982719508, 0.14464716124831506, 0.04912606465295295, 0.19055674579615808, 0.37230155966757206, 0.36101917959548685, 0.24158667835925707, 0.06112607509772561, 0.11004463986676141, 0.2847693314752281, 0.1607947809271863, 0.41795179183158054, 0.3002709142763057, 0.29937128639302274, 0.29687362843068976, 0.34579767505961834], \"yaxis\": \"y\"}],                        {\"legend\": {\"tracegroupgap\": 0}, \"margin\": {\"t\": 60}, \"template\": {\"data\": {\"bar\": [{\"error_x\": {\"color\": \"#2a3f5f\"}, \"error_y\": {\"color\": \"#2a3f5f\"}, \"marker\": {\"line\": {\"color\": \"#E5ECF6\", \"width\": 0.5}}, \"type\": \"bar\"}], \"barpolar\": [{\"marker\": {\"line\": {\"color\": \"#E5ECF6\", \"width\": 0.5}}, \"type\": \"barpolar\"}], \"carpet\": [{\"aaxis\": {\"endlinecolor\": \"#2a3f5f\", \"gridcolor\": \"white\", \"linecolor\": \"white\", \"minorgridcolor\": \"white\", \"startlinecolor\": \"#2a3f5f\"}, \"baxis\": {\"endlinecolor\": \"#2a3f5f\", \"gridcolor\": \"white\", \"linecolor\": \"white\", \"minorgridcolor\": \"white\", \"startlinecolor\": \"#2a3f5f\"}, \"type\": \"carpet\"}], \"choropleth\": [{\"colorbar\": {\"outlinewidth\": 0, \"ticks\": \"\"}, \"type\": \"choropleth\"}], \"contour\": [{\"colorbar\": {\"outlinewidth\": 0, \"ticks\": \"\"}, \"colorscale\": [[0.0, \"#0d0887\"], [0.1111111111111111, \"#46039f\"], [0.2222222222222222, \"#7201a8\"], [0.3333333333333333, \"#9c179e\"], [0.4444444444444444, \"#bd3786\"], [0.5555555555555556, \"#d8576b\"], [0.6666666666666666, \"#ed7953\"], [0.7777777777777778, \"#fb9f3a\"], [0.8888888888888888, \"#fdca26\"], [1.0, \"#f0f921\"]], \"type\": \"contour\"}], \"contourcarpet\": [{\"colorbar\": {\"outlinewidth\": 0, \"ticks\": \"\"}, \"type\": \"contourcarpet\"}], \"heatmap\": [{\"colorbar\": {\"outlinewidth\": 0, \"ticks\": \"\"}, \"colorscale\": [[0.0, \"#0d0887\"], [0.1111111111111111, \"#46039f\"], [0.2222222222222222, \"#7201a8\"], [0.3333333333333333, \"#9c179e\"], [0.4444444444444444, \"#bd3786\"], [0.5555555555555556, \"#d8576b\"], [0.6666666666666666, \"#ed7953\"], [0.7777777777777778, \"#fb9f3a\"], [0.8888888888888888, \"#fdca26\"], [1.0, \"#f0f921\"]], \"type\": \"heatmap\"}], \"heatmapgl\": [{\"colorbar\": {\"outlinewidth\": 0, \"ticks\": \"\"}, \"colorscale\": [[0.0, \"#0d0887\"], [0.1111111111111111, \"#46039f\"], [0.2222222222222222, \"#7201a8\"], [0.3333333333333333, \"#9c179e\"], [0.4444444444444444, \"#bd3786\"], [0.5555555555555556, \"#d8576b\"], [0.6666666666666666, \"#ed7953\"], [0.7777777777777778, \"#fb9f3a\"], [0.8888888888888888, \"#fdca26\"], [1.0, \"#f0f921\"]], \"type\": \"heatmapgl\"}], \"histogram\": [{\"marker\": {\"colorbar\": {\"outlinewidth\": 0, \"ticks\": \"\"}}, \"type\": \"histogram\"}], \"histogram2d\": [{\"colorbar\": {\"outlinewidth\": 0, \"ticks\": \"\"}, \"colorscale\": [[0.0, \"#0d0887\"], [0.1111111111111111, \"#46039f\"], [0.2222222222222222, \"#7201a8\"], [0.3333333333333333, \"#9c179e\"], [0.4444444444444444, \"#bd3786\"], [0.5555555555555556, \"#d8576b\"], [0.6666666666666666, \"#ed7953\"], [0.7777777777777778, \"#fb9f3a\"], [0.8888888888888888, \"#fdca26\"], [1.0, \"#f0f921\"]], \"type\": \"histogram2d\"}], \"histogram2dcontour\": [{\"colorbar\": {\"outlinewidth\": 0, \"ticks\": \"\"}, \"colorscale\": [[0.0, \"#0d0887\"], [0.1111111111111111, \"#46039f\"], [0.2222222222222222, \"#7201a8\"], [0.3333333333333333, \"#9c179e\"], [0.4444444444444444, \"#bd3786\"], [0.5555555555555556, \"#d8576b\"], [0.6666666666666666, \"#ed7953\"], [0.7777777777777778, \"#fb9f3a\"], [0.8888888888888888, \"#fdca26\"], [1.0, \"#f0f921\"]], \"type\": \"histogram2dcontour\"}], \"mesh3d\": [{\"colorbar\": {\"outlinewidth\": 0, \"ticks\": \"\"}, \"type\": \"mesh3d\"}], \"parcoords\": [{\"line\": {\"colorbar\": {\"outlinewidth\": 0, \"ticks\": \"\"}}, \"type\": \"parcoords\"}], \"pie\": [{\"automargin\": true, \"type\": \"pie\"}], \"scatter\": [{\"marker\": {\"colorbar\": {\"outlinewidth\": 0, \"ticks\": \"\"}}, \"type\": \"scatter\"}], \"scatter3d\": [{\"line\": {\"colorbar\": {\"outlinewidth\": 0, \"ticks\": \"\"}}, \"marker\": {\"colorbar\": {\"outlinewidth\": 0, \"ticks\": \"\"}}, \"type\": \"scatter3d\"}], \"scattercarpet\": [{\"marker\": {\"colorbar\": {\"outlinewidth\": 0, \"ticks\": \"\"}}, \"type\": \"scattercarpet\"}], \"scattergeo\": [{\"marker\": {\"colorbar\": {\"outlinewidth\": 0, \"ticks\": \"\"}}, \"type\": \"scattergeo\"}], \"scattergl\": [{\"marker\": {\"colorbar\": {\"outlinewidth\": 0, \"ticks\": \"\"}}, \"type\": \"scattergl\"}], \"scattermapbox\": [{\"marker\": {\"colorbar\": {\"outlinewidth\": 0, \"ticks\": \"\"}}, \"type\": \"scattermapbox\"}], \"scatterpolar\": [{\"marker\": {\"colorbar\": {\"outlinewidth\": 0, \"ticks\": \"\"}}, \"type\": \"scatterpolar\"}], \"scatterpolargl\": [{\"marker\": {\"colorbar\": {\"outlinewidth\": 0, \"ticks\": \"\"}}, \"type\": \"scatterpolargl\"}], \"scatterternary\": [{\"marker\": {\"colorbar\": {\"outlinewidth\": 0, \"ticks\": \"\"}}, \"type\": \"scatterternary\"}], \"surface\": [{\"colorbar\": {\"outlinewidth\": 0, \"ticks\": \"\"}, \"colorscale\": [[0.0, \"#0d0887\"], [0.1111111111111111, \"#46039f\"], [0.2222222222222222, \"#7201a8\"], [0.3333333333333333, \"#9c179e\"], [0.4444444444444444, \"#bd3786\"], [0.5555555555555556, \"#d8576b\"], [0.6666666666666666, \"#ed7953\"], [0.7777777777777778, \"#fb9f3a\"], [0.8888888888888888, \"#fdca26\"], [1.0, \"#f0f921\"]], \"type\": \"surface\"}], \"table\": [{\"cells\": {\"fill\": {\"color\": \"#EBF0F8\"}, \"line\": {\"color\": \"white\"}}, \"header\": {\"fill\": {\"color\": \"#C8D4E3\"}, \"line\": {\"color\": \"white\"}}, \"type\": \"table\"}]}, \"layout\": {\"annotationdefaults\": {\"arrowcolor\": \"#2a3f5f\", \"arrowhead\": 0, \"arrowwidth\": 1}, \"autotypenumbers\": \"strict\", \"coloraxis\": {\"colorbar\": {\"outlinewidth\": 0, \"ticks\": \"\"}}, \"colorscale\": {\"diverging\": [[0, \"#8e0152\"], [0.1, \"#c51b7d\"], [0.2, \"#de77ae\"], [0.3, \"#f1b6da\"], [0.4, \"#fde0ef\"], [0.5, \"#f7f7f7\"], [0.6, \"#e6f5d0\"], [0.7, \"#b8e186\"], [0.8, \"#7fbc41\"], [0.9, \"#4d9221\"], [1, \"#276419\"]], \"sequential\": [[0.0, \"#0d0887\"], [0.1111111111111111, \"#46039f\"], [0.2222222222222222, \"#7201a8\"], [0.3333333333333333, \"#9c179e\"], [0.4444444444444444, \"#bd3786\"], [0.5555555555555556, \"#d8576b\"], [0.6666666666666666, \"#ed7953\"], [0.7777777777777778, \"#fb9f3a\"], [0.8888888888888888, \"#fdca26\"], [1.0, \"#f0f921\"]], \"sequentialminus\": [[0.0, \"#0d0887\"], [0.1111111111111111, \"#46039f\"], [0.2222222222222222, \"#7201a8\"], [0.3333333333333333, \"#9c179e\"], [0.4444444444444444, \"#bd3786\"], [0.5555555555555556, \"#d8576b\"], [0.6666666666666666, \"#ed7953\"], [0.7777777777777778, \"#fb9f3a\"], [0.8888888888888888, \"#fdca26\"], [1.0, \"#f0f921\"]]}, \"colorway\": [\"#636efa\", \"#EF553B\", \"#00cc96\", \"#ab63fa\", \"#FFA15A\", \"#19d3f3\", \"#FF6692\", \"#B6E880\", \"#FF97FF\", \"#FECB52\"], \"font\": {\"color\": \"#2a3f5f\"}, \"geo\": {\"bgcolor\": \"white\", \"lakecolor\": \"white\", \"landcolor\": \"#E5ECF6\", \"showlakes\": true, \"showland\": true, \"subunitcolor\": \"white\"}, \"hoverlabel\": {\"align\": \"left\"}, \"hovermode\": \"closest\", \"mapbox\": {\"style\": \"light\"}, \"paper_bgcolor\": \"white\", \"plot_bgcolor\": \"#E5ECF6\", \"polar\": {\"angularaxis\": {\"gridcolor\": \"white\", \"linecolor\": \"white\", \"ticks\": \"\"}, \"bgcolor\": \"#E5ECF6\", \"radialaxis\": {\"gridcolor\": \"white\", \"linecolor\": \"white\", \"ticks\": \"\"}}, \"scene\": {\"xaxis\": {\"backgroundcolor\": \"#E5ECF6\", \"gridcolor\": \"white\", \"gridwidth\": 2, \"linecolor\": \"white\", \"showbackground\": true, \"ticks\": \"\", \"zerolinecolor\": \"white\"}, \"yaxis\": {\"backgroundcolor\": \"#E5ECF6\", \"gridcolor\": \"white\", \"gridwidth\": 2, \"linecolor\": \"white\", \"showbackground\": true, \"ticks\": \"\", \"zerolinecolor\": \"white\"}, \"zaxis\": {\"backgroundcolor\": \"#E5ECF6\", \"gridcolor\": \"white\", \"gridwidth\": 2, \"linecolor\": \"white\", \"showbackground\": true, \"ticks\": \"\", \"zerolinecolor\": \"white\"}}, \"shapedefaults\": {\"line\": {\"color\": \"#2a3f5f\"}}, \"ternary\": {\"aaxis\": {\"gridcolor\": \"white\", \"linecolor\": \"white\", \"ticks\": \"\"}, \"baxis\": {\"gridcolor\": \"white\", \"linecolor\": \"white\", \"ticks\": \"\"}, \"bgcolor\": \"#E5ECF6\", \"caxis\": {\"gridcolor\": \"white\", \"linecolor\": \"white\", \"ticks\": \"\"}}, \"title\": {\"x\": 0.05}, \"xaxis\": {\"automargin\": true, \"gridcolor\": \"white\", \"linecolor\": \"white\", \"ticks\": \"\", \"title\": {\"standoff\": 15}, \"zerolinecolor\": \"white\", \"zerolinewidth\": 2}, \"yaxis\": {\"automargin\": true, \"gridcolor\": \"white\", \"linecolor\": \"white\", \"ticks\": \"\", \"title\": {\"standoff\": 15}, \"zerolinecolor\": \"white\", \"zerolinewidth\": 2}}}, \"xaxis\": {\"anchor\": \"y\", \"domain\": [0.0, 1.0], \"title\": {\"text\": \"model_power\"}}, \"yaxis\": {\"anchor\": \"x\", \"domain\": [0.0, 1.0], \"title\": {\"text\": \"fit_quality\"}}},                        {\"responsive\": true}                    ).then(function(){\n",
       "                            \n",
       "var gd = document.getElementById('e6301682-8723-495d-8e6d-d614035aa2ee');\n",
       "var x = new MutationObserver(function (mutations, observer) {{\n",
       "        var display = window.getComputedStyle(gd).display;\n",
       "        if (!display || display === 'none') {{\n",
       "            console.log([gd, 'removed!']);\n",
       "            Plotly.purge(gd);\n",
       "            observer.disconnect();\n",
       "        }}\n",
       "}});\n",
       "\n",
       "// Listen for the removal of the full notebook cells\n",
       "var notebookContainer = gd.closest('#notebook-container');\n",
       "if (notebookContainer) {{\n",
       "    x.observe(notebookContainer, {childList: true});\n",
       "}}\n",
       "\n",
       "// Listen for the clearing of the current output cell\n",
       "var outputEl = gd.closest('.output');\n",
       "if (outputEl) {{\n",
       "    x.observe(outputEl, {childList: true});\n",
       "}}\n",
       "\n",
       "                        })                };                });            </script>        </div>"
      ]
     },
     "metadata": {},
     "output_type": "display_data"
    },
    {
     "name": "stdout",
     "output_type": "stream",
     "text": [
      "fold 5 params = 1.6_0.05_6_75 complete\r"
     ]
    }
   ],
   "source": [
    "### Looks like we need to go for more conservative parameters and remove the 1.4 tweedie p as it seems to cause poor results\n",
    "\n",
    "save_path = 'C:/Users/marcusdeckert/Box/marcusdeckert/Presentation Work/CARFAX Academy/Lesson 7 stuff/round2_gs.html'\n",
    "base_score = data1_train['incloss_col'].sum()/data1_train['ee_col'].sum()\n",
    "\n",
    "tweedie_p_list = [1.5,1.6]\n",
    "bmf_list = [.01,.03,.05]\n",
    "max_depth_list = [2,4,6]\n",
    "num_round_list = [25,50,75]\n",
    "\n",
    "cv_sub('incloss_col','pred_loss','ee_col', drop_cols, save_path)"
   ]
  },
  {
   "cell_type": "code",
   "execution_count": 55,
   "id": "4d43370c",
   "metadata": {},
   "outputs": [
    {
     "name": "stdout",
     "output_type": "stream",
     "text": [
      "fold 5 complete\r"
     ]
    },
    {
     "data": {
      "image/png": "[encoded data removed]",
      "text/plain": [
       "<Figure size 864x432 with 2 Axes>"
      ]
     },
     "metadata": {
      "needs_background": "light"
     },
     "output_type": "display_data"
    },
    {
     "name": "stdout",
     "output_type": "stream",
     "text": [
      "   decile   ee_col  pp_act  pp_pred\n",
      "0    1.00 5,414.10   40.94    25.93\n",
      "1    2.00 5,702.46   74.13    51.80\n",
      "2    3.00 5,701.75   81.26    71.86\n",
      "3    4.00 5,698.82   86.44    89.28\n",
      "4    5.00 5,702.70  141.95   106.68\n",
      "5    6.00 5,701.03  160.84   121.18\n",
      "6    7.00 5,701.10  142.47   133.88\n",
      "7    8.00 5,701.16  177.50   147.01\n",
      "8    9.00 5,697.84  158.19   164.72\n",
      "9   10.00 5,990.34  244.24   216.69\n"
     ]
    }
   ],
   "source": [
    "# Option 1\n",
    "\n",
    "lift_cv_5_folds(data1_train, 1.5, .05, 6, 25, 'incloss_col', 'pred_loss', drop_cols, weight_name = 'ee_col', bins = 10)"
   ]
  },
  {
   "cell_type": "code",
   "execution_count": 56,
   "id": "ebf863a9",
   "metadata": {},
   "outputs": [
    {
     "name": "stdout",
     "output_type": "stream",
     "text": [
      "fold 5 complete\r"
     ]
    },
    {
     "data": {
      "image/png": "[encoded data removed]",
      "text/plain": [
       "<Figure size 864x432 with 2 Axes>"
      ]
     },
     "metadata": {
      "needs_background": "light"
     },
     "output_type": "display_data"
    },
    {
     "name": "stdout",
     "output_type": "stream",
     "text": [
      "   decile   ee_col  pp_act  pp_pred\n",
      "0    1.00 5,414.33   40.93    21.76\n",
      "1    2.00 5,701.96   54.19    49.61\n",
      "2    3.00 5,701.78   79.09    74.38\n",
      "3    4.00 5,700.00  114.23    92.82\n",
      "4    5.00 5,701.27  113.44   109.19\n",
      "5    6.00 5,700.97  168.57   125.02\n",
      "6    7.00 5,701.87  135.57   140.35\n",
      "7    8.00 5,701.12  169.54   158.24\n",
      "8    9.00 5,699.97  235.48   184.50\n",
      "9   10.00 5,988.06  199.24   261.28\n"
     ]
    }
   ],
   "source": [
    "# Option 2\n",
    "\n",
    "lift_cv_5_folds(data1_train, 1.5, .05, 4, 50, 'incloss_col', 'pred_loss', drop_cols, weight_name = 'ee_col', bins = 10)"
   ]
  },
  {
   "cell_type": "code",
   "execution_count": 17,
   "id": "556e7029",
   "metadata": {},
   "outputs": [
    {
     "data": {
      "image/png": "[encoded data removed]",
      "text/plain": [
       "<Figure size 864x432 with 2 Axes>"
      ]
     },
     "metadata": {
      "needs_background": "light"
     },
     "output_type": "display_data"
    },
    {
     "name": "stdout",
     "output_type": "stream",
     "text": [
      "   decile   ee_col    act   pred\n",
      "0    1.00 1,082.82  40.94  25.93\n",
      "1    2.00 1,140.49  74.13  51.80\n",
      "2    3.00 1,140.35  81.26  71.86\n",
      "3    4.00 1,139.76  86.44  89.28\n",
      "4    5.00 1,140.54 141.95 106.68\n",
      "5    6.00 1,140.21 160.84 121.18\n",
      "6    7.00 1,140.22 142.47 133.88\n",
      "7    8.00 1,140.23 177.50 147.01\n",
      "8    9.00 1,139.57 158.19 164.72\n",
      "9   10.00 1,198.07 244.24 216.69\n"
     ]
    }
   ],
   "source": [
    "# Review lift chart on test data to make final selection\n",
    "\n",
    "# Go with option 1\n",
    "\n",
    "easy_gbm(data1_train,data1_test,'ee_col',drop_cols,1.5,.05,6,base_score,25)\n",
    "\n",
    "lift_chart(out_test, 'incloss_col', 'pred_loss', 'ee_col', 10)"
   ]
  },
  {
   "cell_type": "code",
   "execution_count": 18,
   "id": "8540f3d2",
   "metadata": {},
   "outputs": [
    {
     "name": "stderr",
     "output_type": "stream",
     "text": [
      " 99%|===================| 78955/80134 [00:32<00:00]        "
     ]
    }
   ],
   "source": [
    "# SHAP\n",
    "def xgb_model_predict(data):\n",
    "    dmatrix_data = xgb.DMatrix(data, feature_names=model_xgb.feature_names)\n",
    "    return model_xgb.predict(dmatrix_data)\n",
    "\n",
    "train_sample = data1_train[(model_xgb.feature_names)].sample(n = int(data1_train.shape[0]*.20))\n",
    "\n",
    "background = shap.maskers.Independent(train_sample)\n",
    "explainer = shap.Explainer(xgb_model_predict, background, approximate = True)\n",
    "shap_values = explainer(train_sample)\n",
    "shap.plots.beeswarm(shap_values, max_display = 999)"
   ]
  },
  {
   "cell_type": "code",
   "execution_count": 19,
   "id": "9ee8a5bd",
   "metadata": {},
   "outputs": [
    {
     "data": {
      "image/png": "[encoded data removed]",
      "text/plain": [
       "<Figure size 576x828 with 1 Axes>"
      ]
     },
     "metadata": {},
     "output_type": "display_data"
    }
   ],
   "source": [
    "# SHAP bar\n",
    "shap.plots.bar(shap_values, max_display=20)"
   ]
  },
  {
   "cell_type": "code",
   "execution_count": 20,
   "id": "2cedc2d0",
   "metadata": {},
   "outputs": [
    {
     "data": {
      "image/png": "[encoded data removed]",
      "text/plain": [
       "<Figure size 576x684 with 2 Axes>"
      ]
     },
     "metadata": {
      "needs_background": "light"
     },
     "output_type": "display_data"
    }
   ],
   "source": [
    "# SHAP beeswarm \n",
    "shap.plots.beeswarm(shap_values, max_display = 20)"
   ]
  },
  {
   "cell_type": "code",
   "execution_count": 21,
   "id": "cbb34ab1",
   "metadata": {},
   "outputs": [
    {
     "data": {
      "image/png": "[encoded data removed]",
      "text/plain": [
       "<Figure size 540x360 with 3 Axes>"
      ]
     },
     "metadata": {
      "needs_background": "light"
     },
     "output_type": "display_data"
    }
   ],
   "source": [
    "# SHAP Scatter (codependence)\n",
    "\n",
    "def shap_scatter_p1_p99(var,color_by):\n",
    "    global a, b\n",
    "    a = data1_train.groupby([var]).agg({'ee_col': 'sum'}).reset_index()\n",
    "    a['cumsum'] = a['ee_col'].cumsum()\n",
    "    a['ntile'] = round(a['cumsum']/a[len(a)-1:len(a)]['cumsum'].values,3)\n",
    "    xmax = a.loc[a['ntile'] >= .99][0:1][var].values\n",
    "\n",
    "    if a.loc[a['ntile'] <= .01][::][var].shape[0] == 0:\n",
    "        xmin = a[0:1][var].values\n",
    "    else:\n",
    "        b = a.loc[a['ntile'] <= .01][::][var].copy()\n",
    "        xmin = b[len(b)-1:len(b)].values\n",
    "\n",
    "    x = shap_values[:, var]\n",
    "    shap.plots.scatter(x\n",
    "                       , color=shap_values[:,color_by]\n",
    "                       , xmin=xmin\n",
    "                       , xmax=xmax\n",
    "                      )\n",
    "    \n",
    "shap_scatter_p1_p99('veh_count_box','male')"
   ]
  },
  {
   "cell_type": "code",
   "execution_count": 22,
   "id": "455fdb4e",
   "metadata": {},
   "outputs": [
    {
     "data": {
      "image/png": "[encoded data removed]",
      "text/plain": [
       "<Figure size 576x828 with 3 Axes>"
      ]
     },
     "metadata": {},
     "output_type": "display_data"
    }
   ],
   "source": [
    "# SHAP Waterfall (individual)\n",
    "shap.plots.waterfall(shap_values[0], max_display = 20)"
   ]
  },
  {
   "cell_type": "code",
   "execution_count": null,
   "id": "60d15453",
   "metadata": {},
   "outputs": [],
   "source": []
  },
  {
   "cell_type": "code",
   "execution_count": 12,
   "id": "b531224c",
   "metadata": {},
   "outputs": [
    {
     "data": {
      "text/html": [
       "<div>\n",
       "<style scoped>\n",
       "    .dataframe tbody tr th:only-of-type {\n",
       "        vertical-align: middle;\n",
       "    }\n",
       "\n",
       "    .dataframe tbody tr th {\n",
       "        vertical-align: top;\n",
       "    }\n",
       "\n",
       "    .dataframe thead th {\n",
       "        text-align: right;\n",
       "    }\n",
       "</style>\n",
       "<table border=\"1\" class=\"dataframe\">\n",
       "  <thead>\n",
       "    <tr style=\"text-align: right;\">\n",
       "      <th></th>\n",
       "      <th>Tree</th>\n",
       "      <th>Node</th>\n",
       "      <th>ID</th>\n",
       "      <th>Feature</th>\n",
       "      <th>Split</th>\n",
       "      <th>Yes</th>\n",
       "      <th>No</th>\n",
       "      <th>Missing</th>\n",
       "      <th>Gain</th>\n",
       "      <th>Cover</th>\n",
       "      <th>Category</th>\n",
       "    </tr>\n",
       "  </thead>\n",
       "  <tbody>\n",
       "    <tr>\n",
       "      <th>0</th>\n",
       "      <td>0</td>\n",
       "      <td>0</td>\n",
       "      <td>0-0</td>\n",
       "      <td>veh_age_box</td>\n",
       "      <td>12.00</td>\n",
       "      <td>0-1</td>\n",
       "      <td>0-2</td>\n",
       "      <td>0-1</td>\n",
       "      <td>77,839.09</td>\n",
       "      <td>532,962.69</td>\n",
       "      <td>NaN</td>\n",
       "    </tr>\n",
       "    <tr>\n",
       "      <th>1</th>\n",
       "      <td>0</td>\n",
       "      <td>1</td>\n",
       "      <td>0-1</td>\n",
       "      <td>credit</td>\n",
       "      <td>9.00</td>\n",
       "      <td>0-3</td>\n",
       "      <td>0-4</td>\n",
       "      <td>0-3</td>\n",
       "      <td>44,050.09</td>\n",
       "      <td>450,062.69</td>\n",
       "      <td>NaN</td>\n",
       "    </tr>\n",
       "    <tr>\n",
       "      <th>2</th>\n",
       "      <td>0</td>\n",
       "      <td>2</td>\n",
       "      <td>0-2</td>\n",
       "      <td>LOO_years</td>\n",
       "      <td>7.50</td>\n",
       "      <td>0-5</td>\n",
       "      <td>0-6</td>\n",
       "      <td>0-5</td>\n",
       "      <td>11,001.51</td>\n",
       "      <td>82,899.98</td>\n",
       "      <td>NaN</td>\n",
       "    </tr>\n",
       "    <tr>\n",
       "      <th>3</th>\n",
       "      <td>0</td>\n",
       "      <td>3</td>\n",
       "      <td>0-3</td>\n",
       "      <td>credit</td>\n",
       "      <td>3.00</td>\n",
       "      <td>0-7</td>\n",
       "      <td>0-8</td>\n",
       "      <td>0-7</td>\n",
       "      <td>22,203.19</td>\n",
       "      <td>363,072.34</td>\n",
       "      <td>NaN</td>\n",
       "    </tr>\n",
       "    <tr>\n",
       "      <th>4</th>\n",
       "      <td>0</td>\n",
       "      <td>4</td>\n",
       "      <td>0-4</td>\n",
       "      <td>LOO_years</td>\n",
       "      <td>4.52</td>\n",
       "      <td>0-9</td>\n",
       "      <td>0-10</td>\n",
       "      <td>0-9</td>\n",
       "      <td>18,306.02</td>\n",
       "      <td>86,990.37</td>\n",
       "      <td>NaN</td>\n",
       "    </tr>\n",
       "    <tr>\n",
       "      <th>...</th>\n",
       "      <td>...</td>\n",
       "      <td>...</td>\n",
       "      <td>...</td>\n",
       "      <td>...</td>\n",
       "      <td>...</td>\n",
       "      <td>...</td>\n",
       "      <td>...</td>\n",
       "      <td>...</td>\n",
       "      <td>...</td>\n",
       "      <td>...</td>\n",
       "      <td>...</td>\n",
       "    </tr>\n",
       "    <tr>\n",
       "      <th>4687</th>\n",
       "      <td>49</td>\n",
       "      <td>92</td>\n",
       "      <td>49-92</td>\n",
       "      <td>Leaf</td>\n",
       "      <td>NaN</td>\n",
       "      <td>NaN</td>\n",
       "      <td>NaN</td>\n",
       "      <td>NaN</td>\n",
       "      <td>-0.15</td>\n",
       "      <td>2,291.33</td>\n",
       "      <td>NaN</td>\n",
       "    </tr>\n",
       "    <tr>\n",
       "      <th>4688</th>\n",
       "      <td>49</td>\n",
       "      <td>93</td>\n",
       "      <td>49-93</td>\n",
       "      <td>Leaf</td>\n",
       "      <td>NaN</td>\n",
       "      <td>NaN</td>\n",
       "      <td>NaN</td>\n",
       "      <td>NaN</td>\n",
       "      <td>0.08</td>\n",
       "      <td>6,420.02</td>\n",
       "      <td>NaN</td>\n",
       "    </tr>\n",
       "    <tr>\n",
       "      <th>4689</th>\n",
       "      <td>49</td>\n",
       "      <td>94</td>\n",
       "      <td>49-94</td>\n",
       "      <td>Leaf</td>\n",
       "      <td>NaN</td>\n",
       "      <td>NaN</td>\n",
       "      <td>NaN</td>\n",
       "      <td>NaN</td>\n",
       "      <td>0.02</td>\n",
       "      <td>46,098.93</td>\n",
       "      <td>NaN</td>\n",
       "    </tr>\n",
       "    <tr>\n",
       "      <th>4690</th>\n",
       "      <td>49</td>\n",
       "      <td>95</td>\n",
       "      <td>49-95</td>\n",
       "      <td>Leaf</td>\n",
       "      <td>NaN</td>\n",
       "      <td>NaN</td>\n",
       "      <td>NaN</td>\n",
       "      <td>NaN</td>\n",
       "      <td>0.10</td>\n",
       "      <td>1,104.68</td>\n",
       "      <td>NaN</td>\n",
       "    </tr>\n",
       "    <tr>\n",
       "      <th>4691</th>\n",
       "      <td>49</td>\n",
       "      <td>96</td>\n",
       "      <td>49-96</td>\n",
       "      <td>Leaf</td>\n",
       "      <td>NaN</td>\n",
       "      <td>NaN</td>\n",
       "      <td>NaN</td>\n",
       "      <td>NaN</td>\n",
       "      <td>-0.10</td>\n",
       "      <td>2,874.53</td>\n",
       "      <td>NaN</td>\n",
       "    </tr>\n",
       "  </tbody>\n",
       "</table>\n",
       "<p>4692 rows × 11 columns</p>\n",
       "</div>"
      ],
      "text/plain": [
       "      Tree  Node     ID      Feature  Split  Yes    No Missing      Gain  \\\n",
       "0        0     0    0-0  veh_age_box  12.00  0-1   0-2     0-1 77,839.09   \n",
       "1        0     1    0-1       credit   9.00  0-3   0-4     0-3 44,050.09   \n",
       "2        0     2    0-2    LOO_years   7.50  0-5   0-6     0-5 11,001.51   \n",
       "3        0     3    0-3       credit   3.00  0-7   0-8     0-7 22,203.19   \n",
       "4        0     4    0-4    LOO_years   4.52  0-9  0-10     0-9 18,306.02   \n",
       "...    ...   ...    ...          ...    ...  ...   ...     ...       ...   \n",
       "4687    49    92  49-92         Leaf    NaN  NaN   NaN     NaN     -0.15   \n",
       "4688    49    93  49-93         Leaf    NaN  NaN   NaN     NaN      0.08   \n",
       "4689    49    94  49-94         Leaf    NaN  NaN   NaN     NaN      0.02   \n",
       "4690    49    95  49-95         Leaf    NaN  NaN   NaN     NaN      0.10   \n",
       "4691    49    96  49-96         Leaf    NaN  NaN   NaN     NaN     -0.10   \n",
       "\n",
       "          Cover  Category  \n",
       "0    532,962.69       NaN  \n",
       "1    450,062.69       NaN  \n",
       "2     82,899.98       NaN  \n",
       "3    363,072.34       NaN  \n",
       "4     86,990.37       NaN  \n",
       "...         ...       ...  \n",
       "4687   2,291.33       NaN  \n",
       "4688   6,420.02       NaN  \n",
       "4689  46,098.93       NaN  \n",
       "4690   1,104.68       NaN  \n",
       "4691   2,874.53       NaN  \n",
       "\n",
       "[4692 rows x 11 columns]"
      ]
     },
     "execution_count": 12,
     "metadata": {},
     "output_type": "execute_result"
    }
   ],
   "source": [
    "model_xgb.trees_to_dataframe()"
   ]
  },
  {
   "cell_type": "code",
   "execution_count": null,
   "id": "1ee422dc",
   "metadata": {},
   "outputs": [],
   "source": []
  },
  {
   "cell_type": "markdown",
   "id": "8336f444",
   "metadata": {},
   "source": [
    "### Lesson 7 Exercise 1\n",
    "#### As a group, discuss the SHAP Beeswarm plot.  Are the results reasonable?\n",
    "#### As a group, call out any interactions that are worth discussion using the shap scatter plot"
   ]
  },
  {
   "cell_type": "code",
   "execution_count": null,
   "id": "2ed3e730",
   "metadata": {},
   "outputs": [],
   "source": []
  },
  {
   "cell_type": "code",
   "execution_count": null,
   "id": "15236563",
   "metadata": {},
   "outputs": [],
   "source": []
  },
  {
   "cell_type": "code",
   "execution_count": null,
   "id": "1ef9fde8",
   "metadata": {},
   "outputs": [],
   "source": []
  },
  {
   "cell_type": "code",
   "execution_count": null,
   "id": "e6312eaa",
   "metadata": {},
   "outputs": [],
   "source": []
  },
  {
   "cell_type": "code",
   "execution_count": null,
   "id": "809363a8",
   "metadata": {},
   "outputs": [],
   "source": []
  },
  {
   "cell_type": "code",
   "execution_count": null,
   "id": "3f5e0e51",
   "metadata": {},
   "outputs": [],
   "source": []
  },
  {
   "cell_type": "code",
   "execution_count": null,
   "id": "85214f01",
   "metadata": {},
   "outputs": [],
   "source": []
  },
  {
   "cell_type": "code",
   "execution_count": null,
   "id": "ebf17311",
   "metadata": {},
   "outputs": [],
   "source": []
  },
  {
   "cell_type": "code",
   "execution_count": null,
   "id": "81ca27ed",
   "metadata": {},
   "outputs": [],
   "source": []
  },
  {
   "cell_type": "code",
   "execution_count": null,
   "id": "de1219e7",
   "metadata": {},
   "outputs": [],
   "source": []
  },
  {
   "cell_type": "code",
   "execution_count": null,
   "id": "a50d5b94",
   "metadata": {},
   "outputs": [],
   "source": []
  },
  {
   "cell_type": "code",
   "execution_count": null,
   "id": "2dee79f5",
   "metadata": {},
   "outputs": [],
   "source": []
  },
  {
   "cell_type": "code",
   "execution_count": null,
   "id": "a29a2eb8",
   "metadata": {},
   "outputs": [],
   "source": []
  },
  {
   "cell_type": "code",
   "execution_count": null,
   "id": "4f344ed6",
   "metadata": {},
   "outputs": [],
   "source": []
  },
  {
   "cell_type": "code",
   "execution_count": null,
   "id": "8d7cdd27",
   "metadata": {},
   "outputs": [],
   "source": []
  },
  {
   "cell_type": "code",
   "execution_count": null,
   "id": "dd9ed097",
   "metadata": {},
   "outputs": [],
   "source": []
  },
  {
   "cell_type": "code",
   "execution_count": null,
   "id": "9b1c4abf",
   "metadata": {},
   "outputs": [],
   "source": []
  },
  {
   "cell_type": "code",
   "execution_count": null,
   "id": "2dc99c0a",
   "metadata": {},
   "outputs": [],
   "source": []
  },
  {
   "cell_type": "code",
   "execution_count": null,
   "id": "fbd5c84a",
   "metadata": {},
   "outputs": [],
   "source": []
  }
 ],
 "metadata": {
  "kernelspec": {
   "display_name": "Python 3 (ipykernel)",
   "language": "python",
   "name": "python3"
  },
  "language_info": {
   "codemirror_mode": {
    "name": "ipython",
    "version": 3
   },
   "file_extension": ".py",
   "mimetype": "text/x-python",
   "name": "python",
   "nbconvert_exporter": "python",
   "pygments_lexer": "ipython3",
   "version": "3.11.5"
  }
 },
 "nbformat": 4,
 "nbformat_minor": 5
}
