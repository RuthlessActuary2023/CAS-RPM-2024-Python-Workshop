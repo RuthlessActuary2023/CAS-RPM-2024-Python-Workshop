{
 "cells": [
  {
   "cell_type": "markdown",
   "id": "2fe46328",
   "metadata": {},
   "source": [
    "# Lesson 1: Lists, Dictionaries, & Dataframes\n",
    "## Lists follow the form of [item 1, item 2, … , item n]; e.g. [1,2,3,4,5]\n",
    "### Below we create a list and access its length"
   ]
  },
  {
   "cell_type": "code",
   "execution_count": 6,
   "id": "e46b0c4e",
   "metadata": {},
   "outputs": [
    {
     "name": "stdout",
     "output_type": "stream",
     "text": [
      "[1, 2, 3, 4, 5]\n",
      "The length of list1 is 5\n"
     ]
    }
   ],
   "source": [
    "# create list1 and enter its values manually\n",
    "list1 = [1,2,3,4,5]\n",
    "# print list1\n",
    "print(list1)\n",
    "\n",
    "# create a string variable with some text\n",
    "start_string = 'The length of list1 is '\n",
    "\n",
    "# create a variable with the length of list1\n",
    "list1_len = len(list1)\n",
    "\n",
    "# create a variable with the length of list1 as a string\n",
    "list1_len_string = str(len(list1))\n",
    "\n",
    "# print a string explaining the length of list1\n",
    "print(start_string + list1_len_string)"
   ]
  },
  {
   "cell_type": "markdown",
   "id": "e59557a0",
   "metadata": {},
   "source": [
    "## Next create more lists and work with indexes"
   ]
  },
  {
   "cell_type": "code",
   "execution_count": 15,
   "id": "2ede9161",
   "metadata": {},
   "outputs": [
    {
     "name": "stdout",
     "output_type": "stream",
     "text": [
      "The first item in africa_list = trees\n",
      "The index of \"birds\" in africa_list = 3 and it is item number 4\n"
     ]
    }
   ],
   "source": [
    "# create list of things in Africa; lists are defined by single bracket around the values\n",
    "africa_list = ['trees', 'grass', 'elephants', 'birds']\n",
    "\n",
    "# return the first item in the list by index = 0\n",
    "print('The first item in africa_list = ' + africa_list[0])\n",
    "\n",
    "# return the index of the element \"birds\"\n",
    "birds_index = africa_list.index('birds')\n",
    "print('The index of \"birds\" in africa_list = ' + str(birds_index) + ' and it is item number ' + str(birds_index + 1))"
   ]
  },
  {
   "cell_type": "markdown",
   "id": "37c75041",
   "metadata": {},
   "source": [
    "## Next select from the list based on containing items"
   ]
  },
  {
   "cell_type": "code",
   "execution_count": 16,
   "id": "6d6d68f3",
   "metadata": {},
   "outputs": [
    {
     "name": "stdout",
     "output_type": "stream",
     "text": [
      "['elephants', 'birds']\n",
      "['trees', 'grass']\n",
      "['trees', 'elephants']\n"
     ]
    }
   ],
   "source": [
    "# create list of animals\n",
    "animals_list = ['elephants','birds','cows','horses']\n",
    "\n",
    "# create list of animals in africa using in clause\n",
    "africa_animals_list = [i for i in africa_list if i in animals_list]\n",
    "print(africa_animals_list)\n",
    "\n",
    "# print list of non-animals without creating the list as it's own item\n",
    "print([i for i in africa_list if i not in animals_list])\n",
    "\n",
    "# print list of items whos text contains the letter \"e\"\n",
    "print([i for i in africa_list if 'e' in i])"
   ]
  },
  {
   "cell_type": "markdown",
   "id": "1b89a45e",
   "metadata": {},
   "source": [
    "## Next create lists, combine them and remove items"
   ]
  },
  {
   "cell_type": "code",
   "execution_count": 20,
   "id": "2b4143b4",
   "metadata": {},
   "outputs": [
    {
     "name": "stdout",
     "output_type": "stream",
     "text": [
      "['apples', 'bananas', 'peaches', 'pears', 'broccoli', 'asparagus', 'lettuce', 'brown rice', 'jasmine rice', 'basmati rice', 'wheat', 'cous cous', 'quinoa']\n",
      "['apples', 'bananas', 'peaches', 'pears', 'asparagus', 'lettuce', 'jasmine rice', 'basmati rice', 'wheat', 'cous cous', 'quinoa']\n",
      "['apples', 'bananas', 'peaches', 'pears', 'asparagus', 'lettuce', 'jasmine rice', 'basmati rice', 'wheat', 'cous cous', 'quinoa']\n"
     ]
    }
   ],
   "source": [
    "# create list of fruit, vegetables, and grains for the shopping list\n",
    "fruits = ['apples','bananas','peaches','pears']\n",
    "veggies = ['broccoli','asparagus','lettuce']\n",
    "grains = ['brown rice','jasmine rice','basmati rice','wheat','cous cous','quinoa']\n",
    "\n",
    "# combine all items into shopping list\n",
    "shopping_list = fruits + veggies + grains\n",
    "print(shopping_list)\n",
    "\n",
    "# crap, we hate broccoli & brown rice.  remove then from the list\n",
    "shopping_list.remove('broccoli')\n",
    "shopping_list.remove('brown rice')\n",
    "\n",
    "print(shopping_list)\n",
    "\n",
    "# remove command changes the list inplace, so our list needs to be recreated for another version\n",
    "shopping_list = fruits + veggies + grains\n",
    "\n",
    "# remove broccoli and brown rice using list comprehension\n",
    "we_hate = ['broccoli','brown rice']\n",
    "shopping_list = [i for i in shopping_list if i not in we_hate]\n",
    "print(shopping_list)"
   ]
  },
  {
   "cell_type": "markdown",
   "id": "070fb473",
   "metadata": {},
   "source": [
    "## Import pandas and turn our shopping list into a dataframe"
   ]
  },
  {
   "cell_type": "code",
   "execution_count": 24,
   "id": "287d3664",
   "metadata": {},
   "outputs": [
    {
     "data": {
      "text/html": [
       "<div>\n",
       "<style scoped>\n",
       "    .dataframe tbody tr th:only-of-type {\n",
       "        vertical-align: middle;\n",
       "    }\n",
       "\n",
       "    .dataframe tbody tr th {\n",
       "        vertical-align: top;\n",
       "    }\n",
       "\n",
       "    .dataframe thead th {\n",
       "        text-align: right;\n",
       "    }\n",
       "</style>\n",
       "<table border=\"1\" class=\"dataframe\">\n",
       "  <thead>\n",
       "    <tr style=\"text-align: right;\">\n",
       "      <th></th>\n",
       "      <th>food</th>\n",
       "    </tr>\n",
       "  </thead>\n",
       "  <tbody>\n",
       "    <tr>\n",
       "      <th>0</th>\n",
       "      <td>apples</td>\n",
       "    </tr>\n",
       "    <tr>\n",
       "      <th>1</th>\n",
       "      <td>bananas</td>\n",
       "    </tr>\n",
       "    <tr>\n",
       "      <th>2</th>\n",
       "      <td>peaches</td>\n",
       "    </tr>\n",
       "    <tr>\n",
       "      <th>3</th>\n",
       "      <td>pears</td>\n",
       "    </tr>\n",
       "    <tr>\n",
       "      <th>4</th>\n",
       "      <td>asparagus</td>\n",
       "    </tr>\n",
       "    <tr>\n",
       "      <th>5</th>\n",
       "      <td>lettuce</td>\n",
       "    </tr>\n",
       "    <tr>\n",
       "      <th>6</th>\n",
       "      <td>jasmine rice</td>\n",
       "    </tr>\n",
       "    <tr>\n",
       "      <th>7</th>\n",
       "      <td>basmati rice</td>\n",
       "    </tr>\n",
       "    <tr>\n",
       "      <th>8</th>\n",
       "      <td>wheat</td>\n",
       "    </tr>\n",
       "    <tr>\n",
       "      <th>9</th>\n",
       "      <td>cous cous</td>\n",
       "    </tr>\n",
       "    <tr>\n",
       "      <th>10</th>\n",
       "      <td>quinoa</td>\n",
       "    </tr>\n",
       "  </tbody>\n",
       "</table>\n",
       "</div>"
      ],
      "text/plain": [
       "            food\n",
       "0         apples\n",
       "1        bananas\n",
       "2        peaches\n",
       "3          pears\n",
       "4      asparagus\n",
       "5        lettuce\n",
       "6   jasmine rice\n",
       "7   basmati rice\n",
       "8          wheat\n",
       "9      cous cous\n",
       "10        quinoa"
      ]
     },
     "execution_count": 24,
     "metadata": {},
     "output_type": "execute_result"
    }
   ],
   "source": [
    "import pandas as pd\n",
    "\n",
    "# convert to dataframe\n",
    "shopping_df = pd.DataFrame(shopping_list)\n",
    "\n",
    "# # rename the columns\n",
    "# shopping_df.columns = (['food'])\n",
    "\n",
    "# show in editor without print\n",
    "shopping_df"
   ]
  },
  {
   "cell_type": "markdown",
   "id": "cbd540da",
   "metadata": {},
   "source": [
    "## Create a dictionary of food with category,  price/unit and quantity needed"
   ]
  },
  {
   "cell_type": "code",
   "execution_count": 25,
   "id": "bb5c41e9",
   "metadata": {},
   "outputs": [
    {
     "data": {
      "text/plain": [
       "{'apples': ['fruit', 1.0, 4],\n",
       " 'bananas': ['fruit', 0.25, 8],\n",
       " 'peaches': ['fruit', 0.5, 2],\n",
       " 'pears': ['fruit', 0.35, 1],\n",
       " 'asparagus': ['vegetable', 3.0, 1],\n",
       " 'lettuce': ['vegetable', 1.75, 1],\n",
       " 'jasmine rice': ['grain', 0.12, 20],\n",
       " 'basmati rice': ['grain', 0.15, 5],\n",
       " 'wheat': ['grain', 0.1, 10],\n",
       " 'cous cous': ['grain', 0.37, 2.5],\n",
       " 'quinoa': ['grain', 0.5, 3]}"
      ]
     },
     "execution_count": 25,
     "metadata": {},
     "output_type": "execute_result"
    }
   ],
   "source": [
    "shopping_dict = {\n",
    "      'apples': ['fruit',1.00,4]\n",
    "    , 'bananas': ['fruit',0.25,8]\n",
    "    , 'peaches': ['fruit',0.50,2]\n",
    "    , 'pears': ['fruit',0.35,1]\n",
    "    , 'asparagus': ['vegetable',3.00,1]\n",
    "    , 'lettuce': ['vegetable',1.75,1]\n",
    "    , 'jasmine rice': ['grain',0.12,20]\n",
    "    , 'basmati rice': ['grain',0.15,5]\n",
    "    , 'wheat': ['grain',0.10,10]\n",
    "    , 'cous cous': ['grain',0.37,2.5]\n",
    "    , 'quinoa': ['grain',0.50,3]\n",
    "}\n",
    "\n",
    "shopping_dict"
   ]
  },
  {
   "cell_type": "markdown",
   "id": "98a3294d",
   "metadata": {},
   "source": [
    "## Convert dictionary to dataframe and create aggregations"
   ]
  },
  {
   "cell_type": "code",
   "execution_count": 26,
   "id": "640b89b0",
   "metadata": {},
   "outputs": [
    {
     "data": {
      "text/html": [
       "<div>\n",
       "<style scoped>\n",
       "    .dataframe tbody tr th:only-of-type {\n",
       "        vertical-align: middle;\n",
       "    }\n",
       "\n",
       "    .dataframe tbody tr th {\n",
       "        vertical-align: top;\n",
       "    }\n",
       "\n",
       "    .dataframe thead th {\n",
       "        text-align: right;\n",
       "    }\n",
       "</style>\n",
       "<table border=\"1\" class=\"dataframe\">\n",
       "  <thead>\n",
       "    <tr style=\"text-align: right;\">\n",
       "      <th></th>\n",
       "      <th>apples</th>\n",
       "      <th>bananas</th>\n",
       "      <th>peaches</th>\n",
       "      <th>pears</th>\n",
       "      <th>asparagus</th>\n",
       "      <th>lettuce</th>\n",
       "      <th>jasmine rice</th>\n",
       "      <th>basmati rice</th>\n",
       "      <th>wheat</th>\n",
       "      <th>cous cous</th>\n",
       "      <th>quinoa</th>\n",
       "    </tr>\n",
       "  </thead>\n",
       "  <tbody>\n",
       "    <tr>\n",
       "      <th>0</th>\n",
       "      <td>fruit</td>\n",
       "      <td>fruit</td>\n",
       "      <td>fruit</td>\n",
       "      <td>fruit</td>\n",
       "      <td>vegetable</td>\n",
       "      <td>vegetable</td>\n",
       "      <td>grain</td>\n",
       "      <td>grain</td>\n",
       "      <td>grain</td>\n",
       "      <td>grain</td>\n",
       "      <td>grain</td>\n",
       "    </tr>\n",
       "    <tr>\n",
       "      <th>1</th>\n",
       "      <td>1.0</td>\n",
       "      <td>0.25</td>\n",
       "      <td>0.5</td>\n",
       "      <td>0.35</td>\n",
       "      <td>3.0</td>\n",
       "      <td>1.75</td>\n",
       "      <td>0.12</td>\n",
       "      <td>0.15</td>\n",
       "      <td>0.1</td>\n",
       "      <td>0.37</td>\n",
       "      <td>0.5</td>\n",
       "    </tr>\n",
       "    <tr>\n",
       "      <th>2</th>\n",
       "      <td>4</td>\n",
       "      <td>8</td>\n",
       "      <td>2</td>\n",
       "      <td>1</td>\n",
       "      <td>1</td>\n",
       "      <td>1</td>\n",
       "      <td>20</td>\n",
       "      <td>5</td>\n",
       "      <td>10</td>\n",
       "      <td>2.5</td>\n",
       "      <td>3</td>\n",
       "    </tr>\n",
       "  </tbody>\n",
       "</table>\n",
       "</div>"
      ],
      "text/plain": [
       "  apples bananas peaches  pears  asparagus    lettuce jasmine rice  \\\n",
       "0  fruit   fruit   fruit  fruit  vegetable  vegetable        grain   \n",
       "1    1.0    0.25     0.5   0.35        3.0       1.75         0.12   \n",
       "2      4       8       2      1          1          1           20   \n",
       "\n",
       "  basmati rice  wheat cous cous quinoa  \n",
       "0        grain  grain     grain  grain  \n",
       "1         0.15    0.1      0.37    0.5  \n",
       "2            5     10       2.5      3  "
      ]
     },
     "execution_count": 26,
     "metadata": {},
     "output_type": "execute_result"
    }
   ],
   "source": [
    "# create the dataframe\n",
    "shopping_df = pd.DataFrame(shopping_dict)\n",
    "shopping_df"
   ]
  },
  {
   "cell_type": "code",
   "execution_count": 27,
   "id": "a41b6192",
   "metadata": {},
   "outputs": [
    {
     "data": {
      "text/html": [
       "<div>\n",
       "<style scoped>\n",
       "    .dataframe tbody tr th:only-of-type {\n",
       "        vertical-align: middle;\n",
       "    }\n",
       "\n",
       "    .dataframe tbody tr th {\n",
       "        vertical-align: top;\n",
       "    }\n",
       "\n",
       "    .dataframe thead th {\n",
       "        text-align: right;\n",
       "    }\n",
       "</style>\n",
       "<table border=\"1\" class=\"dataframe\">\n",
       "  <thead>\n",
       "    <tr style=\"text-align: right;\">\n",
       "      <th></th>\n",
       "      <th>0</th>\n",
       "      <th>1</th>\n",
       "      <th>2</th>\n",
       "    </tr>\n",
       "  </thead>\n",
       "  <tbody>\n",
       "    <tr>\n",
       "      <th>apples</th>\n",
       "      <td>fruit</td>\n",
       "      <td>1.0</td>\n",
       "      <td>4</td>\n",
       "    </tr>\n",
       "    <tr>\n",
       "      <th>bananas</th>\n",
       "      <td>fruit</td>\n",
       "      <td>0.25</td>\n",
       "      <td>8</td>\n",
       "    </tr>\n",
       "    <tr>\n",
       "      <th>peaches</th>\n",
       "      <td>fruit</td>\n",
       "      <td>0.5</td>\n",
       "      <td>2</td>\n",
       "    </tr>\n",
       "    <tr>\n",
       "      <th>pears</th>\n",
       "      <td>fruit</td>\n",
       "      <td>0.35</td>\n",
       "      <td>1</td>\n",
       "    </tr>\n",
       "    <tr>\n",
       "      <th>asparagus</th>\n",
       "      <td>vegetable</td>\n",
       "      <td>3.0</td>\n",
       "      <td>1</td>\n",
       "    </tr>\n",
       "    <tr>\n",
       "      <th>lettuce</th>\n",
       "      <td>vegetable</td>\n",
       "      <td>1.75</td>\n",
       "      <td>1</td>\n",
       "    </tr>\n",
       "    <tr>\n",
       "      <th>jasmine rice</th>\n",
       "      <td>grain</td>\n",
       "      <td>0.12</td>\n",
       "      <td>20</td>\n",
       "    </tr>\n",
       "    <tr>\n",
       "      <th>basmati rice</th>\n",
       "      <td>grain</td>\n",
       "      <td>0.15</td>\n",
       "      <td>5</td>\n",
       "    </tr>\n",
       "    <tr>\n",
       "      <th>wheat</th>\n",
       "      <td>grain</td>\n",
       "      <td>0.1</td>\n",
       "      <td>10</td>\n",
       "    </tr>\n",
       "    <tr>\n",
       "      <th>cous cous</th>\n",
       "      <td>grain</td>\n",
       "      <td>0.37</td>\n",
       "      <td>2.5</td>\n",
       "    </tr>\n",
       "    <tr>\n",
       "      <th>quinoa</th>\n",
       "      <td>grain</td>\n",
       "      <td>0.5</td>\n",
       "      <td>3</td>\n",
       "    </tr>\n",
       "  </tbody>\n",
       "</table>\n",
       "</div>"
      ],
      "text/plain": [
       "                      0     1    2\n",
       "apples            fruit   1.0    4\n",
       "bananas           fruit  0.25    8\n",
       "peaches           fruit   0.5    2\n",
       "pears             fruit  0.35    1\n",
       "asparagus     vegetable   3.0    1\n",
       "lettuce       vegetable  1.75    1\n",
       "jasmine rice      grain  0.12   20\n",
       "basmati rice      grain  0.15    5\n",
       "wheat             grain   0.1   10\n",
       "cous cous         grain  0.37  2.5\n",
       "quinoa            grain   0.5    3"
      ]
     },
     "execution_count": 27,
     "metadata": {},
     "output_type": "execute_result"
    }
   ],
   "source": [
    "# it doesn't look how we need it to - let's transpose it\n",
    "shopping_df = shopping_df.T\n",
    "shopping_df"
   ]
  },
  {
   "cell_type": "code",
   "execution_count": 28,
   "id": "3edcbf4a",
   "metadata": {},
   "outputs": [
    {
     "data": {
      "text/html": [
       "<div>\n",
       "<style scoped>\n",
       "    .dataframe tbody tr th:only-of-type {\n",
       "        vertical-align: middle;\n",
       "    }\n",
       "\n",
       "    .dataframe tbody tr th {\n",
       "        vertical-align: top;\n",
       "    }\n",
       "\n",
       "    .dataframe thead th {\n",
       "        text-align: right;\n",
       "    }\n",
       "</style>\n",
       "<table border=\"1\" class=\"dataframe\">\n",
       "  <thead>\n",
       "    <tr style=\"text-align: right;\">\n",
       "      <th></th>\n",
       "      <th>index</th>\n",
       "      <th>0</th>\n",
       "      <th>1</th>\n",
       "      <th>2</th>\n",
       "    </tr>\n",
       "  </thead>\n",
       "  <tbody>\n",
       "    <tr>\n",
       "      <th>0</th>\n",
       "      <td>apples</td>\n",
       "      <td>fruit</td>\n",
       "      <td>1.0</td>\n",
       "      <td>4</td>\n",
       "    </tr>\n",
       "    <tr>\n",
       "      <th>1</th>\n",
       "      <td>bananas</td>\n",
       "      <td>fruit</td>\n",
       "      <td>0.25</td>\n",
       "      <td>8</td>\n",
       "    </tr>\n",
       "    <tr>\n",
       "      <th>2</th>\n",
       "      <td>peaches</td>\n",
       "      <td>fruit</td>\n",
       "      <td>0.5</td>\n",
       "      <td>2</td>\n",
       "    </tr>\n",
       "    <tr>\n",
       "      <th>3</th>\n",
       "      <td>pears</td>\n",
       "      <td>fruit</td>\n",
       "      <td>0.35</td>\n",
       "      <td>1</td>\n",
       "    </tr>\n",
       "    <tr>\n",
       "      <th>4</th>\n",
       "      <td>asparagus</td>\n",
       "      <td>vegetable</td>\n",
       "      <td>3.0</td>\n",
       "      <td>1</td>\n",
       "    </tr>\n",
       "    <tr>\n",
       "      <th>5</th>\n",
       "      <td>lettuce</td>\n",
       "      <td>vegetable</td>\n",
       "      <td>1.75</td>\n",
       "      <td>1</td>\n",
       "    </tr>\n",
       "    <tr>\n",
       "      <th>6</th>\n",
       "      <td>jasmine rice</td>\n",
       "      <td>grain</td>\n",
       "      <td>0.12</td>\n",
       "      <td>20</td>\n",
       "    </tr>\n",
       "    <tr>\n",
       "      <th>7</th>\n",
       "      <td>basmati rice</td>\n",
       "      <td>grain</td>\n",
       "      <td>0.15</td>\n",
       "      <td>5</td>\n",
       "    </tr>\n",
       "    <tr>\n",
       "      <th>8</th>\n",
       "      <td>wheat</td>\n",
       "      <td>grain</td>\n",
       "      <td>0.1</td>\n",
       "      <td>10</td>\n",
       "    </tr>\n",
       "    <tr>\n",
       "      <th>9</th>\n",
       "      <td>cous cous</td>\n",
       "      <td>grain</td>\n",
       "      <td>0.37</td>\n",
       "      <td>2.5</td>\n",
       "    </tr>\n",
       "    <tr>\n",
       "      <th>10</th>\n",
       "      <td>quinoa</td>\n",
       "      <td>grain</td>\n",
       "      <td>0.5</td>\n",
       "      <td>3</td>\n",
       "    </tr>\n",
       "  </tbody>\n",
       "</table>\n",
       "</div>"
      ],
      "text/plain": [
       "           index          0     1    2\n",
       "0         apples      fruit   1.0    4\n",
       "1        bananas      fruit  0.25    8\n",
       "2        peaches      fruit   0.5    2\n",
       "3          pears      fruit  0.35    1\n",
       "4      asparagus  vegetable   3.0    1\n",
       "5        lettuce  vegetable  1.75    1\n",
       "6   jasmine rice      grain  0.12   20\n",
       "7   basmati rice      grain  0.15    5\n",
       "8          wheat      grain   0.1   10\n",
       "9      cous cous      grain  0.37  2.5\n",
       "10        quinoa      grain   0.5    3"
      ]
     },
     "execution_count": 28,
     "metadata": {},
     "output_type": "execute_result"
    }
   ],
   "source": [
    "# the food name is the index, which we don't want.  let's reset the index\n",
    "shopping_df = shopping_df.reset_index()\n",
    "shopping_df"
   ]
  },
  {
   "cell_type": "code",
   "execution_count": 29,
   "id": "14861071",
   "metadata": {},
   "outputs": [
    {
     "data": {
      "text/html": [
       "<div>\n",
       "<style scoped>\n",
       "    .dataframe tbody tr th:only-of-type {\n",
       "        vertical-align: middle;\n",
       "    }\n",
       "\n",
       "    .dataframe tbody tr th {\n",
       "        vertical-align: top;\n",
       "    }\n",
       "\n",
       "    .dataframe thead th {\n",
       "        text-align: right;\n",
       "    }\n",
       "</style>\n",
       "<table border=\"1\" class=\"dataframe\">\n",
       "  <thead>\n",
       "    <tr style=\"text-align: right;\">\n",
       "      <th></th>\n",
       "      <th>food_name</th>\n",
       "      <th>category</th>\n",
       "      <th>price</th>\n",
       "      <th>quantity</th>\n",
       "    </tr>\n",
       "  </thead>\n",
       "  <tbody>\n",
       "    <tr>\n",
       "      <th>0</th>\n",
       "      <td>apples</td>\n",
       "      <td>fruit</td>\n",
       "      <td>1.0</td>\n",
       "      <td>4</td>\n",
       "    </tr>\n",
       "    <tr>\n",
       "      <th>1</th>\n",
       "      <td>bananas</td>\n",
       "      <td>fruit</td>\n",
       "      <td>0.25</td>\n",
       "      <td>8</td>\n",
       "    </tr>\n",
       "    <tr>\n",
       "      <th>2</th>\n",
       "      <td>peaches</td>\n",
       "      <td>fruit</td>\n",
       "      <td>0.5</td>\n",
       "      <td>2</td>\n",
       "    </tr>\n",
       "    <tr>\n",
       "      <th>3</th>\n",
       "      <td>pears</td>\n",
       "      <td>fruit</td>\n",
       "      <td>0.35</td>\n",
       "      <td>1</td>\n",
       "    </tr>\n",
       "    <tr>\n",
       "      <th>4</th>\n",
       "      <td>asparagus</td>\n",
       "      <td>vegetable</td>\n",
       "      <td>3.0</td>\n",
       "      <td>1</td>\n",
       "    </tr>\n",
       "    <tr>\n",
       "      <th>5</th>\n",
       "      <td>lettuce</td>\n",
       "      <td>vegetable</td>\n",
       "      <td>1.75</td>\n",
       "      <td>1</td>\n",
       "    </tr>\n",
       "    <tr>\n",
       "      <th>6</th>\n",
       "      <td>jasmine rice</td>\n",
       "      <td>grain</td>\n",
       "      <td>0.12</td>\n",
       "      <td>20</td>\n",
       "    </tr>\n",
       "    <tr>\n",
       "      <th>7</th>\n",
       "      <td>basmati rice</td>\n",
       "      <td>grain</td>\n",
       "      <td>0.15</td>\n",
       "      <td>5</td>\n",
       "    </tr>\n",
       "    <tr>\n",
       "      <th>8</th>\n",
       "      <td>wheat</td>\n",
       "      <td>grain</td>\n",
       "      <td>0.1</td>\n",
       "      <td>10</td>\n",
       "    </tr>\n",
       "    <tr>\n",
       "      <th>9</th>\n",
       "      <td>cous cous</td>\n",
       "      <td>grain</td>\n",
       "      <td>0.37</td>\n",
       "      <td>2.5</td>\n",
       "    </tr>\n",
       "    <tr>\n",
       "      <th>10</th>\n",
       "      <td>quinoa</td>\n",
       "      <td>grain</td>\n",
       "      <td>0.5</td>\n",
       "      <td>3</td>\n",
       "    </tr>\n",
       "  </tbody>\n",
       "</table>\n",
       "</div>"
      ],
      "text/plain": [
       "       food_name   category price quantity\n",
       "0         apples      fruit   1.0        4\n",
       "1        bananas      fruit  0.25        8\n",
       "2        peaches      fruit   0.5        2\n",
       "3          pears      fruit  0.35        1\n",
       "4      asparagus  vegetable   3.0        1\n",
       "5        lettuce  vegetable  1.75        1\n",
       "6   jasmine rice      grain  0.12       20\n",
       "7   basmati rice      grain  0.15        5\n",
       "8          wheat      grain   0.1       10\n",
       "9      cous cous      grain  0.37      2.5\n",
       "10        quinoa      grain   0.5        3"
      ]
     },
     "execution_count": 29,
     "metadata": {},
     "output_type": "execute_result"
    }
   ],
   "source": [
    "# the columns aren't named, let's rename them\n",
    "shopping_df.columns = (['food_name','category','price','quantity'])\n",
    "shopping_df"
   ]
  },
  {
   "cell_type": "code",
   "execution_count": 30,
   "id": "3b1e6393",
   "metadata": {},
   "outputs": [
    {
     "data": {
      "text/html": [
       "<div>\n",
       "<style scoped>\n",
       "    .dataframe tbody tr th:only-of-type {\n",
       "        vertical-align: middle;\n",
       "    }\n",
       "\n",
       "    .dataframe tbody tr th {\n",
       "        vertical-align: top;\n",
       "    }\n",
       "\n",
       "    .dataframe thead th {\n",
       "        text-align: right;\n",
       "    }\n",
       "</style>\n",
       "<table border=\"1\" class=\"dataframe\">\n",
       "  <thead>\n",
       "    <tr style=\"text-align: right;\">\n",
       "      <th></th>\n",
       "      <th>food_name</th>\n",
       "      <th>category</th>\n",
       "      <th>price</th>\n",
       "      <th>quantity</th>\n",
       "    </tr>\n",
       "  </thead>\n",
       "  <tbody>\n",
       "    <tr>\n",
       "      <th>0</th>\n",
       "      <td>apples</td>\n",
       "      <td>fruit</td>\n",
       "      <td>1.0</td>\n",
       "      <td>4</td>\n",
       "    </tr>\n",
       "    <tr>\n",
       "      <th>1</th>\n",
       "      <td>bananas</td>\n",
       "      <td>fruit</td>\n",
       "      <td>0.25</td>\n",
       "      <td>8</td>\n",
       "    </tr>\n",
       "    <tr>\n",
       "      <th>2</th>\n",
       "      <td>peaches</td>\n",
       "      <td>fruit</td>\n",
       "      <td>0.5</td>\n",
       "      <td>2</td>\n",
       "    </tr>\n",
       "    <tr>\n",
       "      <th>3</th>\n",
       "      <td>pears</td>\n",
       "      <td>fruit</td>\n",
       "      <td>0.35</td>\n",
       "      <td>1</td>\n",
       "    </tr>\n",
       "    <tr>\n",
       "      <th>4</th>\n",
       "      <td>asparagus</td>\n",
       "      <td>vegetable</td>\n",
       "      <td>3.0</td>\n",
       "      <td>1</td>\n",
       "    </tr>\n",
       "    <tr>\n",
       "      <th>5</th>\n",
       "      <td>lettuce</td>\n",
       "      <td>vegetable</td>\n",
       "      <td>1.75</td>\n",
       "      <td>1</td>\n",
       "    </tr>\n",
       "    <tr>\n",
       "      <th>6</th>\n",
       "      <td>jasmine rice</td>\n",
       "      <td>grain</td>\n",
       "      <td>0.12</td>\n",
       "      <td>20</td>\n",
       "    </tr>\n",
       "    <tr>\n",
       "      <th>7</th>\n",
       "      <td>basmati rice</td>\n",
       "      <td>grain</td>\n",
       "      <td>0.15</td>\n",
       "      <td>5</td>\n",
       "    </tr>\n",
       "    <tr>\n",
       "      <th>8</th>\n",
       "      <td>wheat</td>\n",
       "      <td>grain</td>\n",
       "      <td>0.1</td>\n",
       "      <td>10</td>\n",
       "    </tr>\n",
       "    <tr>\n",
       "      <th>9</th>\n",
       "      <td>cous cous</td>\n",
       "      <td>grain</td>\n",
       "      <td>0.37</td>\n",
       "      <td>2.5</td>\n",
       "    </tr>\n",
       "    <tr>\n",
       "      <th>10</th>\n",
       "      <td>quinoa</td>\n",
       "      <td>grain</td>\n",
       "      <td>0.5</td>\n",
       "      <td>3</td>\n",
       "    </tr>\n",
       "  </tbody>\n",
       "</table>\n",
       "</div>"
      ],
      "text/plain": [
       "       food_name   category price quantity\n",
       "0         apples      fruit   1.0        4\n",
       "1        bananas      fruit  0.25        8\n",
       "2        peaches      fruit   0.5        2\n",
       "3          pears      fruit  0.35        1\n",
       "4      asparagus  vegetable   3.0        1\n",
       "5        lettuce  vegetable  1.75        1\n",
       "6   jasmine rice      grain  0.12       20\n",
       "7   basmati rice      grain  0.15        5\n",
       "8          wheat      grain   0.1       10\n",
       "9      cous cous      grain  0.37      2.5\n",
       "10        quinoa      grain   0.5        3"
      ]
     },
     "execution_count": 30,
     "metadata": {},
     "output_type": "execute_result"
    }
   ],
   "source": [
    "# now let's rewrite this in 2 lines\n",
    "shopping_df = pd.DataFrame(shopping_dict).T.reset_index()\n",
    "shopping_df.columns = (['food_name','category','price','quantity'])\n",
    "shopping_df"
   ]
  },
  {
   "cell_type": "code",
   "execution_count": 31,
   "id": "d100d87f",
   "metadata": {},
   "outputs": [
    {
     "name": "stdout",
     "output_type": "stream",
     "text": [
      "(11, 4)\n",
      "11\n",
      "4\n"
     ]
    }
   ],
   "source": [
    "# shape of df\n",
    "print(shopping_df.shape)\n",
    "\n",
    "# rows\n",
    "print(shopping_df.shape[0])\n",
    "\n",
    "# columns\n",
    "print(shopping_df.shape[1])"
   ]
  },
  {
   "cell_type": "markdown",
   "id": "62be7728",
   "metadata": {},
   "source": [
    "## Before we work with this data, set the data types"
   ]
  },
  {
   "cell_type": "code",
   "execution_count": 33,
   "id": "9cb4d9e0",
   "metadata": {},
   "outputs": [
    {
     "data": {
      "text/plain": [
       "food_name    object\n",
       "category     object\n",
       "price        object\n",
       "quantity     object\n",
       "dtype: object"
      ]
     },
     "execution_count": 33,
     "metadata": {},
     "output_type": "execute_result"
    }
   ],
   "source": [
    "# show the datatypes\n",
    "shopping_df.dtypes"
   ]
  },
  {
   "cell_type": "code",
   "execution_count": 34,
   "id": "772af8cf",
   "metadata": {},
   "outputs": [
    {
     "data": {
      "text/html": [
       "<div>\n",
       "<style scoped>\n",
       "    .dataframe tbody tr th:only-of-type {\n",
       "        vertical-align: middle;\n",
       "    }\n",
       "\n",
       "    .dataframe tbody tr th {\n",
       "        vertical-align: top;\n",
       "    }\n",
       "\n",
       "    .dataframe thead th {\n",
       "        text-align: right;\n",
       "    }\n",
       "</style>\n",
       "<table border=\"1\" class=\"dataframe\">\n",
       "  <thead>\n",
       "    <tr style=\"text-align: right;\">\n",
       "      <th></th>\n",
       "      <th>food_name</th>\n",
       "      <th>category</th>\n",
       "      <th>price</th>\n",
       "      <th>quantity</th>\n",
       "    </tr>\n",
       "  </thead>\n",
       "  <tbody>\n",
       "    <tr>\n",
       "      <th>0</th>\n",
       "      <td>apples</td>\n",
       "      <td>fruit</td>\n",
       "      <td>1.0</td>\n",
       "      <td>4</td>\n",
       "    </tr>\n",
       "    <tr>\n",
       "      <th>1</th>\n",
       "      <td>bananas</td>\n",
       "      <td>fruit</td>\n",
       "      <td>0.25</td>\n",
       "      <td>8</td>\n",
       "    </tr>\n",
       "    <tr>\n",
       "      <th>2</th>\n",
       "      <td>peaches</td>\n",
       "      <td>fruit</td>\n",
       "      <td>0.5</td>\n",
       "      <td>2</td>\n",
       "    </tr>\n",
       "    <tr>\n",
       "      <th>3</th>\n",
       "      <td>pears</td>\n",
       "      <td>fruit</td>\n",
       "      <td>0.35</td>\n",
       "      <td>1</td>\n",
       "    </tr>\n",
       "    <tr>\n",
       "      <th>4</th>\n",
       "      <td>asparagus</td>\n",
       "      <td>vegetable</td>\n",
       "      <td>3.0</td>\n",
       "      <td>1</td>\n",
       "    </tr>\n",
       "    <tr>\n",
       "      <th>5</th>\n",
       "      <td>lettuce</td>\n",
       "      <td>vegetable</td>\n",
       "      <td>1.75</td>\n",
       "      <td>1</td>\n",
       "    </tr>\n",
       "    <tr>\n",
       "      <th>6</th>\n",
       "      <td>jasmine rice</td>\n",
       "      <td>grain</td>\n",
       "      <td>0.12</td>\n",
       "      <td>20</td>\n",
       "    </tr>\n",
       "    <tr>\n",
       "      <th>7</th>\n",
       "      <td>basmati rice</td>\n",
       "      <td>grain</td>\n",
       "      <td>0.15</td>\n",
       "      <td>5</td>\n",
       "    </tr>\n",
       "    <tr>\n",
       "      <th>8</th>\n",
       "      <td>wheat</td>\n",
       "      <td>grain</td>\n",
       "      <td>0.1</td>\n",
       "      <td>10</td>\n",
       "    </tr>\n",
       "    <tr>\n",
       "      <th>9</th>\n",
       "      <td>cous cous</td>\n",
       "      <td>grain</td>\n",
       "      <td>0.37</td>\n",
       "      <td>2.5</td>\n",
       "    </tr>\n",
       "    <tr>\n",
       "      <th>10</th>\n",
       "      <td>quinoa</td>\n",
       "      <td>grain</td>\n",
       "      <td>0.5</td>\n",
       "      <td>3</td>\n",
       "    </tr>\n",
       "  </tbody>\n",
       "</table>\n",
       "</div>"
      ],
      "text/plain": [
       "       food_name   category price quantity\n",
       "0         apples      fruit   1.0        4\n",
       "1        bananas      fruit  0.25        8\n",
       "2        peaches      fruit   0.5        2\n",
       "3          pears      fruit  0.35        1\n",
       "4      asparagus  vegetable   3.0        1\n",
       "5        lettuce  vegetable  1.75        1\n",
       "6   jasmine rice      grain  0.12       20\n",
       "7   basmati rice      grain  0.15        5\n",
       "8          wheat      grain   0.1       10\n",
       "9      cous cous      grain  0.37      2.5\n",
       "10        quinoa      grain   0.5        3"
      ]
     },
     "execution_count": 34,
     "metadata": {},
     "output_type": "execute_result"
    }
   ],
   "source": [
    "shopping_df"
   ]
  },
  {
   "cell_type": "code",
   "execution_count": 35,
   "id": "9484e59a",
   "metadata": {},
   "outputs": [
    {
     "data": {
      "text/plain": [
       "food_name     object\n",
       "category      object\n",
       "price        float64\n",
       "quantity     float64\n",
       "dtype: object"
      ]
     },
     "execution_count": 35,
     "metadata": {},
     "output_type": "execute_result"
    }
   ],
   "source": [
    "# change price and quantity to float64\n",
    "shopping_df['price'] = shopping_df['price'].astype('float64')\n",
    "shopping_df['quantity'] = shopping_df['quantity'].astype('float64')\n",
    "\n",
    "shopping_df.dtypes"
   ]
  },
  {
   "cell_type": "markdown",
   "id": "56287958",
   "metadata": {},
   "source": [
    "## Functionize the above cell"
   ]
  },
  {
   "cell_type": "code",
   "execution_count": 36,
   "id": "9fcaea8a",
   "metadata": {},
   "outputs": [
    {
     "data": {
      "text/plain": [
       "food_name    object\n",
       "category     object\n",
       "price        object\n",
       "quantity     object\n",
       "dtype: object"
      ]
     },
     "execution_count": 36,
     "metadata": {},
     "output_type": "execute_result"
    }
   ],
   "source": [
    "def dtype_cast(df,col,typ):\n",
    "    df[col] = df[col].astype(typ)\n",
    "    \n",
    "#change price and quantity back to str\n",
    "dtype_cast(shopping_df,'price','str')\n",
    "dtype_cast(shopping_df,'quantity','str')\n",
    "shopping_df.dtypes"
   ]
  },
  {
   "cell_type": "code",
   "execution_count": 37,
   "id": "fdef9a70",
   "metadata": {},
   "outputs": [
    {
     "data": {
      "text/plain": [
       "food_name     object\n",
       "category      object\n",
       "price        float64\n",
       "quantity     float64\n",
       "dtype: object"
      ]
     },
     "execution_count": 37,
     "metadata": {},
     "output_type": "execute_result"
    }
   ],
   "source": [
    "# put it back how we want it with the function\n",
    "dtype_cast(shopping_df,'price','float64')\n",
    "dtype_cast(shopping_df,'quantity','float64')\n",
    "shopping_df.dtypes"
   ]
  },
  {
   "cell_type": "markdown",
   "id": "2120edcf",
   "metadata": {},
   "source": [
    "## Now to summarizing this dataframe"
   ]
  },
  {
   "cell_type": "code",
   "execution_count": 43,
   "id": "01c656cf",
   "metadata": {},
   "outputs": [
    {
     "name": "stdout",
     "output_type": "stream",
     "text": [
      "0.1\n",
      "0.7354545454545455\n",
      "3.0\n",
      "0.7981472727272727\n",
      "0.8933908846228915\n",
      "0.5\n"
     ]
    }
   ],
   "source": [
    "# min, mean, max, variance, standard deviation of price\n",
    "print(shopping_df['price'].min())\n",
    "print(shopping_df['price'].mean())\n",
    "print(shopping_df['price'].max())\n",
    "print(shopping_df['price'].var())\n",
    "print(shopping_df['price'].std())\n",
    "print(shopping_df['price'].mode()[0])"
   ]
  },
  {
   "cell_type": "code",
   "execution_count": 47,
   "id": "7c8222e1",
   "metadata": {},
   "outputs": [
    {
     "data": {
      "text/html": [
       "<div>\n",
       "<style scoped>\n",
       "    .dataframe tbody tr th:only-of-type {\n",
       "        vertical-align: middle;\n",
       "    }\n",
       "\n",
       "    .dataframe tbody tr th {\n",
       "        vertical-align: top;\n",
       "    }\n",
       "\n",
       "    .dataframe thead th {\n",
       "        text-align: right;\n",
       "    }\n",
       "</style>\n",
       "<table border=\"1\" class=\"dataframe\">\n",
       "  <thead>\n",
       "    <tr style=\"text-align: right;\">\n",
       "      <th></th>\n",
       "      <th>price</th>\n",
       "    </tr>\n",
       "    <tr>\n",
       "      <th>category</th>\n",
       "      <th></th>\n",
       "    </tr>\n",
       "  </thead>\n",
       "  <tbody>\n",
       "    <tr>\n",
       "      <th>fruit</th>\n",
       "      <td>0.25</td>\n",
       "    </tr>\n",
       "    <tr>\n",
       "      <th>grain</th>\n",
       "      <td>0.10</td>\n",
       "    </tr>\n",
       "    <tr>\n",
       "      <th>vegetable</th>\n",
       "      <td>1.75</td>\n",
       "    </tr>\n",
       "  </tbody>\n",
       "</table>\n",
       "</div>"
      ],
      "text/plain": [
       "           price\n",
       "category        \n",
       "fruit       0.25\n",
       "grain       0.10\n",
       "vegetable   1.75"
      ]
     },
     "execution_count": 47,
     "metadata": {},
     "output_type": "execute_result"
    }
   ],
   "source": [
    "# groupby category and get stats\n",
    "shopping_df.groupby(['category']).agg({'price': 'min'})"
   ]
  },
  {
   "cell_type": "code",
   "execution_count": 48,
   "id": "774891a0",
   "metadata": {},
   "outputs": [
    {
     "data": {
      "text/html": [
       "<div>\n",
       "<style scoped>\n",
       "    .dataframe tbody tr th:only-of-type {\n",
       "        vertical-align: middle;\n",
       "    }\n",
       "\n",
       "    .dataframe tbody tr th {\n",
       "        vertical-align: top;\n",
       "    }\n",
       "\n",
       "    .dataframe thead th {\n",
       "        text-align: right;\n",
       "    }\n",
       "</style>\n",
       "<table border=\"1\" class=\"dataframe\">\n",
       "  <thead>\n",
       "    <tr style=\"text-align: right;\">\n",
       "      <th></th>\n",
       "      <th>category</th>\n",
       "      <th>price</th>\n",
       "    </tr>\n",
       "  </thead>\n",
       "  <tbody>\n",
       "    <tr>\n",
       "      <th>0</th>\n",
       "      <td>fruit</td>\n",
       "      <td>0.25</td>\n",
       "    </tr>\n",
       "    <tr>\n",
       "      <th>1</th>\n",
       "      <td>grain</td>\n",
       "      <td>0.10</td>\n",
       "    </tr>\n",
       "    <tr>\n",
       "      <th>2</th>\n",
       "      <td>vegetable</td>\n",
       "      <td>1.75</td>\n",
       "    </tr>\n",
       "  </tbody>\n",
       "</table>\n",
       "</div>"
      ],
      "text/plain": [
       "    category  price\n",
       "0      fruit   0.25\n",
       "1      grain   0.10\n",
       "2  vegetable   1.75"
      ]
     },
     "execution_count": 48,
     "metadata": {},
     "output_type": "execute_result"
    }
   ],
   "source": [
    "# looks ugly this way and harder to merge with later, so reset index\n",
    "shopping_df.groupby(['category']).agg({'price': 'min'}).reset_index()"
   ]
  },
  {
   "cell_type": "code",
   "execution_count": 49,
   "id": "59849897",
   "metadata": {},
   "outputs": [
    {
     "data": {
      "text/html": [
       "<div>\n",
       "<style scoped>\n",
       "    .dataframe tbody tr th:only-of-type {\n",
       "        vertical-align: middle;\n",
       "    }\n",
       "\n",
       "    .dataframe tbody tr th {\n",
       "        vertical-align: top;\n",
       "    }\n",
       "\n",
       "    .dataframe thead tr th {\n",
       "        text-align: left;\n",
       "    }\n",
       "</style>\n",
       "<table border=\"1\" class=\"dataframe\">\n",
       "  <thead>\n",
       "    <tr>\n",
       "      <th></th>\n",
       "      <th>category</th>\n",
       "      <th colspan=\"3\" halign=\"left\">price</th>\n",
       "    </tr>\n",
       "    <tr>\n",
       "      <th></th>\n",
       "      <th></th>\n",
       "      <th>min</th>\n",
       "      <th>mean</th>\n",
       "      <th>max</th>\n",
       "    </tr>\n",
       "  </thead>\n",
       "  <tbody>\n",
       "    <tr>\n",
       "      <th>0</th>\n",
       "      <td>fruit</td>\n",
       "      <td>0.25</td>\n",
       "      <td>0.525</td>\n",
       "      <td>1.0</td>\n",
       "    </tr>\n",
       "    <tr>\n",
       "      <th>1</th>\n",
       "      <td>grain</td>\n",
       "      <td>0.10</td>\n",
       "      <td>0.248</td>\n",
       "      <td>0.5</td>\n",
       "    </tr>\n",
       "    <tr>\n",
       "      <th>2</th>\n",
       "      <td>vegetable</td>\n",
       "      <td>1.75</td>\n",
       "      <td>2.375</td>\n",
       "      <td>3.0</td>\n",
       "    </tr>\n",
       "  </tbody>\n",
       "</table>\n",
       "</div>"
      ],
      "text/plain": [
       "    category price            \n",
       "               min   mean  max\n",
       "0      fruit  0.25  0.525  1.0\n",
       "1      grain  0.10  0.248  0.5\n",
       "2  vegetable  1.75  2.375  3.0"
      ]
     },
     "execution_count": 49,
     "metadata": {},
     "output_type": "execute_result"
    }
   ],
   "source": [
    "# multiple statistics on the same column\n",
    "shopping_df.groupby(['category']).agg({'price': ['min','mean','max']}).reset_index()"
   ]
  },
  {
   "cell_type": "code",
   "execution_count": 74,
   "id": "a446d64c",
   "metadata": {},
   "outputs": [
    {
     "data": {
      "text/plain": [
       "1    bananas\n",
       "Name: food_name, dtype: object"
      ]
     },
     "execution_count": 74,
     "metadata": {},
     "output_type": "execute_result"
    }
   ],
   "source": [
    "# get the fruit that is the minimum fruit price\n",
    "fruit_df = shopping_df.loc[shopping_df['category'] == 'fruit'].copy()\n",
    "min_fruit_price = fruit_df['price'].min()\n",
    "fruit_df.loc[fruit_df['price'] == min_fruit_price]['food_name']"
   ]
  },
  {
   "cell_type": "code",
   "execution_count": null,
   "id": "304f0c55",
   "metadata": {},
   "outputs": [],
   "source": []
  },
  {
   "cell_type": "code",
   "execution_count": 85,
   "id": "dbb12af3",
   "metadata": {},
   "outputs": [
    {
     "data": {
      "text/html": [
       "<div>\n",
       "<style scoped>\n",
       "    .dataframe tbody tr th:only-of-type {\n",
       "        vertical-align: middle;\n",
       "    }\n",
       "\n",
       "    .dataframe tbody tr th {\n",
       "        vertical-align: top;\n",
       "    }\n",
       "\n",
       "    .dataframe thead th {\n",
       "        text-align: right;\n",
       "    }\n",
       "</style>\n",
       "<table border=\"1\" class=\"dataframe\">\n",
       "  <thead>\n",
       "    <tr style=\"text-align: right;\">\n",
       "      <th></th>\n",
       "      <th>category</th>\n",
       "      <th>avg_price</th>\n",
       "      <th>total_quantity</th>\n",
       "      <th>total_cost</th>\n",
       "    </tr>\n",
       "  </thead>\n",
       "  <tbody>\n",
       "    <tr>\n",
       "      <th>0</th>\n",
       "      <td>fruit</td>\n",
       "      <td>0.525</td>\n",
       "      <td>15.0</td>\n",
       "      <td>7.350</td>\n",
       "    </tr>\n",
       "    <tr>\n",
       "      <th>1</th>\n",
       "      <td>grain</td>\n",
       "      <td>0.248</td>\n",
       "      <td>40.5</td>\n",
       "      <td>6.575</td>\n",
       "    </tr>\n",
       "    <tr>\n",
       "      <th>2</th>\n",
       "      <td>vegetable</td>\n",
       "      <td>2.375</td>\n",
       "      <td>2.0</td>\n",
       "      <td>4.750</td>\n",
       "    </tr>\n",
       "  </tbody>\n",
       "</table>\n",
       "</div>"
      ],
      "text/plain": [
       "    category  avg_price  total_quantity  total_cost\n",
       "0      fruit      0.525            15.0       7.350\n",
       "1      grain      0.248            40.5       6.575\n",
       "2  vegetable      2.375             2.0       4.750"
      ]
     },
     "execution_count": 85,
     "metadata": {},
     "output_type": "execute_result"
    }
   ],
   "source": [
    "# create new field with cost, create df with stats and rename columns\n",
    "shopping_df['cost'] = shopping_df['price'] * shopping_df['quantity']\n",
    "\n",
    "agg_df1 = shopping_df.groupby(['category']).agg({'price': 'mean', 'quantity': 'sum', 'cost': 'sum'}).reset_index()\n",
    "agg_df1.columns = (['category','avg_price','total_quantity','total_cost'])\n",
    "\n",
    "agg_df1"
   ]
  },
  {
   "cell_type": "markdown",
   "id": "60b251c6",
   "metadata": {},
   "source": [
    "## Multiple shopping lists with constant statistics"
   ]
  },
  {
   "cell_type": "code",
   "execution_count": 86,
   "id": "c52ebfb3",
   "metadata": {},
   "outputs": [
    {
     "data": {
      "text/html": [
       "<div>\n",
       "<style scoped>\n",
       "    .dataframe tbody tr th:only-of-type {\n",
       "        vertical-align: middle;\n",
       "    }\n",
       "\n",
       "    .dataframe tbody tr th {\n",
       "        vertical-align: top;\n",
       "    }\n",
       "\n",
       "    .dataframe thead th {\n",
       "        text-align: right;\n",
       "    }\n",
       "</style>\n",
       "<table border=\"1\" class=\"dataframe\">\n",
       "  <thead>\n",
       "    <tr style=\"text-align: right;\">\n",
       "      <th></th>\n",
       "      <th>food_name</th>\n",
       "      <th>category</th>\n",
       "      <th>price</th>\n",
       "      <th>quantity</th>\n",
       "      <th>cost</th>\n",
       "    </tr>\n",
       "  </thead>\n",
       "  <tbody>\n",
       "    <tr>\n",
       "      <th>0</th>\n",
       "      <td>apples</td>\n",
       "      <td>fruit</td>\n",
       "      <td>1.0</td>\n",
       "      <td>4.0</td>\n",
       "      <td>4.0</td>\n",
       "    </tr>\n",
       "  </tbody>\n",
       "</table>\n",
       "</div>"
      ],
      "text/plain": [
       "  food_name category  price  quantity  cost\n",
       "0    apples    fruit    1.0       4.0   4.0"
      ]
     },
     "execution_count": 86,
     "metadata": {},
     "output_type": "execute_result"
    }
   ],
   "source": [
    "# first filtering a dataframe\n",
    "shopping_df.loc[shopping_df['food_name'] == 'apples']"
   ]
  },
  {
   "cell_type": "code",
   "execution_count": 87,
   "id": "e331dc55",
   "metadata": {},
   "outputs": [
    {
     "data": {
      "text/html": [
       "<div>\n",
       "<style scoped>\n",
       "    .dataframe tbody tr th:only-of-type {\n",
       "        vertical-align: middle;\n",
       "    }\n",
       "\n",
       "    .dataframe tbody tr th {\n",
       "        vertical-align: top;\n",
       "    }\n",
       "\n",
       "    .dataframe thead th {\n",
       "        text-align: right;\n",
       "    }\n",
       "</style>\n",
       "<table border=\"1\" class=\"dataframe\">\n",
       "  <thead>\n",
       "    <tr style=\"text-align: right;\">\n",
       "      <th></th>\n",
       "      <th>food_name</th>\n",
       "      <th>category</th>\n",
       "      <th>price</th>\n",
       "      <th>quantity</th>\n",
       "      <th>cost</th>\n",
       "    </tr>\n",
       "  </thead>\n",
       "  <tbody>\n",
       "    <tr>\n",
       "      <th>0</th>\n",
       "      <td>apples</td>\n",
       "      <td>fruit</td>\n",
       "      <td>1.00</td>\n",
       "      <td>4.0</td>\n",
       "      <td>4.0</td>\n",
       "    </tr>\n",
       "    <tr>\n",
       "      <th>1</th>\n",
       "      <td>bananas</td>\n",
       "      <td>fruit</td>\n",
       "      <td>0.25</td>\n",
       "      <td>8.0</td>\n",
       "      <td>2.0</td>\n",
       "    </tr>\n",
       "  </tbody>\n",
       "</table>\n",
       "</div>"
      ],
      "text/plain": [
       "  food_name category  price  quantity  cost\n",
       "0    apples    fruit   1.00       4.0   4.0\n",
       "1   bananas    fruit   0.25       8.0   2.0"
      ]
     },
     "execution_count": 87,
     "metadata": {},
     "output_type": "execute_result"
    }
   ],
   "source": [
    "# next filtering with list\n",
    "shopping_df.loc[shopping_df['food_name'].isin(['apples','bananas'])]"
   ]
  },
  {
   "cell_type": "code",
   "execution_count": 88,
   "id": "515a6dfa",
   "metadata": {},
   "outputs": [
    {
     "data": {
      "text/html": [
       "<div>\n",
       "<style scoped>\n",
       "    .dataframe tbody tr th:only-of-type {\n",
       "        vertical-align: middle;\n",
       "    }\n",
       "\n",
       "    .dataframe tbody tr th {\n",
       "        vertical-align: top;\n",
       "    }\n",
       "\n",
       "    .dataframe thead th {\n",
       "        text-align: right;\n",
       "    }\n",
       "</style>\n",
       "<table border=\"1\" class=\"dataframe\">\n",
       "  <thead>\n",
       "    <tr style=\"text-align: right;\">\n",
       "      <th></th>\n",
       "      <th>category</th>\n",
       "      <th>price</th>\n",
       "      <th>quantity</th>\n",
       "      <th>cost</th>\n",
       "    </tr>\n",
       "  </thead>\n",
       "  <tbody>\n",
       "    <tr>\n",
       "      <th>0</th>\n",
       "      <td>fruit</td>\n",
       "      <td>0.675</td>\n",
       "      <td>5.0</td>\n",
       "      <td>4.35</td>\n",
       "    </tr>\n",
       "    <tr>\n",
       "      <th>1</th>\n",
       "      <td>grain</td>\n",
       "      <td>0.100</td>\n",
       "      <td>10.0</td>\n",
       "      <td>1.00</td>\n",
       "    </tr>\n",
       "  </tbody>\n",
       "</table>\n",
       "</div>"
      ],
      "text/plain": [
       "  category  price  quantity  cost\n",
       "0    fruit  0.675       5.0  4.35\n",
       "1    grain  0.100      10.0  1.00"
      ]
     },
     "execution_count": 88,
     "metadata": {},
     "output_type": "execute_result"
    }
   ],
   "source": [
    "# make an agg dictionary for repeatable aggregations\n",
    "agg_dict = {'price': 'mean', 'quantity': 'sum', 'cost': 'sum'}\n",
    "\n",
    "# 3 different shopping lists\n",
    "mom_list = ['apples','pears','wheat']\n",
    "dad_list = ['asparagus','cous cous']\n",
    "my_list = ['pears','bananas','jasmine rice']\n",
    "\n",
    "# filter the dataframe based on the items in the lists and get aggregation\n",
    "shopping_df.loc[shopping_df['food_name'].isin(mom_list)].groupby(['category']).agg(agg_dict).reset_index()"
   ]
  },
  {
   "cell_type": "markdown",
   "id": "fee25b43",
   "metadata": {},
   "source": [
    "## Loop over the 3 lists and get the cost for each person"
   ]
  },
  {
   "cell_type": "code",
   "execution_count": 89,
   "id": "7a125ed1",
   "metadata": {},
   "outputs": [
    {
     "data": {
      "text/plain": [
       "[['apples', 'pears', 'wheat'],\n",
       " ['asparagus', 'cous cous'],\n",
       " ['pears', 'bananas', 'jasmine rice']]"
      ]
     },
     "execution_count": 89,
     "metadata": {},
     "output_type": "execute_result"
    }
   ],
   "source": [
    "# First create list of lists\n",
    "all_people = [] #it's typically the \"pythonic\" way to create an empty thing and add to it\n",
    "all_people.append(mom_list)\n",
    "all_people.append(dad_list)\n",
    "all_people.append(my_list)\n",
    "\n",
    "all_people"
   ]
  },
  {
   "cell_type": "code",
   "execution_count": 90,
   "id": "f2b58440",
   "metadata": {},
   "outputs": [
    {
     "name": "stdout",
     "output_type": "stream",
     "text": [
      "cost    18.675\n",
      "dtype: float64\n",
      "_____\n",
      "     \n",
      "[18.675]\n",
      "_____\n",
      "     \n",
      "18.675\n"
     ]
    }
   ],
   "source": [
    "# get the total cost in multiple steps before rolling into one value\n",
    "\n",
    "agg_dict = {'cost': 'sum'}\n",
    "### first, the basics\n",
    "print(shopping_df.agg(agg_dict))\n",
    "print('_____')\n",
    "print('     ')\n",
    "\n",
    "### next, get the values from this output\n",
    "print(shopping_df.agg(agg_dict).values)\n",
    "print('_____')\n",
    "print('     ')\n",
    "\n",
    "### the last line gave an array and we want to store a value, so we take the 1st element of the array with index 0\n",
    "print(shopping_df.agg(agg_dict).values[0])"
   ]
  },
  {
   "cell_type": "code",
   "execution_count": 91,
   "id": "6ef8ff1d",
   "metadata": {},
   "outputs": [
    {
     "name": "stdout",
     "output_type": "stream",
     "text": [
      "5.35\n",
      "3.925\n",
      "4.75\n"
     ]
    }
   ],
   "source": [
    "# now let's loop over the 3 lists and get the total cost for each person\n",
    "agg_dict = {'cost': 'sum'}\n",
    "\n",
    "for i in all_people:\n",
    "    print(shopping_df.loc[shopping_df['food_name'].isin(i)].agg(agg_dict).values[0])"
   ]
  },
  {
   "cell_type": "code",
   "execution_count": 92,
   "id": "802e0aa3",
   "metadata": {},
   "outputs": [
    {
     "data": {
      "text/html": [
       "<div>\n",
       "<style scoped>\n",
       "    .dataframe tbody tr th:only-of-type {\n",
       "        vertical-align: middle;\n",
       "    }\n",
       "\n",
       "    .dataframe tbody tr th {\n",
       "        vertical-align: top;\n",
       "    }\n",
       "\n",
       "    .dataframe thead th {\n",
       "        text-align: right;\n",
       "    }\n",
       "</style>\n",
       "<table border=\"1\" class=\"dataframe\">\n",
       "  <thead>\n",
       "    <tr style=\"text-align: right;\">\n",
       "      <th></th>\n",
       "      <th>food_name</th>\n",
       "      <th>category</th>\n",
       "      <th>price</th>\n",
       "      <th>quantity</th>\n",
       "      <th>cost</th>\n",
       "    </tr>\n",
       "  </thead>\n",
       "  <tbody>\n",
       "    <tr>\n",
       "      <th>4</th>\n",
       "      <td>asparagus</td>\n",
       "      <td>vegetable</td>\n",
       "      <td>3.00</td>\n",
       "      <td>1.0</td>\n",
       "      <td>3.000</td>\n",
       "    </tr>\n",
       "    <tr>\n",
       "      <th>9</th>\n",
       "      <td>cous cous</td>\n",
       "      <td>grain</td>\n",
       "      <td>0.37</td>\n",
       "      <td>2.5</td>\n",
       "      <td>0.925</td>\n",
       "    </tr>\n",
       "  </tbody>\n",
       "</table>\n",
       "</div>"
      ],
      "text/plain": [
       "   food_name   category  price  quantity   cost\n",
       "4  asparagus  vegetable   3.00       1.0  3.000\n",
       "9  cous cous      grain   0.37       2.5  0.925"
      ]
     },
     "execution_count": 92,
     "metadata": {},
     "output_type": "execute_result"
    }
   ],
   "source": [
    "shopping_df.loc[shopping_df['food_name'].isin(dad_list)]"
   ]
  },
  {
   "cell_type": "code",
   "execution_count": 93,
   "id": "b692ab1f",
   "metadata": {},
   "outputs": [
    {
     "name": "stdout",
     "output_type": "stream",
     "text": [
      "Total cost for mom = $5.35\n",
      "Total cost for dad = $3.92\n",
      "Total cost for me = $4.75\n"
     ]
    }
   ],
   "source": [
    "# let's add their names so we need to use enumerate\n",
    "names = ['mom','dad','me']\n",
    "\n",
    "for idx, j in enumerate(all_people):\n",
    "    # create the cost value inside the loop\n",
    "    person_cost = shopping_df.loc[shopping_df['food_name'].isin(j)].agg(agg_dict).values[0]\n",
    "    rounded_cost = round(person_cost,2)\n",
    "    \n",
    "    # create the names\n",
    "    name = names[idx]\n",
    "    \n",
    "    print('Total cost for ' + name + ' = $' + str(rounded_cost))"
   ]
  },
  {
   "cell_type": "code",
   "execution_count": null,
   "id": "403d95e8",
   "metadata": {},
   "outputs": [],
   "source": []
  },
  {
   "cell_type": "markdown",
   "id": "23ad92d8",
   "metadata": {},
   "source": [
    "### Student Exercise 1\n",
    "\n",
    "#### Make 3 lists with at least 4 items for the following: activities you like to do, your friends like to do, and your parents like to do\n",
    "#### Print the length of each list along with who's activities it refers to\n",
    "#### Find the common activities that are shared by 4 linkages - You|Friends, You|Parents, Parents|Friends, Everybody"
   ]
  },
  {
   "cell_type": "code",
   "execution_count": 1,
   "id": "ab34a380",
   "metadata": {},
   "outputs": [
    {
     "name": "stdout",
     "output_type": "stream",
     "text": [
      "me 4\n",
      "friends 5\n",
      "parents 3\n",
      "-----------------------------------\n",
      "['golf', 'yoga']\n",
      "[]\n",
      "[]\n",
      "[]\n"
     ]
    }
   ],
   "source": [
    "my_stuff      = ['golf','yoga','python','cooking']\n",
    "friends_stuff = ['eating','golf','yoga','hiking','c++']\n",
    "parents_stuff = ['prying into my personal life','complaining about illness','being retired']\n",
    "\n",
    "print('me ' + str(len(my_stuff)))   \n",
    "print('friends ' + str(len(friends_stuff)))\n",
    "print('parents ' + str(len(parents_stuff)))\n",
    "\n",
    "print('-----------------------------------')\n",
    "\n",
    "print([i for i in my_stuff if i in friends_stuff])\n",
    "print([i for i in my_stuff if i in parents_stuff])\n",
    "print([i for i in parents_stuff if i in friends_stuff])\n",
    "print([i for i in my_stuff if i in friends_stuff and i in parents_stuff])"
   ]
  },
  {
   "cell_type": "markdown",
   "id": "35fe4ed6",
   "metadata": {},
   "source": [
    "### Student Exercise 2 (Challenge)\n",
    "#### Make a dictionary with all of the activities contained within any of the 3 lists where the activity is the key\n",
    "#### For each key, add a list containing the cost to start the activity and the daily minutes required for proficiency\n",
    "#### For any activities that your friends or parents do that you do not, print the activity and the associated startup cost and daily minutes required"
   ]
  },
  {
   "cell_type": "code",
   "execution_count": 2,
   "id": "3ad8e783",
   "metadata": {},
   "outputs": [
    {
     "data": {
      "text/plain": [
       "{'golf': 1000,\n",
       " 'yoga': 100,\n",
       " 'python': 0,\n",
       " 'cooking': 50,\n",
       " 'eating': 10,\n",
       " 'hiking': 0,\n",
       " 'c++': 0,\n",
       " 'prying into my personal life': 0,\n",
       " 'complaining about illness': 0,\n",
       " 'being retired': 0}"
      ]
     },
     "execution_count": 2,
     "metadata": {},
     "output_type": "execute_result"
    }
   ],
   "source": [
    "all_list = my_stuff + friends_stuff + parents_stuff\n",
    "cost = [1000,100,0,50,10,1000,100,0,0,0,0,0]\n",
    "\n",
    "all_dict = {}\n",
    "for idx, i in enumerate(all_list):\n",
    "    all_dict[i] = cost[idx]\n",
    "\n",
    "all_dict"
   ]
  },
  {
   "cell_type": "code",
   "execution_count": 6,
   "id": "29a2aa01",
   "metadata": {},
   "outputs": [
    {
     "name": "stdout",
     "output_type": "stream",
     "text": [
      "eating; startup cost = 10\n",
      "hiking; startup cost = 0\n",
      "c++; startup cost = 0\n",
      "prying into my personal life; startup cost = 0\n",
      "complaining about illness; startup cost = 0\n",
      "being retired; startup cost = 0\n"
     ]
    }
   ],
   "source": [
    "list_others_do_that_i_dont = [i for i in friends_stuff + parents_stuff if i not in my_stuff]\n",
    "\n",
    "for i in list_others_do_that_i_dont:\n",
    "    print(i + '; startup cost = ' + str(all_dict[i]))"
   ]
  },
  {
   "cell_type": "code",
   "execution_count": null,
   "id": "e1ae0b0c",
   "metadata": {},
   "outputs": [],
   "source": []
  }
 ],
 "metadata": {
  "kernelspec": {
   "display_name": "Python 3 (ipykernel)",
   "language": "python",
   "name": "python3"
  },
  "language_info": {
   "codemirror_mode": {
    "name": "ipython",
    "version": 3
   },
   "file_extension": ".py",
   "mimetype": "text/x-python",
   "name": "python",
   "nbconvert_exporter": "python",
   "pygments_lexer": "ipython3",
   "version": "3.11.5"
  }
 },
 "nbformat": 4,
 "nbformat_minor": 5
}
