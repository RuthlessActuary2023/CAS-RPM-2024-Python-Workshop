{
 "cells": [
  {
   "cell_type": "code",
   "execution_count": 1,
   "metadata": {},
   "outputs": [
    {
     "data": {
      "text/html": [
       "\n",
       "<style>\n",
       "    div#notebook-container    { width: 90%; }\n",
       "    div#menubar-container     { width: 65%; }\n",
       "    div#maintoolbar-container { width: 99%; }\n",
       "</style>\n"
      ],
      "text/plain": [
       "<IPython.core.display.HTML object>"
      ]
     },
     "metadata": {},
     "output_type": "display_data"
    }
   ],
   "source": [
    "import pandas as pd\n",
    "import numpy as np\n",
    "\n",
    "pd.set_option(\"display.max_columns\",25)\n",
    "pd.set_option(\"display.max_rows\",250)\n",
    "pd.options.display.float_format = '{:,.2f}'.format\n",
    "\n",
    "from IPython.display import display, HTML\n",
    "\n",
    "display(HTML(data=\"\"\"\n",
    "<style>\n",
    "    div#notebook-container    { width: 90%; }\n",
    "    div#menubar-container     { width: 65%; }\n",
    "    div#maintoolbar-container { width: 99%; }\n",
    "</style>\n",
    "\"\"\"))\n",
    "\n",
    "import matplotlib.pyplot as plt\n",
    "\n",
    "from __future__ import print_function\n",
    "from ipywidgets import interact, interactive, fixed, interact_manual\n",
    "import ipywidgets as widgets\n",
    "\n",
    "from urllib.request import urlopen\n",
    "import json\n",
    "\n",
    "import random\n",
    "from patsy import dmatrices\n",
    "import statsmodels.api as sm\n",
    "\n",
    "import xgboost as xgb\n",
    "import plotly.express as px\n",
    "import shap\n",
    "\n",
    "#new\n",
    "# pip install ray\n",
    "# pip install modin\n",
    "import ray\n",
    "import modin.pandas as modin_pd\n",
    "from modin.utils import to_pandas\n",
    "\n",
    "import time\n",
    "from datetime import datetime"
   ]
  },
  {
   "cell_type": "code",
   "execution_count": null,
   "metadata": {},
   "outputs": [],
   "source": [
    "### Basic Ray Core"
   ]
  },
  {
   "cell_type": "code",
   "execution_count": 2,
   "metadata": {},
   "outputs": [
    {
     "name": "stdout",
     "output_type": "stream",
     "text": [
      "998\n"
     ]
    }
   ],
   "source": [
    "# First, a basic task - adding up a sum of squares (Ray won't be faster)\n",
    "\n",
    "t1 = datetime.now()\n",
    "\n",
    "summation_list = []\n",
    "\n",
    "for i in range(100):\n",
    "    summation_list.append(i**2)\n",
    "    \n",
    "summation = sum(summation_list)\n",
    "    \n",
    "t2 = datetime.now()\n",
    "print((t2 - t1).microseconds)"
   ]
  },
  {
   "cell_type": "code",
   "execution_count": 3,
   "metadata": {},
   "outputs": [
    {
     "name": "stderr",
     "output_type": "stream",
     "text": [
      "2024-02-27 14:51:06,418\tINFO services.py:1172 -- View the Ray dashboard at \u001b[1m\u001b[32mhttp://127.0.0.1:8265\u001b[39m\u001b[22m\n"
     ]
    },
    {
     "data": {
      "text/plain": [
       "{'node_ip_address': '172.23.10.22',\n",
       " 'raylet_ip_address': '172.23.10.22',\n",
       " 'redis_address': '172.23.10.22:6379',\n",
       " 'object_store_address': 'tcp://127.0.0.1:64773',\n",
       " 'raylet_socket_name': 'tcp://127.0.0.1:61066',\n",
       " 'webui_url': '127.0.0.1:8265',\n",
       " 'session_dir': 'C:\\\\Users\\\\MARCUS~1\\\\AppData\\\\Local\\\\Temp\\\\ray\\\\session_2024-02-27_14-51-04_249002_10428',\n",
       " 'metrics_export_port': 62300,\n",
       " 'node_id': '1727962aca24ec3128249042fbee2eaf5544f712bf43cbc15fa1bc92'}"
      ]
     },
     "execution_count": 3,
     "metadata": {},
     "output_type": "execute_result"
    }
   ],
   "source": [
    "ray.init(num_cpus = 7) # I have 8 so I'm leaving one behind to handle the basic computer processes"
   ]
  },
  {
   "cell_type": "code",
   "execution_count": 4,
   "metadata": {},
   "outputs": [
    {
     "name": "stdout",
     "output_type": "stream",
     "text": [
      "24133\n"
     ]
    }
   ],
   "source": [
    "t1 = datetime.now()\n",
    "\n",
    "@ray.remote\n",
    "def square(x):\n",
    "    return x**2\n",
    "\n",
    "futures = [square.remote(i) for i in range(100)]\n",
    "\n",
    "summation = sum(ray.get(futures))\n",
    "\n",
    "t2 = datetime.now()\n",
    "print((t2 - t1).microseconds)"
   ]
  },
  {
   "cell_type": "code",
   "execution_count": null,
   "metadata": {},
   "outputs": [],
   "source": []
  },
  {
   "cell_type": "code",
   "execution_count": null,
   "metadata": {},
   "outputs": [],
   "source": [
    "### Modin csv import"
   ]
  },
  {
   "cell_type": "code",
   "execution_count": 5,
   "metadata": {},
   "outputs": [
    {
     "name": "stdout",
     "output_type": "stream",
     "text": [
      "326238\n"
     ]
    }
   ],
   "source": [
    "path = 'C:/Users/marcusdeckert/Box/marcusdeckert/Presentation Work/CARFAX Academy/data/'\n",
    "file = 'data4.csv'\n",
    "\n",
    "t1 = datetime.now()\n",
    "\n",
    "x = pd.read_csv(path + file, engine = 'python')\n",
    "\n",
    "t2 = datetime.now()\n",
    "print((t2 - t1).microseconds)"
   ]
  },
  {
   "cell_type": "code",
   "execution_count": 7,
   "metadata": {},
   "outputs": [
    {
     "name": "stdout",
     "output_type": "stream",
     "text": [
      "7570\n"
     ]
    }
   ],
   "source": [
    "path = 'C:/Users/marcusdeckert/Box/marcusdeckert/Presentation Work/CARFAX Academy/data/'\n",
    "file = 'data4.csv'\n",
    "\n",
    "t1 = datetime.now()\n",
    "\n",
    "a = modin_pd.read_csv(path + file)\n",
    "x = to_pandas(a)\n",
    "\n",
    "t2 = datetime.now()\n",
    "print((t2 - t1).microseconds)"
   ]
  },
  {
   "cell_type": "code",
   "execution_count": null,
   "metadata": {},
   "outputs": [],
   "source": [
    "# This difference becomes increasingly larger with larger csv files"
   ]
  },
  {
   "cell_type": "code",
   "execution_count": null,
   "metadata": {},
   "outputs": [],
   "source": []
  },
  {
   "cell_type": "code",
   "execution_count": null,
   "metadata": {},
   "outputs": [],
   "source": [
    "### Okay, let's do a real thing now"
   ]
  },
  {
   "cell_type": "code",
   "execution_count": null,
   "metadata": {},
   "outputs": [],
   "source": [
    "# Lesson 7 GBM 5 Fold CV Lift Chart"
   ]
  },
  {
   "cell_type": "code",
   "execution_count": 8,
   "metadata": {},
   "outputs": [],
   "source": [
    "### Import data\n",
    "path = 'C:/Users/marcusdeckert/Box/marcusdeckert/Presentation Work/CARFAX Academy/Lesson 7 stuff/'\n",
    "\n",
    "data1_train = pd.read_feather(path + 'data1_train')\n",
    "data1_test = pd.read_feather(path + 'data1_test')\n",
    "\n",
    "base_score = data1_train['incloss_col'].sum()/data1_train['ee_col'].sum()\n",
    "\n",
    "drop_cols = ['ee_col','incloss_col','pp']"
   ]
  },
  {
   "cell_type": "code",
   "execution_count": 9,
   "metadata": {},
   "outputs": [],
   "source": [
    "# Functions from Lesson 7\n",
    "def easy_gbm(train,test,weights,drop_cols,tweedie_p,bmf,max_depth,base_score,num_round):\n",
    "\n",
    "    params = {\n",
    "        'objective': 'reg:tweedie',\n",
    "        'tweedie_variance_power': tweedie_p,\n",
    "        'learning_rate': bmf,\n",
    "        'verbosity': 1,\n",
    "        'max_depth': max_depth,\n",
    "        'base_score': base_score\n",
    "    }\n",
    "\n",
    "    weight_train = train[weights]\n",
    "    dtrain = xgb.DMatrix(train.drop(drop_cols, axis=1), label=train['pp'], weight=weight_train)\n",
    "\n",
    "    global model_xgb\n",
    "    model_xgb = xgb.train(params, dtrain, num_round)\n",
    "\n",
    "    weight_test = test[weights]\n",
    "    dtest = xgb.DMatrix(test.drop(drop_cols, axis=1), label=test['pp'])\n",
    "    ypred_test = model_xgb.predict(dtest)\n",
    "\n",
    "    ypred_train = model_xgb.predict(dtrain)\n",
    "\n",
    "    global out_train, out_test ### sending this output to the global environment so we can use it after the fit\n",
    "    out_train = train.copy()\n",
    "    out_train['pred'] = ypred_train\n",
    "    out_train['pred_loss'] = out_train['pred'] * out_train['ee_col']\n",
    "\n",
    "    out_test = test.copy()\n",
    "    out_test['pred'] = ypred_test\n",
    "    out_test['pred_loss'] = out_test['pred'] * out_test['ee_col']\n",
    "    \n",
    "def mad_tt_split_cv_5_folds(data,fold_num):\n",
    "    np.random.seed(seed=42)\n",
    "    data['rand'] = np.random.randint(1, 101, data.shape[0])\n",
    "    \n",
    "    all_ints = [i for i in range(1, 101)]\n",
    "    test_ints = [i for i in all_ints if i >= (fold_num-1) * 20 + 1 and i <= fold_num * 20]\n",
    "    train_ints = [i for i in all_ints if i not in test_ints]\n",
    "    \n",
    "    global d1_train, d1_test\n",
    "    d1_test = data.loc[data['rand'].isin(test_ints)].copy()\n",
    "    d1_train = data.loc[data['rand'].isin(train_ints)].copy()\n",
    "    \n",
    "    del data['rand']\n",
    "\n",
    "def lift_cv_5_folds(data,tweedie_p,bmf,max_depth,num_round,act, pred, drop_cols, weight_name = 'ee_col', bins = 10):\n",
    "    x2 = pd.DataFrame()\n",
    "    for fold in [1,2,3,4,5]:\n",
    "        mad_tt_split_cv_5_folds(data.copy(),fold)\n",
    "        \n",
    "        easy_gbm(d1_train,d1_test,weight_name,drop_cols,tweedie_p,bmf,max_depth,base_score,num_round)\n",
    "        lift_data = out_test.copy()\n",
    "    \n",
    "        lift_data['decile'] = (round(lift_data.sort_values(by = 'pred')[weight_name].cumsum()/lift_data[weight_name].sum(),2)*bins).apply(np.floor)\n",
    "        lift_data['decile'] = np.where(lift_data['decile'] + 1 > bins ,bins,lift_data['decile'] + 1)\n",
    "        \n",
    "        x = lift_data.groupby(['decile'], dropna = False).agg({weight_name: 'sum', act: 'sum', pred: 'sum'}).reset_index()\n",
    "        x2 = pd.concat([x2,x])\n",
    "        print('fold ' + str(fold) + ' complete', end = '\\r')\n",
    "    \n",
    "    dfg = x2.groupby(['decile'], dropna = False).agg({weight_name: 'sum', act: 'sum', pred: 'sum'}).reset_index()\n",
    "    dfg['pp_act'] = dfg[act]/dfg[weight_name]\n",
    "    dfg['pp_pred'] = dfg[pred]/dfg[weight_name]\n",
    "    dfg.drop(columns = [act,pred], inplace = True)\n",
    "    \n",
    "    fig, ax = plt.subplots(figsize=(12,6))\n",
    "    ax2  = ax.twinx()\n",
    "    \n",
    "    y_max = np.where(dfg['pp_act'].max() > dfg['pp_pred'].max(),dfg['pp_act'].max(),dfg['pp_pred'].max())*1.20\n",
    "    ax2.set_ylim(0,y_max)\n",
    "    \n",
    "    dfg[weight_name].plot.bar(stacked=False, ax=ax, alpha=0.6)\n",
    "    dfg['pp_act'].plot(kind='line', ax=ax2, marker='o', linewidth = 0, legend='pp_act')\n",
    "    dfg['pp_pred'].plot(kind='line', ax=ax2, marker='o', legend='pp_pred')\n",
    "    plt.show()\n",
    "    print(dfg[(['decile',weight_name,'pp_act','pp_pred'])])"
   ]
  },
  {
   "cell_type": "code",
   "execution_count": 14,
   "metadata": {},
   "outputs": [
    {
     "name": "stdout",
     "output_type": "stream",
     "text": [
      "fold 5 complete\r"
     ]
    },
    {
     "data": {
      "image/png": "[encoded data removed]",
      "text/plain": [
       "<Figure size 864x432 with 2 Axes>"
      ]
     },
     "metadata": {
      "needs_background": "light"
     },
     "output_type": "display_data"
    },
    {
     "name": "stdout",
     "output_type": "stream",
     "text": [
      "   decile   ee_col  pp_act  pp_pred\n",
      "0    1.00 4,281.60   25.11    20.63\n",
      "1    2.00 4,510.96   66.47    47.31\n",
      "2    3.00 4,508.70   89.74    70.35\n",
      "3    4.00 4,508.87  102.76    89.48\n",
      "4    5.00 4,510.58   85.30   107.06\n",
      "5    6.00 4,508.76  139.97   123.22\n",
      "6    7.00 4,509.33  151.91   139.45\n",
      "7    8.00 4,509.04  189.72   157.26\n",
      "8    9.00 4,509.91  202.00   181.50\n",
      "9   10.00 4,736.46  328.60   251.22\n",
      "Time = 3 seconds\n"
     ]
    }
   ],
   "source": [
    "t1 = datetime.now()\n",
    "\n",
    "lift_cv_5_folds(data1_train, 1.5, .05, 4, 50, 'incloss_col', 'pred_loss', drop_cols, weight_name = 'ee_col', bins = 10)\n",
    "\n",
    "t2 = datetime.now()\n",
    "print('Time = ' + str((t2 - t1).seconds) + ' seconds')"
   ]
  },
  {
   "cell_type": "code",
   "execution_count": null,
   "metadata": {},
   "outputs": [],
   "source": [
    "### Now, let's use Ray"
   ]
  },
  {
   "cell_type": "code",
   "execution_count": 11,
   "metadata": {},
   "outputs": [],
   "source": [
    "### Original but with comments\n",
    "def lift_cv_5_folds(data,tweedie_p,bmf,max_depth,num_round,act, pred, drop_cols, weight_name = 'ee_col', bins = 10):\n",
    "    \n",
    "    x2 = pd.DataFrame() # We don't need this anymore\n",
    "    \n",
    "    ### This part we need to make each model fit result in the dataframe of the lift data\n",
    "    for fold in [1,2,3,4,5]:\n",
    "        mad_tt_split_cv_5_folds(data.copy(),fold)\n",
    "        \n",
    "        easy_gbm(d1_train,d1_test,weight_name,drop_cols,tweedie_p,bmf,max_depth,base_score,num_round)\n",
    "        lift_data = out_test.copy()\n",
    "    \n",
    "        lift_data['decile'] = (round(lift_data.sort_values(by = 'pred')[weight_name].cumsum()/lift_data[weight_name].sum(),2)*bins).apply(np.floor)\n",
    "        lift_data['decile'] = np.where(lift_data['decile'] + 1 > bins ,bins,lift_data['decile'] + 1)\n",
    "        \n",
    "        x = lift_data.groupby(['decile'], dropna = False).agg({weight_name: 'sum', act: 'sum', pred: 'sum'}).reset_index()\n",
    "        x2 = pd.concat([x2,x])\n",
    "        print('fold ' + str(fold) + ' complete', end = '\\r')\n",
    "    ### End    \n",
    "        \n",
    "    ### We will separate this part - it's just making the chart    \n",
    "    dfg = x2.groupby(['decile'], dropna = False).agg({weight_name: 'sum', act: 'sum', pred: 'sum'}).reset_index()\n",
    "    dfg['pp_act'] = dfg[act]/dfg[weight_name]\n",
    "    dfg['pp_pred'] = dfg[pred]/dfg[weight_name]\n",
    "    dfg.drop(columns = [act,pred], inplace = True)\n",
    "    \n",
    "    fig, ax = plt.subplots(figsize=(12,6))\n",
    "    ax2  = ax.twinx()\n",
    "    \n",
    "    y_max = np.where(dfg['pp_act'].max() > dfg['pp_pred'].max(),dfg['pp_act'].max(),dfg['pp_pred'].max())*1.20\n",
    "    ax2.set_ylim(0,y_max)\n",
    "    \n",
    "    dfg[weight_name].plot.bar(stacked=False, ax=ax, alpha=0.6)\n",
    "    dfg['pp_act'].plot(kind='line', ax=ax2, marker='o', linewidth = 0, legend='pp_act')\n",
    "    dfg['pp_pred'].plot(kind='line', ax=ax2, marker='o', legend='pp_pred')\n",
    "    plt.show()\n",
    "    print(dfg[(['decile',weight_name,'pp_act','pp_pred'])])"
   ]
  },
  {
   "cell_type": "code",
   "execution_count": 12,
   "metadata": {},
   "outputs": [],
   "source": [
    "### lift_chart alone\n",
    "def lift_chart(data, act, pred, weight_name = 'ee_col', bins = 10):\n",
    "    dfg = data.groupby(['decile'], dropna = False).agg({weight_name: 'sum', act: 'sum', pred: 'sum'}).reset_index()\n",
    "    dfg['pp_act'] = dfg[act]/dfg[weight_name]\n",
    "    dfg['pp_pred'] = dfg[pred]/dfg[weight_name]\n",
    "    dfg.drop(columns = [act,pred], inplace = True)\n",
    "\n",
    "    fig, ax = plt.subplots(figsize=(12,6))\n",
    "    ax2  = ax.twinx()\n",
    "\n",
    "    y_max = np.where(dfg['pp_act'].max() > dfg['pp_pred'].max(),dfg['pp_act'].max(),dfg['pp_pred'].max())*1.20\n",
    "    ax2.set_ylim(0,y_max)\n",
    "\n",
    "    dfg[weight_name].plot.bar(stacked=False, ax=ax, alpha=0.6)\n",
    "    dfg['pp_act'].plot(kind='line', ax=ax2, marker='o', linewidth = 0, legend='pp_act')\n",
    "    dfg['pp_pred'].plot(kind='line', ax=ax2, marker='o', legend='pp_pred')\n",
    "    plt.show()\n",
    "    print(dfg[(['decile',weight_name,'pp_act','pp_pred'])])"
   ]
  },
  {
   "cell_type": "code",
   "execution_count": 13,
   "metadata": {},
   "outputs": [
    {
     "name": "stderr",
     "output_type": "stream",
     "text": [
      "2024-02-27 14:57:52,236\tWARNING worker.py:1107 -- Warning: The remote function __main__.run_model has size 14704822 when pickled. It will be stored in Redis, which could cause memory issues. This may mean that its definition uses a large array or other object.\n"
     ]
    },
    {
     "data": {
      "image/png": "[encoded data removed]",
      "text/plain": [
       "<Figure size 864x432 with 2 Axes>"
      ]
     },
     "metadata": {
      "needs_background": "light"
     },
     "output_type": "display_data"
    },
    {
     "name": "stdout",
     "output_type": "stream",
     "text": [
      "   decile   ee_col  pp_act  pp_pred\n",
      "0    1.00 4,282.43   24.53    20.39\n",
      "1    2.00 4,509.84   59.85    47.46\n",
      "2    3.00 4,509.79   74.84    71.59\n",
      "3    4.00 4,507.92  109.08    90.88\n",
      "4    5.00 4,509.63  131.64   107.76\n",
      "5    6.00 4,510.48  121.98   124.02\n",
      "6    7.00 4,508.78  150.70   140.39\n",
      "7    8.00 4,509.71  160.19   158.99\n",
      "8    9.00 4,508.85  215.50   183.70\n",
      "9   10.00 4,736.79  333.03   253.35\n",
      "Time = 4 seconds\n"
     ]
    }
   ],
   "source": [
    "t1 = datetime.now()\n",
    "\n",
    "#Instead of the split function to keep Ray from making 5 duplicate dataframes\n",
    "data2 = data1_train.copy()\n",
    "data2['rand'] = np.random.randint(1, 101, data2.shape[0])\n",
    "data2['fold'] = 5\n",
    "nxt = data2['rand'] <= 80\n",
    "data2.loc[nxt,'fold'] = 4\n",
    "nxt = data2['rand'] <= 60\n",
    "data2.loc[nxt,'fold'] = 3\n",
    "nxt = data2['rand'] <= 40\n",
    "data2.loc[nxt,'fold'] = 2\n",
    "nxt = data2['rand'] <= 20\n",
    "data2.loc[nxt,'fold'] = 1\n",
    "\n",
    "@ray.remote\n",
    "def run_model(data, fold, tweedie_p, bmf, max_depth, num_round, act, pred, drop_cols, weight_name = 'ee_col', bins = 10):\n",
    "    easy_gbm(data.loc[data['fold'] != fold],data.loc[data['fold'] == fold],weight_name,drop_cols,tweedie_p,bmf,max_depth,base_score,num_round)\n",
    "    lift_data = out_test.copy()\n",
    "\n",
    "    lift_data['decile'] = (round(lift_data.sort_values(by = 'pred')[weight_name].cumsum()/lift_data[weight_name].sum(),2)*bins).apply(np.floor)\n",
    "    lift_data['decile'] = np.where(lift_data['decile'] + 1 > bins ,bins,lift_data['decile'] + 1)\n",
    "\n",
    "    x = lift_data.groupby(['decile'], dropna = False).agg({weight_name: 'sum', act: 'sum', pred: 'sum'}).reset_index()\n",
    "    return x\n",
    "\n",
    "futures = [run_model.remote(data2, fold + 1, 1.5, .05, 4, 50, 'incloss_col', 'pred_loss', drop_cols, weight_name = 'ee_col') for fold in range(5)] ## This is a list.  You can view them like this: ray.get(futures[0])\n",
    "\n",
    "x2 = pd.concat(ray.get(futures))\n",
    "\n",
    "lift_chart(x2, 'incloss_col', 'pred_loss', weight_name = 'ee_col', bins = 10)\n",
    "\n",
    "t2 = datetime.now()\n",
    "print('Time = ' + str((t2 - t1).seconds) + ' seconds')"
   ]
  },
  {
   "cell_type": "code",
   "execution_count": null,
   "metadata": {},
   "outputs": [],
   "source": [
    "### What the heck why is it slower?\n",
    "### It's because this sample data is small...let's triple the size and see what happens"
   ]
  },
  {
   "cell_type": "code",
   "execution_count": 15,
   "metadata": {},
   "outputs": [
    {
     "name": "stdout",
     "output_type": "stream",
     "text": [
      "(80134, 59)\n",
      "(240402, 59)\n"
     ]
    }
   ],
   "source": [
    "data2_big = pd.DataFrame()\n",
    "for i in range(3):\n",
    "    data2_big = pd.concat([data2_big,data2.copy()])\n",
    "    \n",
    "data2_big = data2_big.reset_index().drop(columns = ['index']) # GBM will fail with duplicate indexes\n",
    "    \n",
    "print(data2.shape)\n",
    "print(data2_big.shape)"
   ]
  },
  {
   "cell_type": "code",
   "execution_count": 16,
   "metadata": {},
   "outputs": [
    {
     "name": "stdout",
     "output_type": "stream",
     "text": [
      "fold 5 complete\r"
     ]
    },
    {
     "data": {
      "image/png": "[encoded data removed]",
      "text/plain": [
       "<Figure size 864x432 with 2 Axes>"
      ]
     },
     "metadata": {
      "needs_background": "light"
     },
     "output_type": "display_data"
    },
    {
     "name": "stdout",
     "output_type": "stream",
     "text": [
      "   decile    ee_col  pp_act  pp_pred\n",
      "0    1.00 12,850.96    8.49    20.79\n",
      "1    2.00 13,527.86   33.07    48.90\n",
      "2    3.00 13,528.47   52.62    73.12\n",
      "3    4.00 13,527.50   80.55    91.48\n",
      "4    5.00 13,528.00  100.03   108.55\n",
      "5    6.00 13,528.21  114.83   124.58\n",
      "6    7.00 13,529.64  144.81   140.10\n",
      "7    8.00 13,527.73  150.98   157.92\n",
      "8    9.00 13,526.90  225.04   182.86\n",
      "9   10.00 14,207.39  463.59   255.30\n",
      "Time = 10 seconds\n"
     ]
    }
   ],
   "source": [
    "t1 = datetime.now()\n",
    "\n",
    "lift_cv_5_folds(data2_big, 1.5, .05, 4, 50, 'incloss_col', 'pred_loss', drop_cols, weight_name = 'ee_col', bins = 10)\n",
    "\n",
    "t2 = datetime.now()\n",
    "print('Time = ' + str((t2 - t1).seconds) + ' seconds')"
   ]
  },
  {
   "cell_type": "code",
   "execution_count": 17,
   "metadata": {},
   "outputs": [
    {
     "name": "stderr",
     "output_type": "stream",
     "text": [
      "2024-02-27 14:59:05,767\tWARNING worker.py:1107 -- Warning: The remote function __main__.run_model has size 45796672 when pickled. It will be stored in Redis, which could cause memory issues. This may mean that its definition uses a large array or other object.\n"
     ]
    },
    {
     "data": {
      "image/png": "[encoded data removed]",
      "text/plain": [
       "<Figure size 864x432 with 2 Axes>"
      ]
     },
     "metadata": {
      "needs_background": "light"
     },
     "output_type": "display_data"
    },
    {
     "name": "stdout",
     "output_type": "stream",
     "text": [
      "   decile   ee_col  pp_act  pp_pred\n",
      "0    1.00 4,282.43   24.53    20.39\n",
      "1    2.00 4,509.84   59.85    47.46\n",
      "2    3.00 4,509.79   74.84    71.59\n",
      "3    4.00 4,507.92  109.08    90.88\n",
      "4    5.00 4,509.63  131.64   107.76\n",
      "5    6.00 4,510.48  121.98   124.02\n",
      "6    7.00 4,508.78  150.70   140.39\n",
      "7    8.00 4,509.71  160.19   158.99\n",
      "8    9.00 4,508.85  215.50   183.70\n",
      "9   10.00 4,736.79  333.03   253.35\n",
      "Time = 3 seconds\n"
     ]
    }
   ],
   "source": [
    "t1 = datetime.now()\n",
    "\n",
    "@ray.remote\n",
    "def run_model(data, fold, tweedie_p, bmf, max_depth, num_round, act, pred, drop_cols, weight_name = 'ee_col', bins = 10):\n",
    "    easy_gbm(data.loc[data['fold'] != fold],data.loc[data['fold'] == fold],weight_name,drop_cols,tweedie_p,bmf,max_depth,base_score,num_round)\n",
    "    lift_data = out_test.copy()\n",
    "\n",
    "    lift_data['decile'] = (round(lift_data.sort_values(by = 'pred')[weight_name].cumsum()/lift_data[weight_name].sum(),2)*bins).apply(np.floor)\n",
    "    lift_data['decile'] = np.where(lift_data['decile'] + 1 > bins ,bins,lift_data['decile'] + 1)\n",
    "\n",
    "    x = lift_data.groupby(['decile'], dropna = False).agg({weight_name: 'sum', act: 'sum', pred: 'sum'}).reset_index()\n",
    "    return x\n",
    "\n",
    "futures = [run_model.remote(data2, fold + 1, 1.5, .05, 4, 50, 'incloss_col', 'pred_loss', drop_cols, weight_name = 'ee_col') for fold in range(5)] ## This is a list.  You can view them like this: ray.get(futures[0])\n",
    "\n",
    "x2 = pd.concat(ray.get(futures))\n",
    "\n",
    "lift_chart(x2, 'incloss_col', 'pred_loss', weight_name = 'ee_col', bins = 10)\n",
    "\n",
    "t2 = datetime.now()\n",
    "print('Time = ' + str((t2 - t1).seconds) + ' seconds')"
   ]
  },
  {
   "cell_type": "code",
   "execution_count": null,
   "metadata": {},
   "outputs": [],
   "source": []
  }
 ],
 "metadata": {
  "kernelspec": {
   "display_name": "Python 3",
   "language": "python",
   "name": "python3"
  },
  "language_info": {
   "codemirror_mode": {
    "name": "ipython",
    "version": 3
   },
   "file_extension": ".py",
   "mimetype": "text/x-python",
   "name": "python",
   "nbconvert_exporter": "python",
   "pygments_lexer": "ipython3",
   "version": "3.8.5"
  }
 },
 "nbformat": 4,
 "nbformat_minor": 5
}
